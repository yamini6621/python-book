{
 "cells": [
  {
   "cell_type": "markdown",
   "metadata": {
    "slideshow": {
     "slide_type": "slide"
    }
   },
   "source": [
    "# File\n",
    "\n",
    "- Introduction\n",
    "- File Operation\n",
    "- Binary Data\n",
    "- Record Operation\n",
    "- More File Operations"
   ]
  },
  {
   "cell_type": "markdown",
   "metadata": {
    "slideshow": {
     "slide_type": "slide"
    }
   },
   "source": [
    "## Introduction\n",
    "\n",
    "Variables represent memory data that will be lost when the computer turns off. The memory is considered `primary storage` because it is manipulated by CPU instructions (programs) directly. To permanently store data, you use `secondary storage`, a hard driver or solid state disk (SSD).\n",
    "\n",
    "There are two common ways to store data in secondary storage: \n",
    "\n",
    "- file: store data in any structure/format you like.\n",
    "- database:  store data that follows a certain well-defined structure. \n",
    "\n",
    "The boundary between the two is not clear because databases use files to store its data and enforce a structure. Recently, the [document-oriented database](https://en.wikipedia.org/wiki/Document-oriented_database) allows more flexibility in data structure."
   ]
  },
  {
   "cell_type": "markdown",
   "metadata": {
    "slideshow": {
     "slide_type": "subslide"
    }
   },
   "source": [
    "### File Types\n",
    "\n",
    "Files can be categorized by the access mode (`random` or `sequential`) or data encoding (text or binary). Access mode is the order mechanism used by Python to access file data.\n",
    "\n",
    "- Random Access: you can go to any position and access the data there inside a file.\n",
    "- Sequential Access: you read/write files sequentially from the beginning to the end. We cover the sequential access method because most large secondary storage devices support the sequential access."
   ]
  },
  {
   "cell_type": "markdown",
   "metadata": {
    "slideshow": {
     "slide_type": "subslide"
    }
   },
   "source": [
    "### Data Encoding\n",
    "\n",
    "Data encoding is the method Python uses to interpret the file data.\n",
    "\n",
    "- Text: a text file contains data encoded as a sequence of characters. The actual character can be represented by different coding format such as `ascii` or `Unicode`. Many text files use first two or three bytes to mark the encoding type. Python will handle this for you automatically and it works correctly most of the time.\n",
    "- Binary: a binary file is treated as a sequence of bytes. It is up to the program to interpret the meaning of the data. Multi-media data such as video/audio/picture often use binary file."
   ]
  },
  {
   "cell_type": "markdown",
   "metadata": {},
   "source": [
    "### Files are Resources\n",
    "\n",
    "Files and databases are stored in secondary storage.\n",
    "\n",
    "To access files or databases, Python creates some data objects in memory to represent a file or a database connection.\n",
    "\n",
    "These objects uses system resources such as memory, process (a running program is a process), file descriptor etc. Therefore files and databases are often called resources in programming language."
   ]
  },
  {
   "cell_type": "markdown",
   "metadata": {},
   "source": [
    "### Resource Management\n",
    "\n",
    "The resource concept is important because each computer only has a limited amount of any resources. A typical computer has 1GB to 1TB memory, a maximum of `32_767` (x86) or `4_194_303` (x86_64) processes in Linux and a limit of `65_535` file descriptors in Linux.\n",
    "\n",
    "A program should return a resource after use to let other programs to use the resource. In terms of file operation, you should `close` a file after you `open` and use the file. It is easy to forget to `close` a file after using it and cause resource-leak. \n",
    "\n",
    "To prevent this from happening, you shouldn't manually `close` a file. Use the Python `with` statement when you open a file and Python will close the file automatically."
   ]
  },
  {
   "cell_type": "markdown",
   "metadata": {
    "slideshow": {
     "slide_type": "slide"
    }
   },
   "source": [
    "## File Operations\n",
    "\n",
    "- Open\n",
    "- Write\n",
    "- Read"
   ]
  },
  {
   "cell_type": "markdown",
   "metadata": {
    "slideshow": {
     "slide_type": "subslide"
    }
   },
   "source": [
    "### Open a File\n",
    "\n",
    "There are two ways to open a file.\n",
    "\n",
    "```python\n",
    "file_variable = open(filename, mode)\n",
    "with file_variable: \n",
    "    # read/write file operations\n",
    "    ...\n",
    "```\n",
    "\n",
    "Or combine the `with` and `open` using:\n",
    "\n",
    "```python\n",
    "with open(filename, mode) as file_variable:\n",
    "    # read/write file operations\n",
    "    ...\n",
    "```"
   ]
  },
  {
   "cell_type": "markdown",
   "metadata": {
    "slideshow": {
     "slide_type": "subslide"
    }
   },
   "source": [
    "### Open Multiple Files\n",
    "\n",
    "Similarly, there are two ways to open multiple files:\n",
    "\n",
    "```python\n",
    "file_variable1 = open(filename1, mode)\n",
    "file_variable2 = open(filename2, mode)\n",
    "with file_variable1, file_variable2: \n",
    "    # read/write the two files\n",
    "    ...\n",
    "```\n",
    "\n",
    "```python\n",
    "with open(filename1, mode) as file1, open(filename2, mode) as file2:\n",
    "    # read/write the two files\n",
    "    ...\n",
    "\n",
    "```"
   ]
  },
  {
   "cell_type": "markdown",
   "metadata": {
    "slideshow": {
     "slide_type": "subslide"
    }
   },
   "source": [
    "### Filename\n",
    "\n",
    "The `filename` can be a filename with or without a path. If the filename doesn't have a path prefix, the path is the current path that you run the Python program.\n",
    "\n",
    "The path prefix is different in Windows and Linux/MacOS.\n",
    "\n",
    "- In Windows, a path uses backslash to separate folders and is like `\"C:\\Users\\Alice\\tmp\\data.txt\"`.\n",
    "- In Linux/MacOS, a path uses slash to separate folder and is like `\"/users/alice/tmp/data.txt\"`."
   ]
  },
  {
   "cell_type": "markdown",
   "metadata": {
    "slideshow": {
     "slide_type": "subslide"
    }
   },
   "source": [
    "### Open Mode\n",
    "\n",
    "There are several `mode` values in Python but the three most used modes are:\n",
    "\n",
    "- `'r'`: reading-only. You can only read data from the file. This is the default mode if you don't provide a `mode` argument.\n",
    "- `'w'`: writing. If the file already exits, erase its content. Otherwise, create a new file with the specified filename.\n",
    "- `'a'`: appending. All data written to the file will be appended to the end.\n",
    "\n",
    "**Warning**: be careful when you use the `'w'` mode because it alway starts with an empty content. If the file already exists, the existing content will be erased."
   ]
  },
  {
   "cell_type": "markdown",
   "metadata": {
    "slideshow": {
     "slide_type": "slide"
    }
   },
   "source": [
    "## Write\n",
    "\n",
    "Use the `write(data)` method of a file object to write `data` to a file. You write strings to a text file as the following."
   ]
  },
  {
   "cell_type": "code",
   "execution_count": null,
   "metadata": {},
   "outputs": [],
   "source": [
    "FILENAME = 'names.txt'\n",
    "WRITE_MODE = 'w'\n",
    "\n",
    "with open(FILENAME, WRITE_MODE) as names_file:\n",
    "    names_file.write('Alice\\n')\n",
    "    names_file.write('Bob\\n')\n",
    "    names_file.write('Cindy\\n')"
   ]
  },
  {
   "cell_type": "markdown",
   "metadata": {
    "slideshow": {
     "slide_type": "subslide"
    }
   },
   "source": [
    "### Manual Close (Not Recommended)\n",
    "\n",
    "The the above `with` statement will close the file automatically after the three write operation in its code block.\n",
    "\n",
    "If you don't use `with` statement, you must close the file in a `finally` clause.\n",
    "\n",
    "It is not recommended because the code will be more complicated and easy to introduce bugs. Following is an example:"
   ]
  },
  {
   "cell_type": "code",
   "execution_count": null,
   "metadata": {
    "slideshow": {
     "slide_type": "subslide"
    }
   },
   "outputs": [],
   "source": [
    "FILENAME = 'names.txt'\n",
    "WRITE_MODE = 'w'\n",
    "\n",
    "# not recommended\n",
    "names_file = None\n",
    "try: \n",
    "    names_file = open(FILENAME, WRITE_MODE) \n",
    "\n",
    "    names_file.write('Alice\\n')\n",
    "    names_file.write('Bob\\n')\n",
    "    names_file.write('Cindy\\n')\n",
    "finally:\n",
    "    if names_file != None:\n",
    "        names_file.close() # to prevent leaking resource"
   ]
  },
  {
   "cell_type": "markdown",
   "metadata": {
    "slideshow": {
     "slide_type": "slide"
    }
   },
   "source": [
    "## Read\n",
    "\n",
    "There are different ways to read text file content.\n",
    "\n",
    "- Use `for` loop\n",
    "- Use `readline`\n",
    "- Use `readlines`"
   ]
  },
  {
   "cell_type": "markdown",
   "metadata": {
    "slideshow": {
     "slide_type": "subslide"
    }
   },
   "source": [
    "### Read with a `for` loop\n",
    "\n",
    "To read the text file content whose lines are separated by `\\n`, use a `for` loop that assigns each line to a variable. The line includes the ending `\\n` character."
   ]
  },
  {
   "cell_type": "code",
   "execution_count": null,
   "metadata": {},
   "outputs": [],
   "source": [
    "FILENAME = 'names.txt'\n",
    "READ_MODE = 'r'\n",
    "\n",
    "with open(FILENAME, READ_MODE) as names_file:\n",
    "    for line in names_file:\n",
    "        print(line)"
   ]
  },
  {
   "cell_type": "markdown",
   "metadata": {
    "slideshow": {
     "slide_type": "subslide"
    }
   },
   "source": [
    "### `readline()`\n",
    "\n",
    "The method returns an empty string `\"\"` when it reaches the end of the file.\n",
    "\n",
    "To read the whole file, you read first and check the content in a `while` loop. Following the an example:"
   ]
  },
  {
   "cell_type": "code",
   "execution_count": null,
   "metadata": {},
   "outputs": [],
   "source": [
    "FILENAME = 'names.txt'\n",
    "READ_MODE = 'r'\n",
    "\n",
    "with open(FILENAME, READ_MODE) as names_file:\n",
    "    line = names_file.readline()\n",
    "    while line != '':\n",
    "        print(line.rstrip('\\n'))\n",
    "        line = names_file.readline()"
   ]
  },
  {
   "cell_type": "markdown",
   "metadata": {
    "slideshow": {
     "slide_type": "subslide"
    }
   },
   "source": [
    "### `readlines()`\n",
    "\n",
    "The `readlines` method of a file object returns a list containing all lines of the file."
   ]
  },
  {
   "cell_type": "code",
   "execution_count": null,
   "metadata": {},
   "outputs": [],
   "source": [
    "FILENAME = 'names.txt'\n",
    "READ_MODE = 'r'\n",
    "\n",
    "with open(FILENAME, READ_MODE) as names_file:\n",
    "    lines = names_file.readlines()\n",
    "    for line in lines:\n",
    "        print(line.rstrip('\\n'))"
   ]
  },
  {
   "cell_type": "markdown",
   "metadata": {
    "slideshow": {
     "slide_type": "subslide"
    }
   },
   "source": [
    "### Which is the best?\n",
    "\n",
    "`readline()` is more complicated and is not recommended.\n",
    "\n",
    "The `readlines()` is similar to the `for line in name_file:` version, there is an important difference: the `readlines()` read all lines in one operation. If the file is very big, it may take a while before you can see the first print output. On the other side, `for line in name_file:` reads the text file line by line. It is often more efficient because you can start processing data once you have the first line. \n",
    "\n",
    "Therefore, it is recommended to use the first method: the `for` loop method to read text files that have many lines. "
   ]
  },
  {
   "cell_type": "markdown",
   "metadata": {
    "slideshow": {
     "slide_type": "slide"
    }
   },
   "source": [
    "## Binary Data\n",
    "\n",
    "Python uses **bytes** to represent binary values. A bytes object is a sequence of byte values. There are many ways to create a bytes object:\n",
    "\n",
    "- `bytes1 = bytes('hello world', 'ascii')`: a sequence of bytes from ascii chars.\n",
    "- `bytes2 = b'hello world'`: created from string literal, same as the above. \n",
    "- `bytes3 = b'hello \\x31\\x32`: from string and hexadecimal literals. \n",
    "- `bytes(100)`: a sequence of 100 bytes of `0`.\n",
    "- `bytes([1, 2, 3])`: three bytes from integers.\n",
    "\n",
    "The following is a script that reads a binary file:\n"
   ]
  },
  {
   "cell_type": "code",
   "execution_count": null,
   "metadata": {
    "slideshow": {
     "slide_type": "subslide"
    }
   },
   "outputs": [],
   "source": [
    "READ_BINARY = 'rb'\n",
    "filename = 'sample.jpg'\n",
    "\n",
    "with open(filename, READ_BINARY) as file:\n",
    "    contents = file.read()\n",
    "    print(f'Contents of binary file {filename}:\\n')\n",
    "    print(contents)"
   ]
  },
  {
   "cell_type": "markdown",
   "metadata": {
    "slideshow": {
     "slide_type": "slide"
    }
   },
   "source": [
    "## Record Operation\n",
    "\n",
    "It is a convention for a text file to use `records` and `fields` to organize data.  A `record` is a complete set of data that describe an entity. A record consists a single piece or multiple pieces of data. A single piece of data is called a `field`. For example\n",
    "\n",
    "- an employee entity has `id`, `name`, `department` to describe an employee information. The `id`, `name`, `department` are fields of a record. Each record has data for each employee.\n",
    "- a student may have `name`, `score` to describe the testing score for a student. A course has multiple records and each record represents one student. The `name`, `score` are fields of a student record."
   ]
  },
  {
   "cell_type": "markdown",
   "metadata": {
    "slideshow": {
     "slide_type": "subslide"
    }
   },
   "source": [
    "### Processing Records\n",
    "\n",
    "There are many ways to process record data in a text file. Two popular options are:\n",
    "\n",
    "- a line as a record: each line represents a record. Use field delimiter to separate different files in a record.\n",
    "- a line as a field: each line represents a field. Use the number of fields to determine the record boundary. For example, for the above employee record that has three fields of `id`, `name` and `department`, three lines form a record.\n",
    "\n",
    "Most applications use the method of `a line as a record` because it is more compact and easy to process. "
   ]
  },
  {
   "cell_type": "markdown",
   "metadata": {
    "slideshow": {
     "slide_type": "subslide"
    }
   },
   "source": [
    "### Fields\n",
    "\n",
    "there are many different ways to delimit the fields in a line. The two most popular methods are:\n",
    "\n",
    "- white space delimiter: it uses a white space character to separate different fields. The white space characters include ` ` (space), `\\t` (horizontal tab), `\\v` (vertical tab), `\\f` (feed), `\\r` (carriage return). The string method [`split()`](https://docs.python.org/3/library/stdtypes.html#str.split) can be used to split fields of a line. `\\n` (new line) is also a white space character but it is used for record delimiter.\n",
    "- comma separated value (CSV): this is the most common import and export format for spreadsheets and database. Python has a built-in [`csv` module](https://docs.python.org/3/library/csv.html) to process csv files."
   ]
  },
  {
   "cell_type": "markdown",
   "metadata": {
    "slideshow": {
     "slide_type": "subslide"
    }
   },
   "source": [
    "### Writing Records\n",
    "\n",
    "Writing is simple because all you need is to write a string that has all the fields and ends with a new line using `write` method. You can separate fields using any white space character but one or more spaces are common. "
   ]
  },
  {
   "cell_type": "code",
   "execution_count": null,
   "metadata": {
    "slideshow": {
     "slide_type": "subslide"
    }
   },
   "outputs": [],
   "source": [
    "FILENAME = 'scores.txt'\n",
    "WRITE_MODE = 'w'\n",
    "\n",
    "with open(FILENAME, WRITE_MODE) as names_file:\n",
    "    names_file.write('Alice 97\\n')\n",
    "\n",
    "    # demo of writing variable data\n",
    "    name = 'Bob'\n",
    "    score = 93\n",
    "    names_file.write(f'{name} {score}\\n')\n",
    "\n",
    "    names_file.write('Cindy 95\\n')"
   ]
  },
  {
   "cell_type": "markdown",
   "metadata": {
    "slideshow": {
     "slide_type": "subslide"
    }
   },
   "source": [
    "### Reading Records\n",
    "\n",
    "Reading a record needs to get the fields from a record. The `str.split()` makes the task simple. "
   ]
  },
  {
   "cell_type": "code",
   "execution_count": null,
   "metadata": {},
   "outputs": [],
   "source": [
    "FILENAME = 'scores.txt'\n",
    "READ_MODE = 'r'\n",
    "\n",
    "with open(FILENAME, READ_MODE) as names_file:\n",
    "    for line in names_file:\n",
    "        name, score = line.split()\n",
    "        print(f'Name: {name}, Score: {score}')"
   ]
  },
  {
   "cell_type": "markdown",
   "metadata": {
    "slideshow": {
     "slide_type": "slide"
    }
   },
   "source": [
    "## More File Operations\n",
    "\n",
    "- Removing and Renaming Files\n",
    "- UPdating Text Files"
   ]
  },
  {
   "cell_type": "markdown",
   "metadata": {},
   "source": [
    "### Removing and Renaming Files\n",
    "\n",
    "The built-in [`os` module](https://docs.python.org/3/library/os.html) is used to provide operating system functions such as removing, renaming and checking existence of a file. Following is an example."
   ]
  },
  {
   "cell_type": "code",
   "execution_count": null,
   "metadata": {
    "slideshow": {
     "slide_type": "subslide"
    }
   },
   "outputs": [],
   "source": [
    "import os # first import the module\n",
    "\n",
    "FILENAME1 = 'test1.txt'\n",
    "FILENAME2 = 'test2.txt'\n",
    "WRITE_MODE = 'w'\n",
    "\n",
    "def checkExistence(location):\n",
    "    \"\"\"check the existence of the two files\"\"\"\n",
    "    isExist1 = os.path.exists(FILENAME1)\n",
    "    isExist2 = os.path.exists(FILENAME2)\n",
    "    print(f'[{location}] {FILENAME1} exists: {isExist1}, {FILENAME2} exists: {isExist2}')\n",
    "\n",
    "# create a file first\n",
    "with open(FILENAME1, WRITE_MODE) as names_file:\n",
    "    names_file.write('test message\\n')\n",
    "checkExistence('After create')\n",
    "\n",
    "os.rename(FILENAME1, FILENAME2)\n",
    "checkExistence('after rename')\n",
    "\n",
    "os.remove(FILENAME2)\n",
    "checkExistence('after remove')"
   ]
  },
  {
   "cell_type": "markdown",
   "metadata": {
    "slideshow": {
     "slide_type": "subslide"
    }
   },
   "source": [
    "### Updating Text Files\n",
    "\n",
    "Update existing file content is tricky because the file content is stored in disk in a fixed format. The following three records:\n",
    "\n",
    "```text\n",
    "Alice 97\n",
    "Bob 93\n",
    "Cindy 95\n",
    "```\n",
    "\n",
    "They are stored in a disk as `Alice 97\\nBob 93\\nCindy 95\\n`. It is easy to change a field with a shorter one and leave some spaces. But changing a field to a longer one will move all later content to a different place."
   ]
  },
  {
   "cell_type": "markdown",
   "metadata": {
    "slideshow": {
     "slide_type": "subslide"
    }
   },
   "source": [
    "### Updating Pattern\n",
    "\n",
    "the pattern to update file is a multi-step task:\n",
    "\n",
    "- open a source file for read\n",
    "- open a temp file for write\n",
    "- read data from the source file, make required changes and save to the temp file\n",
    "- remove the source file\n",
    "- rename the temp file to the name of the source file\n",
    "\n",
    "The following is an example to change Bob's score to `90` and change the name `Cindy` to `Cynthia`."
   ]
  },
  {
   "cell_type": "code",
   "execution_count": null,
   "metadata": {
    "slideshow": {
     "slide_type": "subslide"
    }
   },
   "outputs": [],
   "source": [
    "import os\n",
    "\n",
    "FILENAME = 'scores.txt'\n",
    "TEMP_FILE = 'temp'\n",
    "READ_MODE = 'r'\n",
    "WRITE_MODE = 'w'\n",
    "\n",
    "source_file = open(FILENAME, READ_MODE)\n",
    "temp_file = open(TEMP_FILE, WRITE_MODE)\n",
    "with source_file, temp_file:\n",
    "    for line in source_file:\n",
    "        name, score = line.split()\n",
    "        \n",
    "        if name == 'Bob':\n",
    "            score = 90\n",
    "        \n",
    "        if name == 'Cindy':\n",
    "            name = 'Cynthia'\n",
    "        \n",
    "        temp_file.write(f'{name} {score}\\n')\n",
    "\n",
    "os.remove(FILENAME)\n",
    "os.rename(TEMP_FILE, FILENAME)"
   ]
  }
 ],
 "metadata": {
  "kernelspec": {
   "display_name": "Python 3",
   "language": "python",
   "name": "python3"
  },
  "language_info": {
   "name": "python",
   "version": "3.11.4"
  },
  "orig_nbformat": 4
 },
 "nbformat": 4,
 "nbformat_minor": 2
}
