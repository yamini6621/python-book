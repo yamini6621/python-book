{
 "cells": [
  {
   "cell_type": "markdown",
   "metadata": {
    "slideshow": {
     "slide_type": "slide"
    }
   },
   "source": [
    "# Branch Statements\n",
    "\n",
    "- Overview\n",
    "- The `if` Statement\n",
    "- The `pass` Statement\n",
    "- The `match` Statement"
   ]
  },
  {
   "cell_type": "markdown",
   "metadata": {
    "slideshow": {
     "slide_type": "subslide"
    }
   },
   "source": [
    "### Control Flow Overview\n",
    "\n",
    "There are two type of activities happening all the time:\n",
    "\n",
    "- You need to take different actions for different conditions. You take umbrella with you when it rains. A doctor writes different prescriptions for different symptoms and so on and so forth.\n",
    "- You often repeat an operation until certain conditions are met. For example, keep running for one hour, lift 100lbs for 12 times, etc.\n",
    "\n",
    "In both types, you need to control activities based on certain conditions. Python has four compound statements for *normal* control flow purpose:\n",
    "\n",
    "- branching: `if` and `match` statements\n",
    "- Looping: `while` and `for` statements\n",
    "\n",
    "When an exception happens in code execution, the normal execution flow stops. Python provides `try` statement to control exception handling. It is a big topic that will be covered later."
   ]
  },
  {
   "cell_type": "markdown",
   "metadata": {
    "slideshow": {
     "slide_type": "subslide"
    }
   },
   "source": [
    "### Clauses and Indentatioin\n",
    "\n",
    "All control flow statements are compound statements that contain multiple statements. A distinguish feature of Python is its use of indentation levels (leading spaces or tabs) to define the boundary of a compound statement. Most languages use indentation and specific delimiters such as parentheses `()` or curly bracket `{}`. Though it is possible to use one or more spaces/tabs as an indentation level, the suggested standard is 4 space character. Please stay with this suggestion.\n",
    "\n",
    "A compound statement has one or more *clauses*. A clause consits of a *header* and a *suite*. A header starts with a special keyword such as `if`  or `for` and ends with a colon `:`. The clause headers of a compound statement are all at the same indentation level.\n",
    "\n",
    "A header is followed by a group of statements that belong to the same clause. The group of statements is called a *code block* or a *code suite*. All statements of a suite have the same level of indentation that is one level deeper than its clause header."
   ]
  },
  {
   "cell_type": "markdown",
   "metadata": {
    "slideshow": {
     "slide_type": "subslide"
    }
   },
   "source": [
    "### Conditions Tests\n",
    "\n",
    "Python uses **Boolean expressions** to represent conditions/tests used in compound statement clause headers. Boolean expressions are named after George Boole, an English mathematician who invented a logic system to compute true and false in the 1800s. A Boolean expression uses four types of operators: \n",
    "\n",
    "- relational operators: compare two values to test a condition, evaluated to a boolean value of `True` or `False`.\n",
    "- membership operators: `in` and `not in` are used to find if a value is a member of a sequence.\n",
    "- identity operators: `is` and `is not` are used to check if *two variables* refer to the same object.\n",
    "- logical operators: `not`, `and`, and `or` are used to create a complex Boolean expression that consists of multiple subexpression/conditions. `and` and `or` operators support short circuiting."
   ]
  },
  {
   "cell_type": "markdown",
   "metadata": {
    "slideshow": {
     "slide_type": "slide"
    }
   },
   "source": [
    "## `if` Statement\n",
    "\n",
    "It is common that you want to take some actions if a certain condition is true. In Python, it is coded in an `if` statement. At a conceptual level, you can think that an `if` statement as the following digram:\n",
    "\n",
    "![if statement](images/if-statement.png)\n"
   ]
  },
  {
   "cell_type": "markdown",
   "metadata": {
    "slideshow": {
     "slide_type": "subslide"
    }
   },
   "source": [
    "### The `if` Syntax\n",
    "\n",
    "The syntax for an `if statement` is as the following:\n",
    "\n",
    "```python\n",
    "if condition:\n",
    "    statement\n",
    "    statement\n",
    "    etc.\n",
    "```\n",
    "\n",
    "The line `if condition:` is called an `if clause`. One or multiple statements below it, are grouped together and is called a `code block` or a `code suite`. *All statments in a code block have the same level of indentation*, i.e., they have the same number of leading spaces. Python style guide suggests using 4-space characters to indent a code block from its `if clause`. Forget tabs. \n",
    "\n",
    "When Python runs an `if` statement, it evaluates the condition -- a boolean expression. If the boolean expression is `True`, it runs the code block following it. If the expression is false, it skips the code block following it. For example, "
   ]
  },
  {
   "cell_type": "code",
   "execution_count": null,
   "metadata": {
    "slideshow": {
     "slide_type": "fragment"
    }
   },
   "outputs": [],
   "source": [
    "number = int(input(\"Please enter an integer: \"))\n",
    "if number < 0: \n",
    "    print(f'Negative input {number} changes to zero')\n",
    "    number = 0\n",
    "\n",
    "print(f'Double of {number} is {number * 2}')"
   ]
  },
  {
   "cell_type": "markdown",
   "metadata": {
    "slideshow": {
     "slide_type": "subslide"
    }
   },
   "source": [
    "### The `if-else` Statement\n",
    "\n",
    "It is common for people to take some actions if a condition is true and take some other actions if the same condition is false. For example, in a Pass/Fail class, if a student's score is greater than or equal to 60 point, the grade is `Pass`, otherwise, the grade is `Fail`. The two-branch decsion can be depicted using the following flow chart:\n",
    "\n",
    "![if-else-statement](images/if-else-statement.jpg)"
   ]
  },
  {
   "cell_type": "markdown",
   "metadata": {
    "slideshow": {
     "slide_type": "subslide"
    }
   },
   "source": [
    "### The `if-else` Syntax\n",
    "\n",
    "You can code the two-branch decision using the `if-else` statement that has the following syntax:\n",
    "\n",
    "```python\n",
    "if condition:\n",
    "    statement\n",
    "    statement\n",
    "    ...\n",
    "else:\n",
    "   statement\n",
    "   statement\n",
    "   ...\n",
    "```\n",
    "\n",
    "The `if-else` statement has two clauses: an `if` clause and a an `else` clause. There is a code block for the `if` clause and a code block for `else` clause. "
   ]
  },
  {
   "cell_type": "code",
   "execution_count": null,
   "metadata": {
    "slideshow": {
     "slide_type": "fragment"
    }
   },
   "outputs": [],
   "source": [
    "PASS_SCORE = 60\n",
    "score = int(input(\"Please enter your score points: \"))\n",
    "if score >= PASS_SCORE: \n",
    "    print(f'Score of {score} is a pass score.')\n",
    "    grade = 'Pass'\n",
    "else:\n",
    "    print(f'Score of {score} is a fail score.')\n",
    "    grade = 'Fail'\n",
    "\n",
    "print(f'Your grade is {grade}')"
   ]
  },
  {
   "cell_type": "markdown",
   "metadata": {
    "slideshow": {
     "slide_type": "subslide"
    }
   },
   "source": [
    "### Multiple Branches\n",
    "\n",
    "For a course that is graded as `A`, `B`, `C`, `D` and `F`, you need more than two decision branches. You can use multiple `if-else` statement to process multiple branches as the following:"
   ]
  },
  {
   "cell_type": "code",
   "execution_count": null,
   "metadata": {},
   "outputs": [],
   "source": [
    "A_SCORE = 90\n",
    "B_SCORE = 80\n",
    "C_SCORE = 70\n",
    "D_SCORE = 60\n",
    "\n",
    "score = int(input(\"Please enter your score: \"))\n",
    "\n",
    "if score >= A_SCORE:\n",
    "    grade = \"A\"\n",
    "else:\n",
    "    if score >= B_SCORE:\n",
    "        grade = \"B\"\n",
    "    else:\n",
    "        if score >= C_SCORE:\n",
    "            grade = \"C\"\n",
    "        else:\n",
    "            if score >= D_SCORE:\n",
    "                grade = \"D\"\n",
    "            else:\n",
    "                grade = \"F\"\n",
    "\n",
    "print(f'The grade for score {score} is {grade}')"
   ]
  },
  {
   "cell_type": "markdown",
   "metadata": {
    "slideshow": {
     "slide_type": "subslide"
    }
   },
   "source": [
    "### The `if-elif-else` Statement\n",
    "\n",
    "The previous code works correctly but many nested indentations are hard to read. The `if-elif-else` statement is used for three-or-more decision branches. The syntax is as the following: \n",
    "\n",
    "```python\n",
    "if condition:\n",
    "    statement\n",
    "    ...\n",
    "elif condition:\n",
    "    statement\n",
    "    ...\n",
    "elif condition:\n",
    "    statement\n",
    "    ...\n",
    "# more elif if needed\n",
    "else:\n",
    "    statement\n",
    "    ...\n",
    "```"
   ]
  },
  {
   "cell_type": "code",
   "execution_count": null,
   "metadata": {
    "slideshow": {
     "slide_type": "fragment"
    }
   },
   "outputs": [],
   "source": [
    "# A better version\n",
    "A_SCORE = 90\n",
    "B_SCORE = 80\n",
    "C_SCORE = 70\n",
    "D_SCORE = 60\n",
    "\n",
    "score = int(input(\"Please enter your score: \"))\n",
    "\n",
    "if score >= A_SCORE:\n",
    "    grade = \"A\"\n",
    "elif score >= B_SCORE:\n",
    "    grade = \"B\"\n",
    "elif score >= C_SCORE:\n",
    "    grade = \"C\"\n",
    "elif score >= D_SCORE:\n",
    "    grade = \"D\"\n",
    "else:\n",
    "    grade = \"F\"\n",
    "\n",
    "print(f'The grade for score {score} is {grade}')"
   ]
  },
  {
   "cell_type": "markdown",
   "metadata": {
    "slideshow": {
     "slide_type": "subslide"
    }
   },
   "source": [
    "### Compound Conditioins Are Tricky\n",
    "\n",
    "In real applications, the conditions could be very complex. Domain knowledge is important. To write correct and reliable code, spliting compound conditions into simple ones and use meaningful name for each condition. You should write thorough test cases for different scenarios.\n",
    "\n",
    "As an example, is the following logic correct? If not, how to fix it?\n",
    "\n"
   ]
  },
  {
   "cell_type": "code",
   "execution_count": null,
   "metadata": {},
   "outputs": [],
   "source": [
    "number1 = int(input(\"Please enter number 1: \"))\n",
    "number2 = int(input(\"Please enter number 2: \"))\n",
    "\n",
    "if (number1 > 0) and (number2 > 0):\n",
    "    print(\"Both positive.\")\n",
    "elif (number1 < 0) and (number2 < 0):\n",
    "    print(\"Both negative.\")\n",
    "else:\n",
    "    print(\"One number is positive or zero and another is negative or zero.\")"
   ]
  },
  {
   "cell_type": "markdown",
   "metadata": {
    "slideshow": {
     "slide_type": "slide"
    }
   },
   "source": [
    "### Empty code block\n",
    "\n",
    "During the development, you may need time to decide the code block for a certain condition. However, Python reports a syntax error if a conditional clause is empty. For example, the following code has a syntax error: `IndentationError: expected an indented block`. \n",
    "\n",
    "```python\n",
    "x = 5\n",
    "if x > 0:\n",
    "    # haven't decided what to do here\n",
    "\n",
    "print('Done')\n",
    "```\n",
    "\n"
   ]
  },
  {
   "cell_type": "markdown",
   "metadata": {
    "slideshow": {
     "slide_type": "subslide"
    }
   },
   "source": [
    "### The `pass` Statement\n",
    "\n",
    "You can put a `pass` statement as a placeholder to fix the empty block synatx error.\n",
    "\n",
    "```python\n",
    "x = 5\n",
    "if x > 0:\n",
    "    pass # it means that we will add code later\n",
    "\n",
    "print('Done')\n",
    "```\n",
    "\n",
    "In addition to the `if`,`elif` and `else` clauses, the `pass` can also be used in a function definition.\n",
    "\n",
    "```python\n",
    "def my_function():\n",
    "    pass\n",
    "```"
   ]
  },
  {
   "cell_type": "markdown",
   "metadata": {
    "slideshow": {
     "slide_type": "subslide"
    }
   },
   "source": [
    "### The `Ellipsis` Value\n",
    "\n",
    "Python has a built-in `ellipsis` type that has a single built-in constant value of `Ellipsis`. It can also be written as a literal value of `...`.\n",
    "\n",
    "Many people use it as a placeholder for unwritten code or function documentation of type hints. It is often written at the same line of its clause header or function defintion."
   ]
  },
  {
   "cell_type": "code",
   "execution_count": null,
   "metadata": {},
   "outputs": [],
   "source": [
    "x = 5\n",
    "if x > 0:\n",
    "    ...\n",
    "\n",
    "print('Done')\n",
    "\n",
    "def my_function(x: int): ..."
   ]
  },
  {
   "cell_type": "markdown",
   "metadata": {
    "slideshow": {
     "slide_type": "subslide"
    }
   },
   "source": [
    "### Conditional Expression\n",
    "\n",
    "The `if` and `else` keywords are also used in a *conditional expression* to make code simpler. It is better to know this syntax because some people like it. Other people think that it is confusing and avoid it totally.\n",
    "\n",
    "Below is a common logic in many applications:\n",
    "\n",
    "```python\n",
    "if cond:\n",
    "    result = x\n",
    "else:\n",
    "    result = y\n",
    "```\n",
    "\n",
    "The four lines of code assign different value to the `result` based on a certain condition. If the condition logic is simple, Python you write it in one line: `result = x if cond else y`.\n",
    "\n",
    "The code `x if cond else y` is called a conditional expression because it generates a value that can be used in anywhere a value can be used. Here, here the value is used an assignment statement."
   ]
  },
  {
   "cell_type": "markdown",
   "metadata": {
    "slideshow": {
     "slide_type": "slide"
    }
   },
   "source": [
    "## The `match` Statment\n",
    "\n",
    "The 2021 release of Python 3.10 introduced a new control flow statement: the `match` statement that uses the *structural pattern match* to control code execution. The structural pattern match is powerful because it can match data structures inside a composite data type such as a list, a tuple or a dictionary.\n",
    "\n",
    "Below is its syntax\n",
    "\n",
    "```python\n",
    "match expression:\n",
    "    case pattern1:\n",
    "        # code block 1\n",
    "    case pattern2:\n",
    "        # code block 2\n",
    "    case _: # wild card matches everything\n",
    "        # code block for others\n",
    "        \n",
    "```\n",
    "\n",
    "A pattern match can be simple value match, structural match, and even combined with conditions. The Python document [pep-0636](https://peps.python.org/pep-0636/) has more example."
   ]
  },
  {
   "cell_type": "code",
   "execution_count": null,
   "metadata": {
    "slideshow": {
     "slide_type": "subslide"
    }
   },
   "outputs": [],
   "source": [
    "# A simple value match demo\n",
    "# you can combine multiple matches\n",
    "status = int(input(\"Plese enter HTTP status code: \"))\n",
    "match status:\n",
    "    case 200:\n",
    "        status_text = \"OK\"\n",
    "    case 301:\n",
    "        status_text = \"Moved Permanently\"\n",
    "    case 400 | 401:\n",
    "        status_text = \"Bad Request or Unauthorized\" \n",
    "    case 404:\n",
    "        status_text = \"Not found\"\n",
    "    case 500:\n",
    "        status_text = \"Internal Server Error\"\n",
    "    case _:\n",
    "        status_text = \"Something's wrong with the Internet\"\n",
    "\n",
    "print(status_text)"
   ]
  },
  {
   "cell_type": "code",
   "execution_count": null,
   "metadata": {
    "slideshow": {
     "slide_type": "subslide"
    }
   },
   "outputs": [],
   "source": [
    "# A structural match demo\n",
    "# You can use variable to match different parts\n",
    "# You can use if-guard to check more conditions\n",
    "\n",
    "x_position = float(input(\"Plese enter x coordinate: \"))\n",
    "y_position = float(input(\"Plese enter y coordinate: \"))\n",
    "point = x_position, y_position\n",
    "\n",
    "match point:\n",
    "    case (0, 0):\n",
    "        message = \"The Origin\"\n",
    "    case (0, y):\n",
    "        message = f\"In x-aixs: Y={y}\"\n",
    "    case (x, 0):\n",
    "        message = f\"In y-axis: X={x}\"\n",
    "    case (x, y) if x == y:\n",
    "        message = f\"On diagonal of X=Y={x}\"\n",
    "    case (x, y):\n",
    "        message = f\"Not on the diagnonal X={x}, Y={y}\"\n",
    "\n",
    "print(message)\n"
   ]
  }
 ],
 "metadata": {
  "kernelspec": {
   "display_name": "Python 3",
   "language": "python",
   "name": "python3"
  },
  "language_info": {
   "codemirror_mode": {
    "name": "ipython",
    "version": 3
   },
   "file_extension": ".py",
   "mimetype": "text/x-python",
   "name": "python",
   "nbconvert_exporter": "python",
   "pygments_lexer": "ipython3",
   "version": "3.11.4"
  },
  "orig_nbformat": 4
 },
 "nbformat": 4,
 "nbformat_minor": 2
}
