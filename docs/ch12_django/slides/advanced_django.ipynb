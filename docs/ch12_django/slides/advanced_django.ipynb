{
 "cells": [
  {
   "cell_type": "markdown",
   "metadata": {
    "slideshow": {
     "slide_type": "slide"
    }
   },
   "source": [
    "# Advanced Django\n",
    "\n",
    "- Unit Test\n",
    "- View Test\n",
    "- View\n",
    "- Template\n",
    "- Forms"
   ]
  },
  {
   "cell_type": "markdown",
   "metadata": {
    "slideshow": {
     "slide_type": "slide"
    }
   },
   "source": [
    "## Test\n",
    "\n",
    "Django uses the `unittest` standard library and provides a class-based approach for unit tests.\n",
    "\n",
    "To test a view, Python also provides a test client that simulates a Web browser to send `GET` or `POST` HTTP requests to the Web server and check the responses.\n"
   ]
  },
  {
   "cell_type": "markdown",
   "metadata": {
    "slideshow": {
     "slide_type": "subslide"
    }
   },
   "source": [
    "### Unit Test\n",
    "\n",
    "Django creates a `tests.py` for each app to allow you write test classes.\n",
    "\n",
    "A test class inherits from `TestCase` and define test methods.\n",
    "\n",
    "For methods whose names start with `test`, `python3 manage.py test` will run those methods."
   ]
  },
  {
   "cell_type": "code",
   "execution_count": null,
   "metadata": {
    "slideshow": {
     "slide_type": "subslide"
    }
   },
   "outputs": [],
   "source": [
    "# polls/tests.py\n",
    "\n",
    "import datetime\n",
    "\n",
    "from django.test import TestCase\n",
    "from django.utils import timezone\n",
    "\n",
    "from .models import Question\n",
    "\n",
    "\n",
    "class QuestionModelTests(TestCase):\n",
    "    def test_was_published_recently_with_future_question(self):\n",
    "        \"\"\"\n",
    "        was_published_recently() returns False for questions whose publish_date\n",
    "        is in the future.\n",
    "        \"\"\"\n",
    "        time = timezone.now() + datetime.timedelta(days=30)\n",
    "        future_question = Question(publish_date=time)\n",
    "        self.assertIs(future_question.was_published_recently(), False)\n",
    "\n",
    "    def test_was_published_recently_with_old_question(self):\n",
    "        \"\"\"\n",
    "            was_published_recently() returns False for questions whose publish_date\n",
    "        is older than 1 day.\n",
    "        \"\"\"\n",
    "        time = timezone.now() - datetime.timedelta(days=1, seconds=1)\n",
    "        old_question = Question(publish_date=time)\n",
    "        self.assertIs(old_question.was_published_recently(), False)\n",
    "\n",
    "    def test_was_published_recently_with_recent_question(self):\n",
    "        \"\"\"\n",
    "        was_published_recently() returns True for questions whose publish_date\n",
    "        is within the last day.\n",
    "        \"\"\"\n",
    "        time = timezone.now() - datetime.timedelta(hours=23, minutes=59, seconds=59)\n",
    "        recent_question = Question(publish_date=time)\n",
    "        self.assertIs(recent_question.was_published_recently(), True)\n"
   ]
  },
  {
   "cell_type": "markdown",
   "metadata": {
    "slideshow": {
     "slide_type": "slide"
    }
   },
   "source": [
    "### View Test\n",
    "\n",
    "Django provides a test Client to simulate a user interacting with the code at the view level. "
   ]
  },
  {
   "cell_type": "code",
   "execution_count": null,
   "metadata": {
    "slideshow": {
     "slide_type": "subslide"
    }
   },
   "outputs": [],
   "source": [
    "from django.urls import reverse\n",
    "\n",
    "def create_question(question_text, days):\n",
    "    \"\"\"\n",
    "    Create a question with the given `question_text` and published the\n",
    "    given number of `days` offset to now (negative for questions published\n",
    "    in the past, positive for questions that have yet to be published).\n",
    "    \"\"\"\n",
    "    time = timezone.now() + datetime.timedelta(days=days)\n",
    "    return Question.objects.create(question_text=question_text, publish_date=time)\n",
    "\n",
    "\n",
    "class QuestionIndexViewTests(TestCase):\n",
    "    def test_no_questions(self):\n",
    "        \"\"\"\n",
    "        If no questions exist, an appropriate message is displayed.\n",
    "        \"\"\"\n",
    "        response = self.client.get(reverse(\"polls:index\"))\n",
    "        self.assertEqual(response.status_code, 200)\n",
    "        self.assertContains(response, \"No polls are available.\")\n",
    "        self.assertQuerySetEqual(response.context[\"latest_question_list\"], [])\n",
    "\n",
    "    def test_past_question(self):\n",
    "        \"\"\"\n",
    "        Questions with a publish_date in the past are displayed on the\n",
    "        index page.\n",
    "        \"\"\"\n",
    "        question = create_question(question_text=\"Past question.\", days=-30)\n",
    "        response = self.client.get(reverse(\"polls:index\"))\n",
    "        self.assertQuerySetEqual(\n",
    "            response.context[\"latest_question_list\"],\n",
    "            [question],\n",
    "        )\n",
    "\n",
    "    def test_future_question(self):\n",
    "        \"\"\"\n",
    "        Questions with a publish_date in the future aren't displayed on\n",
    "        the index page.\n",
    "        \"\"\"\n",
    "        create_question(question_text=\"Future question.\", days=30)\n",
    "        response = self.client.get(reverse(\"polls:index\"))\n",
    "        self.assertContains(response, \"No polls are available.\")\n",
    "        self.assertQuerySetEqual(response.context[\"latest_question_list\"], [])\n",
    "\n",
    "    def test_future_question_and_past_question(self):\n",
    "        \"\"\"\n",
    "        Even if both past and future questions exist, only past questions\n",
    "        are displayed.\n",
    "        \"\"\"\n",
    "        question = create_question(question_text=\"Past question.\", days=-30)\n",
    "        create_question(question_text=\"Future question.\", days=30)\n",
    "        response = self.client.get(reverse(\"polls:index\"))\n",
    "        self.assertQuerySetEqual(\n",
    "            response.context[\"latest_question_list\"],\n",
    "            [question],\n",
    "        )\n",
    "\n",
    "    def test_two_past_questions(self):\n",
    "        \"\"\"\n",
    "        The questions index page may display multiple questions.\n",
    "        \"\"\"\n",
    "        question1 = create_question(question_text=\"Past question 1.\", days=-30)\n",
    "        question2 = create_question(question_text=\"Past question 2.\", days=-5)\n",
    "        response = self.client.get(reverse(\"polls:index\"))\n",
    "        self.assertQuerySetEqual(\n",
    "            response.context[\"latest_question_list\"],\n",
    "            [question2, question1],\n",
    "        )\n",
    "\n",
    "class QuestionDetailViewTests(TestCase):\n",
    "    def test_future_question(self):\n",
    "        \"\"\"\n",
    "        The detail view of a question with a publish_date in the future\n",
    "        returns a 404 not found.\n",
    "        \"\"\"\n",
    "        future_question = create_question(question_text=\"Future question.\", days=5)\n",
    "        url = reverse(\"polls:detail\", args=(future_question.id,))\n",
    "        response = self.client.get(url)\n",
    "        self.assertEqual(response.status_code, 404)\n",
    "\n",
    "    def test_past_question(self):\n",
    "        \"\"\"\n",
    "        The detail view of a question with a publish_date in the past\n",
    "        displays the question's text.\n",
    "        \"\"\"\n",
    "        past_question = create_question(question_text=\"Past Question.\", days=-5)\n",
    "        url = reverse(\"polls:detail\", args=(past_question.id,))\n",
    "        response = self.client.get(url)\n",
    "        self.assertContains(response, past_question.question_text)"
   ]
  },
  {
   "cell_type": "markdown",
   "metadata": {
    "slideshow": {
     "slide_type": "slide"
    }
   },
   "source": [
    "## View\n",
    "\n",
    "[View](https://docs.djangoproject.com/en/4.2/#the-view-layer) is the processing logic that takes user requests and returns responses. It has the following components \n",
    "\n",
    "- URLs\n",
    "- View Functions\n",
    "- View Classes\n",
    "- Middleware"
   ]
  },
  {
   "cell_type": "markdown",
   "metadata": {
    "slideshow": {
     "slide_type": "subslide"
    }
   },
   "source": [
    "### URLs\n",
    "\n",
    "An elegant URL scheme is important for a high-quality web site.\n",
    "\n",
    "Each site and each app have an `urs.py` that defines `urlpatterns` to map URL paths to views. Check [URLs document](https://docs.djangoproject.com/en/4.2/topics/http/urls/) for details.\n",
    "\n",
    "An URL path supports typed named parts that are passed as kwargs arguments to the matching view.\n",
    "\n",
    "An URL path supports pattern matches and customized argument converters."
   ]
  },
  {
   "cell_type": "markdown",
   "metadata": {
    "slideshow": {
     "slide_type": "subslide"
    }
   },
   "source": [
    "### URL Examples\n",
    "\n",
    "For the URL pattern\n",
    "\n",
    "- `path(\"blogs/<int:year>/<int:month>/\", my_view)`\n",
    "\n",
    "For a request of \n",
    "\n",
    "- `/blogs/2023/11`\n",
    "\n",
    "`my_view` will be called as as\n",
    "\n",
    "- `my_view(request, year=2023, month=11)`"
   ]
  },
  {
   "cell_type": "markdown",
   "metadata": {
    "slideshow": {
     "slide_type": "subslide"
    }
   },
   "source": [
    "### View Functions\n",
    "\n",
    "A view function takes HTTP requests and return web responses.\n",
    "\n",
    "Please check [Request and response objects document](https://docs.djangoproject.com/en/4.2/ref/request-response/) for request and response object details.\n",
    "\n",
    "A response can be an HTML page, a plain text, a redirect, a 404 error, a JSON data, an image...\n",
    "\n",
    "You can use view decorators to restrict allowed HTTP methods or add other features such as compression and caching."
   ]
  },
  {
   "cell_type": "markdown",
   "metadata": {
    "slideshow": {
     "slide_type": "subslide"
    }
   },
   "source": [
    "### View Classes\n",
    "\n",
    "A view class is a callable because it defines `__call__` special method.\n",
    "\n",
    "A view class inherits from a provided generic base class that handles most common logics. Following are some common generic classes \n",
    "\n",
    "- `View` handles URL linking, HTTP method dispatching.\n",
    "- `RedirectView` handles an HTTP redirect\n",
    "- `TemplateView` handles template rendering.\n",
    "\n",
    "In many cases, you don't need to define a subclass, just use the provided generic views with specific arguments."
   ]
  },
  {
   "cell_type": "markdown",
   "metadata": {
    "slideshow": {
     "slide_type": "subslide"
    }
   },
   "source": [
    "### A View Class Example"
   ]
  },
  {
   "cell_type": "code",
   "execution_count": null,
   "metadata": {},
   "outputs": [],
   "source": [
    "# Use the generic view directly\n",
    "from django.urls import path\n",
    "from django.views.generic import TemplateView\n",
    "\n",
    "urlpatterns = [\n",
    "    path(\"about/\", TemplateView.as_view(template_name=\"about.html\")),\n",
    "]\n",
    "\n",
    "# Or create a subclass\n",
    "class AboutView(TemplateView):\n",
    "    template_name = \"about.html\"\n",
    "\n",
    "urlpatterns = [\n",
    "    path(\"about/\", AboutView.as_view()),\n",
    "]"
   ]
  },
  {
   "cell_type": "markdown",
   "metadata": {
    "slideshow": {
     "slide_type": "subslide"
    }
   },
   "source": [
    "### Class-based or Function-based View?\n",
    "\n",
    "Compared to a view function, a view class is preferred because it can\n",
    "\n",
    "- share common code in super classes.\n",
    "- define specific HTTP methods (GET, POST, etc.) instead of functional-style conditional branching.\n",
    "\n",
    "Please check [Class-based views document](https://docs.djangoproject.com/en/4.2/topics/class-based-views/) for more details."
   ]
  },
  {
   "cell_type": "markdown",
   "metadata": {
    "slideshow": {
     "slide_type": "slide"
    }
   },
   "source": [
    "## Template\n",
    "\n",
    "A template contains the static parts of the desired HTML output as well as some special syntax describing how dynamic content will be inserted.\n",
    "\n",
    "Django use templates to create HTML from data. Django supports different template engines. It comes with a built-in one called **Django Template Language** (DTL) and Jinja2 engine.\n",
    "\n",
    "DTL is used by Django’s contrib apps such as `admin` and others."
   ]
  },
  {
   "cell_type": "markdown",
   "metadata": {
    "slideshow": {
     "slide_type": "subslide"
    }
   },
   "source": [
    "### Django Template Language (DTL)\n",
    "\n",
    "A Django template is a text document or a Python string marked-up using the Django template language. It is rendered with a context. Rendering replaces variables with their values, which are looked up in the context, and executes tags. Everything else is output as is.\n",
    "\n",
    "Basic constructs are:\n",
    "\n",
    "- expression: `{{ }}`\n",
    "- tag: `{% %}`\n",
    "- comment: `{# #}`"
   ]
  },
  {
   "cell_type": "markdown",
   "metadata": {
    "slideshow": {
     "slide_type": "subslide"
    }
   },
   "source": [
    "### Variables\n",
    "\n",
    "A context is a dict-like object mapping keys to values. A variable outputs a value from the context. Variables are surrounded by `{{` and `}}`. Attributes and index lookups are implemented with a dot notation."
   ]
  },
  {
   "cell_type": "markdown",
   "metadata": {
    "slideshow": {
     "slide_type": "subslide"
    }
   },
   "source": [
    "### Tags\n",
    "\n",
    "Tags provide logic in the rendering process. Tags are surrounded by `{%` and `%}`. For example: `{% csrf_token %}`\n",
    "\n",
    "Please check [built-in tag reference](https://docs.djangoproject.com/en/4.2/ref/templates/builtins/#built-in-tag-reference).\n",
    "\n",
    "Most tags accept arguments. For example: `{% cycle 'odd' 'even' %}`.\n",
    "\n",
    "Some tags require beginning and ending tags. For example: `{% if user.is_authenticated %}Hello, {{ user.username }}.{% endif %}`.\n"
   ]
  },
  {
   "cell_type": "markdown",
   "metadata": {
    "slideshow": {
     "slide_type": "subslide"
    }
   },
   "source": [
    "### Common Tags\n",
    "\n",
    "- `block` and `extends`: used in template inheritance\n",
    "- `comment`: multi-line comments ignored by Django\n",
    "- `debug`: for debug info\n",
    "- `filter`: content transformation\n",
    "- `for in` and `empty`: looping\n",
    "- `if`: `in`, `not in`, `is`, `is not`, comparison and logic operations\n",
    "- `include`: render another template, optionally passing keyword arguments.\n",
    "- `lorem`: random text with specified length.\n",
    "- `now`: current date and/or time\n",
    "- `regroup as`: grouping\n",
    "- `url`: create links from names"
   ]
  },
  {
   "cell_type": "markdown",
   "metadata": {
    "slideshow": {
     "slide_type": "subslide"
    }
   },
   "source": [
    "### Filters\n",
    "\n",
    "Filters `|` transform the values of variables and tag arguments.\n",
    "\n",
    "Django provides many filter functions such as `random`, `pluralize`, `title`, `slice`, `join` etc.\n",
    "\n",
    "Please check [Built-in filter reference](https://docs.djangoproject.com/en/4.2/ref/templates/builtins/#built-in-filter-reference) for full list.\n",
    "\n",
    "[`django.contrib.humanize¶`](https://docs.djangoproject.com/en/4.2/ref/contrib/humanize/) provides filters for adding a \"human touch\" to data."
   ]
  },
  {
   "cell_type": "markdown",
   "metadata": {
    "slideshow": {
     "slide_type": "slide"
    }
   },
   "source": [
    "## Forms\n",
    "\n",
    "You can encode simple data like a page number into the URL paths. \n",
    "\n",
    "HTML form provides an UI for rich data input including text, password, date, radio button, dropdown list and etc.\n",
    "\n",
    "Django provides many utility functions to build form from data and process form data.\n",
    "\n",
    "Please check [Forms document](https://docs.djangoproject.com/en/4.2/#forms) for details."
   ]
  },
  {
   "cell_type": "markdown",
   "metadata": {
    "slideshow": {
     "slide_type": "subslide"
    }
   },
   "source": [
    "### Django Form Class\n",
    "\n",
    "The `Form` class describes __form fields__ and corresponding __UI widget__.\n",
    "\n",
    "Form fields are classes that manage form data and perform validation in form submission.\n",
    "\n",
    "Each form field is represented as an HTML input widget.\n",
    "\n",
    "A form can be empty or pre-populated with default/existing data.\n",
    "\n",
    "`ModelForm` is a subclass of `Form`. `ModelForm` make it very simple to build form from a `Model` class."
   ]
  },
  {
   "cell_type": "markdown",
   "metadata": {
    "slideshow": {
     "slide_type": "subslide"
    }
   },
   "source": [
    "### A Form Example\n",
    "\n",
    "The following code defines a form with a single text field that has a maximum length of `100`.\n",
    "\n",
    "If all field values are valid, the `is_valid` is `True` and form data will be in the `cleaned_data` attribute.\n"
   ]
  },
  {
   "cell_type": "code",
   "execution_count": null,
   "metadata": {},
   "outputs": [],
   "source": [
    "from django import forms\n",
    "\n",
    "class NameForm(forms.Form):\n",
    "    your_name = forms.CharField(label=\"Your name\", max_length=100)"
   ]
  },
  {
   "cell_type": "markdown",
   "metadata": {
    "slideshow": {
     "slide_type": "subslide"
    }
   },
   "source": [
    "### Form UI\n",
    "\n",
    "The form class only defines form fields. The form instance must be inside the HTML `<form>` element.\n",
    "\n",
    "Let's put it into `name.html` file and link them in a `render` function."
   ]
  },
  {
   "cell_type": "code",
   "execution_count": null,
   "metadata": {
    "vscode": {
     "languageId": "html"
    }
   },
   "outputs": [],
   "source": [
    "<form action=\"/your-name/\" method=\"post\">\n",
    "  {% csrf_token %}\n",
    "  {{ form }}\n",
    "  <input type=\"submit\" value=\"Submit\">\n",
    "</form>\n"
   ]
  },
  {
   "cell_type": "code",
   "execution_count": null,
   "metadata": {
    "slideshow": {
     "slide_type": "subslide"
    }
   },
   "outputs": [],
   "source": [
    "from django.http import HttpResponseRedirect\n",
    "from django.shortcuts import render\n",
    "\n",
    "from .forms import NameForm\n",
    "\n",
    "\n",
    "def get_name(request):\n",
    "    # if this is a POST request we need to process the form data\n",
    "    if request.method == \"POST\":\n",
    "        # create a form instance and populate it with data from the request:\n",
    "        form = NameForm(request.POST)\n",
    "        # check whether it's valid:\n",
    "        if form.is_valid():\n",
    "            # process the data in form.cleaned_data as required\n",
    "            # ...\n",
    "            # redirect to a new URL:\n",
    "            return HttpResponseRedirect(\"/thanks/\")\n",
    "\n",
    "    # if a GET (or any other method) we'll create a blank form\n",
    "    else:\n",
    "        form = NameForm()\n",
    "\n",
    "    return render(request, \"name.html\", {\"form\": form})"
   ]
  }
 ],
 "metadata": {
  "language_info": {
   "name": "python"
  },
  "orig_nbformat": 4
 },
 "nbformat": 4,
 "nbformat_minor": 2
}
