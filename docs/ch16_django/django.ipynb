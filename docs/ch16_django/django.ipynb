{
 "cells": [
  {
   "cell_type": "markdown",
   "metadata": {
    "slideshow": {
     "slide_type": "slide"
    }
   },
   "source": [
    "# Django\n",
    "\n",
    "- Get Started\n",
    "- Database\n",
    "- Model\n",
    "- View\n",
    "- Form\n",
    "- Generic View"
   ]
  },
  {
   "cell_type": "markdown",
   "metadata": {
    "slideshow": {
     "slide_type": "slide"
    }
   },
   "source": [
    "# Get Started\n",
    "\n",
    "First, use `python3 -m pip install django` to install the Django package.\n",
    "\n",
    "Django comes with many tools such as `django-admin` to make development simple and quick.\n",
    "\n",
    "To create a project, run the following command: `django-admin startproject my_site`."
   ]
  },
  {
   "cell_type": "markdown",
   "metadata": {
    "slideshow": {
     "slide_type": "subslide"
    }
   },
   "source": [
    "## Initial Project\n",
    "\n",
    "The command creates a `my_site` project folder with following folders and files:\n",
    "\n",
    "- `manage.py`: it is a thin wrapper around `django-admin`. It uses the settings of the current project. You use `django-admin` to create projects and apps, then use `manage.py` to perform the rest administration tasks.\n",
    "- `my_site`: it is the package folder for the project. It has the following files\n",
    "  - `__init__.py`: it is an empty file to flag the parent folder as a Python package.\n",
    "  - `asgi.py`: it is an entry point file for ASGI (Asynchronous Server Gateway Interface) web server. ASGI support asynchronous operations that might have better performance for certain applications at the cost of complex code and logic. Most Web applications don't use it.\n",
    "  - `setting.py`: it contains settings (configurations) for this project. For example, you should change the `TIME_ZONE` if your site is not located in `UTC` time zone.\n",
    "  - `urls.py`: it configures the URL paths of the project.\n",
    "  - `wsgi.py`: it is an entry point file for WSGI (Web Server Gateway Interface) web server. Most Python Web applications use it."
   ]
  },
  {
   "cell_type": "markdown",
   "metadata": {
    "slideshow": {
     "slide_type": "subslide"
    }
   },
   "source": [
    "## Dev Server\n",
    "\n",
    "Django has a built-in WSGI web server for the development. You can run it with the initial project.\n",
    "\n",
    "Inside `my_site` project folder (not the nested `my_site` package folder), run `python3 manage.py runserver`, you can check the initial web site at `http://127.0.0.1:8000/` or `http://locahost:8000/`.\n",
    "\n",
    "The built-in development server monitors file changes and rebuilt the project when there is a change in the project source code files.\n",
    "\n",
    "To quit the server,  type `CONTROL-C` in the terminal."
   ]
  },
  {
   "cell_type": "markdown",
   "metadata": {
    "slideshow": {
     "slide_type": "subslide"
    }
   },
   "source": [
    "## Creating an App\n",
    "\n",
    "A Django project usually contains multiple apps (applications). Each app is a web site for a specific business domain functions. \n",
    "\n",
    "For example, Django creates a default `admin` app during the project creation. Web administrators use the admin app to manage the web site.\n",
    "\n",
    "To create an app named `polls`, run the command: `python3 manage.py startapp polls`."
   ]
  },
  {
   "cell_type": "markdown",
   "metadata": {
    "slideshow": {
     "slide_type": "subslide"
    }
   },
   "source": [
    "## The App Folder\n",
    "\n",
    "The creating app command creates a `polls` folder that has the following files:\n",
    "\n",
    "- `__init__.py` the package flag file.\n",
    "- `admin.py` the placeholder for administration page file.\n",
    "- `apps.py` the configuration file for the app.\n",
    "- `migrations` folder is used to store database migration files.\n",
    "- `models.py` the data models used by the app.\n",
    "- `tests.py` the testing file\n",
    "- `views.py` the *view* code to process HTTP requests and return HTTP responses."
   ]
  },
  {
   "cell_type": "markdown",
   "metadata": {
    "slideshow": {
     "slide_type": "subslide"
    }
   },
   "source": [
    "## MVT\n",
    "\n",
    "Django uses a Model-View-Template (MVT) architecture.\n",
    "\n",
    "- Model: a model is a class the defines\n",
    "  - the structure of a domain data.\n",
    "  - the data operations.\n",
    "- View: a view is a function or a class that handles HTTP request, performs business logic, and returns a response.\n",
    "- Template: a template defines the structure or layout of the user interface. A view fills templates with data to create the final response.\n",
    "\n",
    "Following is the [Django workflow](https://www.dothedev.com/blog/amp/what-is-django-used-for/):\n",
    "\n",
    "![flow](./images/django_flow.jpg)"
   ]
  },
  {
   "cell_type": "markdown",
   "metadata": {
    "slideshow": {
     "slide_type": "subslide"
    }
   },
   "source": [
    "## View\n",
    "\n",
    "In Django, a view is associated with a URL pattern, i.e., Django maps URL patterns to views.\n",
    "\n",
    "If a specific HTTP URL matches a view's URL pattern, the view usually performs the following functions:\n",
    "\n",
    "- processes HTTP requests.\n",
    "- performs business logic based on request arguments.\n",
    "- uses templates to render the response content.\n",
    "- returns responses in different format such as HTML, JSON, or others."
   ]
  },
  {
   "cell_type": "markdown",
   "metadata": {
    "slideshow": {
     "slide_type": "subslide"
    }
   },
   "source": [
    "## Add the First View\n",
    "\n",
    "As a tradition, you want to say \"Hello World!\" to an HTTP request. Following are codes in different files.\n",
    "\n",
    "If you run the dev server and access `http://127.0.0.1:8000/polls/`, you should see the message \"Hello World!\"."
   ]
  },
  {
   "cell_type": "code",
   "execution_count": null,
   "metadata": {},
   "outputs": [],
   "source": [
    "# polls/views.py\n",
    "from django.http import HttpResponse\n",
    "\n",
    "def index(request):\n",
    "    return HttpResponse(\"Hello, World!\")"
   ]
  },
  {
   "cell_type": "code",
   "execution_count": null,
   "metadata": {},
   "outputs": [],
   "source": [
    "# polls/urls.py\n",
    "from django.urls import path\n",
    "\n",
    "from . import views\n",
    "\n",
    "urlpatterns = [\n",
    "    path(\"\", views.index, name=\"index\"),\n",
    "]"
   ]
  },
  {
   "cell_type": "code",
   "execution_count": null,
   "metadata": {
    "slideshow": {
     "slide_type": "subslide"
    }
   },
   "outputs": [],
   "source": [
    "# my_site/urls.py\n",
    "from django.contrib import admin\n",
    "from django.urls import include, path\n",
    "\n",
    "urlpatterns = [\n",
    "    path(\"polls/\", include(\"polls.urls\")),\n",
    "    path(\"admin/\", admin.site.urls),\n",
    "]"
   ]
  },
  {
   "cell_type": "markdown",
   "metadata": {
    "slideshow": {
     "slide_type": "subslide"
    }
   },
   "source": [
    "## The `path()` and `include()` Function\n",
    "\n",
    "The `path()` function maps URLs to views or defines nested URL patterns. It has two required arguments and two optional arguments.\n",
    "\n",
    "- `route`: is a string that contains a URL pattern.\n",
    "- `view`: is the view use to process the URL request.\n",
    "- `kwargs`: are arbitrary keyword arguments passed to the view.\n",
    "- `name`: is the name of this URL path. Then this path is used elsewhere, you can use the name to refer the path.\n",
    "\n",
    "The code `path(\"\", views.index, name=\"index\")` maps the empty string to the `views.index` view. The path has a name of `index`.\n",
    "\n",
    "The `include()` function allows nested paths. Except the built-in `admin.site.urls`, you use `include()` when you include other URL patterns.\n",
    "\n",
    "The `path(\"polls/\", include(\"polls.urls\")),` puts all polls url patterns defined in `polls/urls.py` under the `polls/` path.\n",
    "\n",
    "The `ROOT_URLCONF = \"my_site.urls\"` in `my_site/settings.py` specifies the URL configuration file for the root path. Django starts path matching from the this file."
   ]
  },
  {
   "cell_type": "markdown",
   "metadata": {
    "slideshow": {
     "slide_type": "slide"
    }
   },
   "source": [
    "# Database\n",
    "\n",
    "Django uses relational database to store application data that is defined by models.\n",
    "\n",
    "A model defines the table schema.\n",
    "\n",
    "Django provides built-in CRUD operations for data.\n",
    "\n",
    "Django supports a number of relational database engines. You can change database setup in the project `settings.py` file. "
   ]
  },
  {
   "cell_type": "markdown",
   "metadata": {
    "slideshow": {
     "slide_type": "subslide"
    }
   },
   "source": [
    "## Database Setup\n",
    "\n",
    "By default, Django uses the SQLite relational database to manage data. [SQLite](https://www.sqlite.org/) is a small, fast, and reliable relational database engine. It is an excellent choice for learning Django. It is also a good choice for small to medium web sites in production.\n",
    "\n",
    "The `my_site/settings.py` has two database configuration entries in the `default` item in `DATABASES`:\n",
    "\n",
    "- `ENGINE`: default is `'django.db.backends.sqlite3'`. Other popular choices are `'django.db.backends.postgresql'` or `'django.db.backends.mysql'`.\n",
    "- `NAME`: it is a database-specific setting. For SQLite, it is the database file path. For other databases, it is that database name that requires additional settings such as `USER`, `PASSWORD`, `HOST`, `PORT` and so on to build the connection string."
   ]
  },
  {
   "cell_type": "markdown",
   "metadata": {
    "slideshow": {
     "slide_type": "subslide"
    }
   },
   "source": [
    "## Migrations\n",
    "\n",
    "An app may have models whose data are stored in database.\n",
    "\n",
    "Django uses `migration` to manage database schema changes. A migration consists of SQL statements to create tables and data for an app. Whenever you change data models, Django can create a new migration for the changes.\n",
    "\n",
    "Django provides following commands to manage migrations:\n",
    "\n",
    "- `python3 manage.py showmigrations`: shows all migrations in a project.\n",
    "- `python3 manage.py makemigrations`: creates new migrations based on the changes detected to your models.\n",
    "- `python3 manage.py sqlmigrate app_label migration_name`: displays the SQL commands for the named migration.\n",
    "- `python3 manage.py migrate`: apply pending migrations to the database."
   ]
  },
  {
   "cell_type": "markdown",
   "metadata": {
    "slideshow": {
     "slide_type": "subslide"
    }
   },
   "source": [
    "## Built-in Apps\n",
    "\n",
    "Django framework comes with a number of built-in apps that provide common services for a typical web site. The `INSTALLED_APPS` item in `settings.py` has the list of activated applications:\n",
    "\n",
    "- `django.contrib.admin`: The administration site for this project. \n",
    "- `django.contrib.auth`: an app provides built-in support authentication.\n",
    "- `django.contrib.contenttypes`: an app provides built-in support for content types.\n",
    "- `django.contrib.sessions`: an app provides built-in support for session management.\n",
    "- `django.contrib.messages`: an app provides built-in support for messaging.\n",
    "- `django.contrib.staticfiles`: an app provides built-in support for managing static files."
   ]
  },
  {
   "cell_type": "markdown",
   "metadata": {},
   "source": [
    "## Initialize Database for Built-in Apps\n",
    "\n",
    "Django has built-in migrations for built-in apps thus there is no need to run create migrations for built-in apps.\n",
    "\n",
    "To see the built-in migrations, run `python3 manage.py showmigrations`\n",
    "\n",
    "To initialize database for built-in apps who use models, run `python3 manage.py migrate`. The command applies migrations that create tables and initialization data for activated built-in apps.\n",
    "\n",
    "For those who are familiar with database administration, you can use `django-admin dbshell` or `python3 manage.py dbshell` to run the command-line client for the specified database engine.\n",
    "\n",
    "For SQLite, this runs `sqlite3` command line client, also called a *shell*."
   ]
  },
  {
   "cell_type": "markdown",
   "metadata": {
    "slideshow": {
     "slide_type": "slide"
    }
   },
   "source": [
    "# Model\n",
    "\n",
    "To define a table schema and related database operations, you define a new subclass of `models.Model`.\n",
    "\n",
    "Django derives database migrations from model definition, thus there is only a single source definition of application data.\n",
    "\n",
    "If you change a data model, Django can create updated migrations for the changes. You can even roll back changes in some cases."
   ]
  },
  {
   "cell_type": "markdown",
   "metadata": {
    "slideshow": {
     "slide_type": "subslide"
    }
   },
   "source": [
    "## Creating Models\n",
    "\n",
    "In the polls app, there are two models: *Question* and *Choice*. Adding following definitions in `polls/models.py` file.\n",
    "\n",
    "- Each class inherits from `models.Model` class that provides many data access methods.\n",
    "- Each field is defined as a class attribute.\n",
    "- Each field is a descriptor defined in `models`.\n",
    "  - a defined class attribute is read/set as an instance attribute\n",
    "  - there are different descriptor types such as `CharField`, `DataTimeField`, and so on.\n",
    "- The `models.ForeignKey` defines a foreign key that links an instance of `Choice` to an instance of `Question`. \n",
    "  - It is a one-to-many relationship: one instance of `Question` is mapped to more than one instances of `Choice`.\n",
    "  - The `on_delete` means that if an instance of `Question` is deleted, all its associated instances of `Choice` are deleted automatically."
   ]
  },
  {
   "cell_type": "code",
   "execution_count": null,
   "metadata": {},
   "outputs": [],
   "source": [
    "import datetime\n",
    "\n",
    "from django.db import models\n",
    "from django.utils import timezone\n",
    "\n",
    "\n",
    "class Question(models.Model):\n",
    "    question_text = models.CharField(max_length=200)\n",
    "    publish_date = models.DateTimeField(\"date published\")\n",
    "\n",
    "    def __str__(self):\n",
    "        return self.question_text\n",
    "\n",
    "    def was_published_recently(self):\n",
    "        return self.publish_date >= timezone.now() - datetime.timedelta(days=1)\n",
    "\n",
    "\n",
    "class Choice(models.Model):\n",
    "    question = models.ForeignKey(Question, on_delete=models.CASCADE)\n",
    "    choice_text = models.CharField(max_length=200)\n",
    "    votes = models.IntegerField(default=0)\n",
    "\n",
    "    def __str__(self):\n",
    "        return self.choice_text\n"
   ]
  },
  {
   "cell_type": "markdown",
   "metadata": {
    "slideshow": {
     "slide_type": "subslide"
    }
   },
   "source": [
    "## Install the App\n",
    "\n",
    "Django creates table schema and database access API based on app model definitions.\n",
    "\n",
    "You need to add the configuration class of polls app, i.e., `\"polls.apps.PollsConfig\",` to top of the list in the `INSTALLED_APPS` item in the project setting file.\n",
    "\n",
    "Then create migration from the app models using command `python3 manage.py makemigrations polls`. It creates a migration file in `polls/migrations/0001_initial.py` that has the migration code.\n",
    "\n",
    "You can use the command `python3 manage.py sqlmigrate polls 0001` to check the SQL statements that to be applied to the database.\n",
    "\n",
    "Finally, run `python3 manage.py migrate` to apply the migration that creates the database tables.\n",
    "\n",
    "In your database shell (`python3 manage.py dbshell`), run `.tables` to list all created tables. The two tables for `polls` app are: `polls_question` and `polls_choice`, i.e., app name, underscore, and model class name, all in lower cases."
   ]
  },
  {
   "cell_type": "markdown",
   "metadata": {
    "slideshow": {
     "slide_type": "subslide"
    }
   },
   "source": [
    "## Django Data API\n",
    "\n",
    "The `models.Model` class provides database access methods for all model classes. The Django [Making queries document](https://docs.djangoproject.com/en/4.2/topics/db/queries/) has many examples.\n",
    "\n",
    "Django provides a Python shell to interact with the project. Run `python3 manage.py shell` to execute the project Python shell.\n",
    "\n",
    "```python\n",
    "from polls.models import Choice, Question\n",
    "from django.utils import timezone\n",
    "\n",
    "# create an object, save to database, query its attributes\n",
    "q = Question(question_text=\"How are you?\", publish_date=timezone.now())\n",
    "q.save()\n",
    "q.id   # 1\n",
    "q.question_text # \"How are you?\"\n",
    "\n",
    "# update the record with new question text\n",
    "q.question_text = \"How old are you?\"\n",
    "q.save() \n",
    "\n",
    "# get all questions in the database\n",
    "Question.objects.all() # <QuerySet [<How old are you?>]>\n",
    "\n",
    "# query by id\n",
    "q = Question.objects.get(pk=1)\n",
    "q.was_published_recently() # True\n",
    "\n",
    "# the choice table can be accessed from a question\n",
    "q.choice_set.all() # <QuerySet []>\n",
    "\n",
    "# create three choices \n",
    "c1 = q.choice_set.create(choice_text=\"28\", votes=0)\n",
    "c2 = q.choice_set.create(choice_text=\"35\", votes=0)\n",
    "c3 = q.choice_set.create(choice_text=\"15\", votes=0)\n",
    "\n",
    "# query choice attribute\n",
    "c3.question # <Question: How old are you?>\n",
    "\n",
    "# query choices from its question\n",
    "q.choice_set.all() # <QuerySet [<Choice: 28>, <Choice: 35>, <Choice: 15>]>\n",
    "\n",
    "q.choice_set.count() # 3\n",
    "\n",
    "# delete one, it returns the number of objects deleted and a dictionary with the number of deletions per object type.\n",
    "c2.delete() # (1, {'polls.Choice': 1})\n",
    "\n",
    "# how many left\n",
    "q.choice_set.count() # 2\n",
    "```"
   ]
  },
  {
   "cell_type": "markdown",
   "metadata": {
    "slideshow": {
     "slide_type": "subslide"
    }
   },
   "source": [
    "## Django Admin\n",
    "\n",
    "Django provides the ``django.contrib.admin` app to administrate the project. This is an internal site used by Web administrator.\n",
    "\n",
    "You need to create a administrator account to use it.\n",
    "\n",
    "Run `python manage.py createsuperuser` to create an account by filling username, email address and password.\n",
    "\n",
    "Then you can access the internal admin site using `http://localhost:8000/admin`. By default, you can only manage users and groups after login."
   ]
  },
  {
   "cell_type": "markdown",
   "metadata": {
    "slideshow": {
     "slide_type": "subslide"
    }
   },
   "source": [
    "## Manage Models\n",
    "\n",
    "To let administrator to manage your app models, you need to register the models.\n",
    "\n",
    "In `polls/admin.py`, add following lines and you can manage the registered models."
   ]
  },
  {
   "cell_type": "code",
   "execution_count": null,
   "metadata": {},
   "outputs": [],
   "source": [
    "# polls/admin.py\n",
    "\n",
    "from django.contrib import admin\n",
    "\n",
    "from .models import Question\n",
    "\n",
    "admin.site.register(Question)"
   ]
  },
  {
   "cell_type": "markdown",
   "metadata": {
    "slideshow": {
     "slide_type": "slide"
    }
   },
   "source": [
    "# View\n",
    "\n",
    "A Django view processes requests and returns a `HttpResponse` object or raises an exception. To generate response content, it may use a template system. Django comes with a default template engine but you can use other engines.\n",
    "\n",
    "From a developer's point of view, a view is a function or class that create Web pages."
   ]
  },
  {
   "cell_type": "markdown",
   "metadata": {},
   "source": [
    "## Create Views\n",
    "\n",
    "There are two steps to create a view: define the view function/class and configure an URL pattern for the view.\n",
    "\n",
    "After adding the following code, run the command `python3 manage.py runserver` to check that the URLs and views work."
   ]
  },
  {
   "cell_type": "code",
   "execution_count": null,
   "metadata": {},
   "outputs": [],
   "source": [
    "# polls/view.py\n",
    "\n",
    "def detail(request, question_id):\n",
    "    response = f\"Detail view for {question_id}\"\n",
    "    return HttpResponse(response)\n",
    "\n",
    "\n",
    "def results(request, question_id):\n",
    "    response = f\"Results view for {question_id}\"\n",
    "    return HttpResponse(response)\n",
    "\n",
    "\n",
    "def vote(request, question_id):\n",
    "    response = f\"Vote view for {question_id}\"\n",
    "    return HttpResponse(response)"
   ]
  },
  {
   "cell_type": "code",
   "execution_count": null,
   "metadata": {},
   "outputs": [],
   "source": [
    "# polls/urls.py\n",
    "from django.urls import path\n",
    "\n",
    "from . import views\n",
    "\n",
    "urlpatterns = [\n",
    "    # ex: /polls/\n",
    "    path(\"\", views.index, name=\"index\"),\n",
    "    # ex: /polls/5/\n",
    "    path(\"<int:question_id>/\", views.detail, name=\"detail\"),\n",
    "    # ex: /polls/5/results/\n",
    "    path(\"<int:question_id>/results/\", views.results, name=\"results\"),\n",
    "    # ex: /polls/5/vote/\n",
    "    path(\"<int:question_id>/vote/\", views.vote, name=\"vote\"),\n",
    "]"
   ]
  },
  {
   "cell_type": "markdown",
   "metadata": {
    "slideshow": {
     "slide_type": "subslide"
    }
   },
   "source": [
    "## Django Template\n",
    "\n",
    "A template has static content and placeholders or logic controls of dynamic data. A template uses special syntax for data display and logic controls.\n",
    "\n",
    "By default, Django find templates in the `templates` directory of each app. It is a best practice to put a template in a folder in the `templates` directory because you may have utility templates such as layouts. For example, the path for polls app's `index.html` template file is `templates/polls/index.html`. You use the name `polls/index.html` to load the template into a view.\n",
    "\n",
    "Django use `{}` to include data and logic. The data is also called the *context* of the template. The `templates/polls/index.html` uses the `latest_question_list` context to create the HTML content."
   ]
  },
  {
   "cell_type": "code",
   "execution_count": null,
   "metadata": {
    "vscode": {
     "languageId": "html"
    }
   },
   "outputs": [],
   "source": [
    "<!-- polls/templates/polls/index.html -->\n",
    "{% if latest_question_list %}\n",
    "<ul>\n",
    "  {% for question in latest_question_list %}\n",
    "  <li><a href=\"/polls/{{ question.id }}/\">{{ question.question_text }}</a></li>\n",
    "  {% endfor %}\n",
    "</ul>\n",
    "{% else %}\n",
    "<p>No polls are available.</p>\n",
    "{% endif %}"
   ]
  },
  {
   "cell_type": "markdown",
   "metadata": {},
   "source": [
    "## The `index`` View\n",
    "\n",
    "The `index` view fetches data from database and render the template into HTML response page."
   ]
  },
  {
   "cell_type": "code",
   "execution_count": null,
   "metadata": {},
   "outputs": [],
   "source": [
    "from django.http import HttpResponse\n",
    "from django.template import loader\n",
    "\n",
    "from .models import Question\n",
    "\n",
    "\n",
    "def index(request):\n",
    "    latest_question_list = Question.objects.order_by(\"-publish_date\")[:5]\n",
    "    template = loader.get_template(\"polls/index.html\")\n",
    "    context = {\n",
    "        \"latest_question_list\": latest_question_list,\n",
    "    }\n",
    "    return HttpResponse(template.render(context, request))"
   ]
  },
  {
   "cell_type": "markdown",
   "metadata": {
    "slideshow": {
     "slide_type": "subslide"
    }
   },
   "source": [
    "## The `render()` Shortcut\n",
    "\n",
    "It is a common pattern to load a template file, apply a context and return an `HttpResponse` object. Django provides a shortcut `render()` function to apply a context to a template and return an `HttpResponse` object.\n",
    "\n",
    "The previous code could be simplified as the following:"
   ]
  },
  {
   "cell_type": "code",
   "execution_count": null,
   "metadata": {},
   "outputs": [],
   "source": [
    "from django.shortcuts import render\n",
    "\n",
    "from .models import Question\n",
    "\n",
    "\n",
    "def index(request):\n",
    "    latest_question_list = Question.objects.order_by(\"-publish_date\")[:5]\n",
    "    context = {\"latest_question_list\": latest_question_list}\n",
    "    return render(request, \"polls/index.html\", context)"
   ]
  },
  {
   "cell_type": "markdown",
   "metadata": {
    "slideshow": {
     "slide_type": "subslide"
    }
   },
   "source": [
    "## Rasing an Error\n",
    "\n",
    "In the detail view, if Django couldn't find the question for the specified id, it makes sense to raise a 404 exception to let the user know that the requested object is not found.\n",
    "\n",
    "The detail view uses a `polls/detail.html` template whose context is, not a surprise, a question. "
   ]
  },
  {
   "cell_type": "code",
   "execution_count": null,
   "metadata": {
    "vscode": {
     "languageId": "html"
    }
   },
   "outputs": [],
   "source": [
    "<!-- polls/templates/polls/detail.html -->\n",
    "<h1>{{ question.question_text }}</h1>\n",
    "<ul>\n",
    "  {% for choice in question.choice_set.all %}\n",
    "  <li>{{ choice.choice_text }}</li>\n",
    "  {% endfor %}\n",
    "</ul>"
   ]
  },
  {
   "cell_type": "code",
   "execution_count": null,
   "metadata": {},
   "outputs": [],
   "source": [
    "# polls/views.py\n",
    "\n",
    "from django.shortcuts import get_object_or_404, render\n",
    "\n",
    "from .models import Question\n",
    "\n",
    "def detail(request, question_id):\n",
    "    question = get_object_or_404(Question, pk=question_id)\n",
    "    return render(request, \"polls/detail.html\", {\"question\": question})"
   ]
  },
  {
   "cell_type": "markdown",
   "metadata": {
    "slideshow": {
     "slide_type": "subslide"
    }
   },
   "source": [
    "## Removing Hardcoded URLs\n",
    "\n",
    "The `polls/index.html` template has a hardcoded URL link for each question: `<a href=\"/polls/{{ question.id }}/\">{{ question.question_text }}</a>`.\n",
    "\n",
    "The path pattern `<int:question_id>/` is defined in `polls.urls` module. The pattern may change during the development, for example, `changed/<int:question_id>/whatever`. Then the hardcoded URL link in template will be broken.\n",
    "\n",
    "To remove hardcoded URLs and to have a single source of path definition, you can use path name and `{% url ... %}` template tag.\n",
    "\n",
    "The link becomes `<a href=\"{% url 'detail' question.id %}\">{{ question.question_text }}</a>`"
   ]
  },
  {
   "cell_type": "markdown",
   "metadata": {
    "slideshow": {
     "slide_type": "subslide"
    }
   },
   "source": [
    "## URL Namespaces\n",
    "\n",
    "The link such as `\"{% url 'detail' question.id %}\"` works well if you only have one `detail` view. If there are more than one `detail` view in different apps, Django cannot differentiate them.\n",
    "\n",
    "As a best practice, it is better to give each app an URL namespace. It is done by setting `app_name` in an app's `urls.py` file.\n",
    "\n",
    "Adding `app_name = \"polls\"` to the `polls/urls.py` file before the definition of URL patterns.\n",
    "\n",
    "With the new namespace, the link in `polls/index.html` becomes `<a href=\"{% url 'polls:detail' question.id %}\">{{ question.question_text }}</a>`"
   ]
  },
  {
   "cell_type": "markdown",
   "metadata": {
    "slideshow": {
     "slide_type": "slide"
    }
   },
   "source": [
    "# Form\n",
    "\n",
    "A Web browser is a client that send request to a Web server and displays an HTML page returned from the server. The client can send data to the backend server using a Web *form*.\n",
    "\n",
    "The `<form>...</form>` tag specifies a number of things to submit data:\n",
    "\n",
    "- a URL: the target view for this data input.\n",
    "- an action: an HTML action, default is `post`.\n",
    "- CSRF token: a unique token generated by the server to protect server from *Cross Site Request Forgeries* attack.\n",
    "- One or more data fields and labels to let user input data.\n",
    "- A submit button."
   ]
  },
  {
   "cell_type": "markdown",
   "metadata": {
    "slideshow": {
     "slide_type": "subslide"
    }
   },
   "source": [
    "## Create a Form\n",
    "\n",
    "The polls app creates a form in `detail` view to submit vote for a question.\n",
    "\n",
    "It specifies the target path using the template tag `{% url 'polls:vote' question.id %}`. The view is specified with a special syntax of `'polls:vote'`."
   ]
  },
  {
   "cell_type": "code",
   "execution_count": null,
   "metadata": {
    "vscode": {
     "languageId": "html"
    }
   },
   "outputs": [],
   "source": [
    "<!-- polls/template/polls/detail.html -->\n",
    "<form action=\"{% url 'polls:vote' question.id %}\" method=\"post\">\n",
    "  {% csrf_token %}\n",
    "  <fieldset>\n",
    "    <legend>\n",
    "      <h1>{{ question.question_text }}</h1>\n",
    "    </legend>\n",
    "    \n",
    "    {% if error_message %}\n",
    "      <p><strong>{{ error_message }}</strong></p>\n",
    "    {% endif %}\n",
    "    \n",
    "    {% for choice in question.choice_set.all %}\n",
    "      <input type=\"radio\" name=\"choice\" id=\"choice{{ forloop.counter }}\" value=\"{{ choice.id }}\">\n",
    "      <label for=\"choice{{ forloop.counter }}\">{{ choice.choice_text }}</label><br>\n",
    "    {% endfor %}\n",
    "  </fieldset>\n",
    "\n",
    "  <input type=\"submit\" value=\"Vote\">\n",
    "</form>"
   ]
  },
  {
   "cell_type": "markdown",
   "metadata": {
    "slideshow": {
     "slide_type": "subslide"
    }
   },
   "source": [
    "## Handle Form Data\n",
    "\n",
    "The `detail` view defines a form submitted to the `vote` view for a question.\n",
    "\n",
    "Because the input field has a name `\"choice\"`, you can fetch the value using this name `request.POST[\"choice]`.\n",
    "\n",
    "A user may click `Back` button in Browser after submission, it is a best practice to alway return an `HttpResponseRedirect` after successfully dealing with posted data.\n",
    "\n",
    "The `HttpResponseRedirect` uses a redirect URL. When you need a URL from a view name, you can use `reverse()` function. The `reverse(\"polls:results\", args=(question.id,))`"
   ]
  },
  {
   "cell_type": "code",
   "execution_count": null,
   "metadata": {},
   "outputs": [],
   "source": [
    "# polls/views.py\n",
    "\n",
    "from django.http import HttpResponse, HttpResponseRedirect\n",
    "from django.shortcuts import get_object_or_404, render\n",
    "from django.urls import reverse\n",
    "\n",
    "from .models import Choice, Question\n",
    "\n",
    "...\n",
    "\n",
    "def vote(request, question_id):\n",
    "    question = get_object_or_404(Question, pk=question_id)\n",
    "    try:\n",
    "        selected_choice = question.choice_set.get(pk=request.POST[\"choice\"])\n",
    "    except (KeyError, Choice.DoesNotExist):\n",
    "        # Redisplay the question voting form.\n",
    "        return render(\n",
    "            request,\n",
    "            \"polls/detail.html\",\n",
    "            {\n",
    "                \"question\": question,\n",
    "                \"error_message\": \"You didn't select a choice.\",\n",
    "            },\n",
    "        )\n",
    "    else:\n",
    "        selected_choice.votes += 1\n",
    "        selected_choice.save()\n",
    "        \n",
    "        return HttpResponseRedirect(reverse(\"polls:results\", args=(question.id,)))"
   ]
  },
  {
   "cell_type": "markdown",
   "metadata": {
    "slideshow": {
     "slide_type": "subslide"
    }
   },
   "source": [
    "## The `results` View\n",
    "\n",
    "The `results` shows the voted results for a question."
   ]
  },
  {
   "cell_type": "code",
   "execution_count": null,
   "metadata": {},
   "outputs": [],
   "source": [
    "# polls/view.py\n",
    "\n",
    "from django.shortcuts import get_object_or_404, render\n",
    "\n",
    "...\n",
    "\n",
    "def results(request, question_id):\n",
    "    question = get_object_or_404(Question, pk=question_id)\n",
    "    return render(request, \"polls/results.html\", {\"question\": question})"
   ]
  },
  {
   "cell_type": "markdown",
   "metadata": {
    "slideshow": {
     "slide_type": "subslide"
    }
   },
   "source": [
    "## The `results` Template\n",
    "\n",
    "The `results` template defines the content of the view. Django template comes with a `pluralize` filter that you can apply to an object to transform its value. It adds a plural suffix, often `\"s\"` if the value is not `1`, `\"1\"`, or an object of length `1`"
   ]
  },
  {
   "cell_type": "code",
   "execution_count": null,
   "metadata": {
    "vscode": {
     "languageId": "html"
    }
   },
   "outputs": [],
   "source": [
    "<!-- polls/templates/polls/results.html -->\n",
    "<h1>{{ question.question_text }}</h1>\n",
    "\n",
    "<ul>\n",
    "  {% for choice in question.choice_set.all %}\n",
    "  <li>{{ choice.choice_text }} -- {{ choice.votes }} vote{{ choice.votes|pluralize }}</li>\n",
    "  {% endfor %}\n",
    "</ul>\n",
    "\n",
    "<a href=\"{% url 'polls:detail' question.id %}\">Vote again?</a>"
   ]
  },
  {
   "cell_type": "markdown",
   "metadata": {
    "slideshow": {
     "slide_type": "slide"
    }
   },
   "source": [
    "# Generic View\n",
    "\n",
    "Django provides many utility functions/classes to simplify Web development.\n",
    "\n",
    "Two common patterns in development are\n",
    "\n",
    "- displaying a list of objects\n",
    "- showing the details of an object\n",
    "\n",
    "Django abstract these into so-called generic views to remove redundant code.\n",
    "\n",
    "To use generic views, you define view classes that inherit from an appropriate generic view. Django will do the heavy lifting and let you customize the view behavior."
   ]
  },
  {
   "cell_type": "markdown",
   "metadata": {
    "slideshow": {
     "slide_type": "subslide"
    }
   },
   "source": [
    "## View Classes\n",
    "\n",
    "In the `polls` app, the `index` view displays a list of questions. You define a `IndexView` that inherits from `generic.ListView`.\n",
    "\n",
    "The `detail` view and `results` view display the details of an object. You define `DetailView` and `ResultView` that inherit from `generic.DetailView`.\n",
    "\n",
    "Both generic views will retrieve the objects from database and apply them to the corresponding templates.\n",
    "\n",
    "You can customize the generic views by define methods in your views. For example, the `IndexView` fetches the list of objects in a specific order."
   ]
  },
  {
   "cell_type": "code",
   "execution_count": null,
   "metadata": {
    "slideshow": {
     "slide_type": "subslide"
    }
   },
   "outputs": [],
   "source": [
    "# polls/views.py\n",
    "\n",
    "from django.http import HttpResponseRedirect\n",
    "from django.shortcuts import get_object_or_404, render\n",
    "from django.urls import reverse\n",
    "from django.views import generic\n",
    "\n",
    "from .models import Choice, Question\n",
    "\n",
    "\n",
    "class IndexView(generic.ListView):\n",
    "    template_name = \"polls/index.html\"\n",
    "    context_object_name = \"latest_question_list\"\n",
    "\n",
    "    def get_queryset(self):\n",
    "        \"\"\"Return the last five published questions.\"\"\"\n",
    "        return Question.objects.order_by(\"-publish_date\")[:5]\n",
    "\n",
    "\n",
    "class DetailView(generic.DetailView):\n",
    "    model = Question\n",
    "    template_name = \"polls/detail.html\"\n",
    "\n",
    "\n",
    "class ResultsView(generic.DetailView):\n",
    "    model = Question\n",
    "    template_name = \"polls/results.html\"\n",
    "\n",
    "..."
   ]
  },
  {
   "cell_type": "markdown",
   "metadata": {
    "slideshow": {
     "slide_type": "subslide"
    }
   },
   "source": [
    "## Amend URLs\n",
    "\n",
    "The generic views have many naming conventions for templates and URL paths.\n",
    "\n",
    "For example, the default template name for a model is `<model_name>_list.html`. If you don't use the default name, you should set the `template_name` class attribute.\n",
    "\n",
    "By convention, Django uses `pk` as the generic name as the parameter for object key. `pk` is an abbreviation of `Primary Key` that is an unique key in relational database table.\n",
    "\n",
    "Each view class has an `as_view()` method that create an instance of the class."
   ]
  },
  {
   "cell_type": "code",
   "execution_count": null,
   "metadata": {},
   "outputs": [],
   "source": [
    "# polls/urls.py\n",
    "\n",
    "from django.urls import path\n",
    "\n",
    "from . import views\n",
    "\n",
    "app_name = \"polls\"\n",
    "urlpatterns = [\n",
    "    path(\"\", views.IndexView.as_view(), name=\"index\"),\n",
    "    path(\"<int:pk>/\", views.DetailView.as_view(), name=\"detail\"),\n",
    "    path(\"<int:pk>/results/\", views.ResultsView.as_view(), name=\"results\"),\n",
    "    path(\"<int:question_id>/vote/\", views.vote, name=\"vote\"),\n",
    "]"
   ]
  }
 ],
 "metadata": {
  "language_info": {
   "name": "python"
  },
  "orig_nbformat": 4
 },
 "nbformat": 4,
 "nbformat_minor": 2
}
