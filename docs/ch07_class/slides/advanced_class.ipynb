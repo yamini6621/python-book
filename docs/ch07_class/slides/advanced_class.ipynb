{
 "cells": [
  {
   "cell_type": "markdown",
   "metadata": {},
   "source": [
    "# Advanced Class\n",
    "\n",
    "- Data Class\n",
    "- Class Method\n",
    "- Class Attribute\n",
    "- Descriptor\n",
    "- Multiple Inheritance\n",
    "- Mixin Class\n",
    "- Duck Typing and Goose Typing"
   ]
  }
 ],
 "metadata": {
  "language_info": {
   "name": "python"
  },
  "orig_nbformat": 4
 },
 "nbformat": 4,
 "nbformat_minor": 2
}
