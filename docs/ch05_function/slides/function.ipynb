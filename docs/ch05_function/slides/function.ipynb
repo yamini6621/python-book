{
 "cells": [
  {
   "cell_type": "markdown",
   "metadata": {
    "slideshow": {
     "slide_type": "slide"
    }
   },
   "source": [
    "# Function\n",
    "\n",
    "- What and Why\n",
    "- Function Definition\n",
    "- Function Call\n",
    "- Functions and Methods are Objects\n",
    "- Variable Scope\n",
    "- Call Stack\n",
    "- Recursive Function"
   ]
  },
  {
   "cell_type": "markdown",
   "metadata": {
    "slideshow": {
     "slide_type": "slide"
    }
   },
   "source": [
    "## What is a Function\n",
    "\n",
    "A function is a group of statements that performs a specific task. Though there is no limit in the number of statements that you can write inside a function, it is important that a function consists of a group of closely related statements to serve a single purpose. It will make your code easy to read and maintain."
   ]
  },
  {
   "cell_type": "markdown",
   "metadata": {
    "slideshow": {
     "slide_type": "subslide"
    }
   },
   "source": [
    "## Why Function?\n",
    "\n",
    "Programmers use functions primarily for two purposes\n",
    "\n",
    "- to reuse code\n",
    "- to organize code\n",
    "\n",
    "When you define a function, it can be used in many places. Code reuse improves productivity and quality because you only need to write and maintain a single copy of the function.\n",
    "\n",
    "Organization is about divide and conquer. Instead of writing a long list of statements of a complex application, you can divide the application into a set of subtasks such that each task is relatively easy to be solved."
   ]
  },
  {
   "cell_type": "markdown",
   "metadata": {
    "slideshow": {
     "slide_type": "subslide"
    }
   },
   "source": [
    "### Divide and Conquer\n",
    "\n",
    "In the following diagram, instead of a long list of statements on the left, you can organize statements into a set of functions that each function perform a single subtask. It helps you to design the program because at one moment you only need to solve a relatively simpler subtask.\n",
    "\n",
    "![subtask](../images/subtask.png)"
   ]
  },
  {
   "cell_type": "markdown",
   "metadata": {},
   "source": []
  },
  {
   "cell_type": "markdown",
   "metadata": {
    "slideshow": {
     "slide_type": "subslide"
    }
   },
   "source": [
    "### An Example of Divide and Conquer\n",
    "\n",
    "|A list of statements | Statements in Functions |\n",
    "| --- | --- |\n",
    "| 1. unplug from charger <br> 2. walk to the house door <br>3. open the house door <br>4. walk out the house door<br>5. close the house door<br>6. walk to the car<br>7. open the car door<br>8. sit in the car<br>9. close the car door<br>10. drive the car to school|1. leave home (this function has the statements 1 to 5)<br><br>2. go to school (this function has the statements 6 to 10) |"
   ]
  },
  {
   "cell_type": "markdown",
   "metadata": {
    "slideshow": {
     "slide_type": "subslide"
    }
   },
   "source": [
    "### Function Benefits\n",
    "\n",
    "- Small tasks are easy to write, easy to test/debug, and easy to maintain.\n",
    "\n",
    "- The function version is also easy to share, you can share both small tasks in different situations.\n",
    "\n",
    "- Another big benefit is that a function name summarizes the task. It is easy to understand the two function calls by their names if you don't care about the implementation details. You can image the pain when you have to figure out the purpose of 1,000 lines of code.\n",
    "\n",
    "- Furthermore, it is easy to replace a function with a new function that implements new method. For example, one can take a Uber or ride a bicycle for the 2nd task, either can achieve the goal of going to school."
   ]
  },
  {
   "cell_type": "markdown",
   "metadata": {
    "slideshow": {
     "slide_type": "subslide"
    }
   },
   "source": [
    "### Multiple Levels\n",
    "\n",
    "If a subtask is too complex, you can divided it into a set of subtasks again. A function represents a subtask can be be divided into more functions. Eventually you may have a program structured as the following:\n",
    "\n",
    "![structure](../images/structure.png)\n",
    "\n",
    "The structure is a payroll application. You can see the five subtasks at the first level. The first function and the third function uses two other functions to perform their tasks. If you replace all functions with their statements, it will be a big mess and it is hard to figure out the purpose of a list of detail operations.\n",
    "\n",
    "Therefore divide and conquer using functions let you deal with easy-to-solve subtasks. It also makes the program structure easy to understand."
   ]
  },
  {
   "cell_type": "markdown",
   "metadata": {
    "slideshow": {
     "slide_type": "subslide"
    }
   },
   "source": [
    "### Don't Repeat Yourself (DRY)\n",
    "\n",
    "An important principle in programming is Don't Repeat Yourself (DRY). Function reuse not only reduces the number of statements, it also make it easy to change the code in one place. If there is a bug in a function, you only need to fix the function definition in one place and all function calls use the revised version.\n",
    "\n",
    "There are many other benefits in testing, collaboration etc. Following is an example that three systems share a function.\n",
    "\n",
    "![reuse](../images/reuse.png)"
   ]
  },
  {
   "cell_type": "markdown",
   "metadata": {
    "slideshow": {
     "slide_type": "slide"
    }
   },
   "source": [
    "## Defining a Function\n",
    "\n",
    "The syntax to define a function is rather simple in Python. Following are examples of function definitions."
   ]
  },
  {
   "cell_type": "code",
   "execution_count": null,
   "metadata": {},
   "outputs": [],
   "source": [
    "# define a function: no parameter, no return value\n",
    "def function_name1():\n",
    "    \"\"\"Document for this function.\"\"\"\n",
    "    # statement\n",
    "    # statement\n",
    "    ..."
   ]
  },
  {
   "cell_type": "code",
   "execution_count": null,
   "metadata": {
    "slideshow": {
     "slide_type": "subslide"
    }
   },
   "outputs": [],
   "source": [
    "# define a function: two parameters, no return statement\n",
    "# returns None as default value\n",
    "def function_name2(parameter1, parameter2):\n",
    "    \"\"\"Document for this function.\"\"\"\n",
    "    # statement\n",
    "    # statement\n",
    "    ..."
   ]
  },
  {
   "cell_type": "code",
   "execution_count": null,
   "metadata": {
    "slideshow": {
     "slide_type": "subslide"
    }
   },
   "outputs": [],
   "source": [
    "# define a function: two parameters, has a return value\n",
    "def function_name3(parameter1, parameter2):\n",
    "    \"\"\"\n",
    "    Summary for this function followed by a blank line.\n",
    "\n",
    "    Detail description about the input, process and output\n",
    "    of the function.\n",
    "    \"\"\"\n",
    "    # statement\n",
    "    # statement\n",
    "    ...\n",
    "    return ..."
   ]
  },
  {
   "cell_type": "markdown",
   "metadata": {
    "slideshow": {
     "slide_type": "subslide"
    }
   },
   "source": [
    "### Function Header\n",
    "\n",
    "The first line is the `function header`. It begins with the keyword `def`, followed by a function name, an optional list of parameters enclosed in parentheses, and ends with a colon. Below is an example:\n",
    "\n",
    "`def function_name3(parameter1, parameter2):`"
   ]
  },
  {
   "cell_type": "markdown",
   "metadata": {
    "slideshow": {
     "slide_type": "subslide"
    }
   },
   "source": [
    "### Function Name Rules\n",
    "\n",
    "Python has a set of identifier rules and recommended styles for function names. Python uses so called *Python Enhancement Proposal (PEP)* to define language features and recommended practices. [PEP8](https://peps.python.org/pep-0008/) defines style guide for Python code.\n",
    "\n",
    "- A function name must be an valid identifier.\n",
    "- Python suggests snake_casing as function name: lower case words separated by an underscore.\n",
    "- It is a best practice to use a verb or a verb pluses a none for a function name. For example, `prepare`, `do_homework`, `print_message`."
   ]
  },
  {
   "cell_type": "markdown",
   "metadata": {
    "slideshow": {
     "slide_type": "subslide"
    }
   },
   "source": [
    "### Function Parameters\n",
    "\n",
    "A function header may have zero, one, or more `parameters` enclosed in parentheses. If there is no parameter, the function header just has a pair of parentheses. If there are two or more parameters, they are separated by a comma `,`. In the above function headers, they are:\n",
    "\n",
    "- `function_name1()`\n",
    "- `function_name2(parameter1, parameter2)`\n",
    "- `function_name3(parameter1, parameter2)`\n",
    "\n",
    "You can have as many parameters as you want, but it is not a good idea to have more than five parameters. You way want to split your function into small functions or compose parameters when there are too many parameters.\n",
    "\n",
    "Similar to the naming of variables and functions, you should give meaningful names to the function parameters because they are used as variables in the function code."
   ]
  },
  {
   "cell_type": "markdown",
   "metadata": {
    "slideshow": {
     "slide_type": "subslide"
    }
   },
   "source": [
    "### Default Argument\n",
    "\n",
    "When you call a function, you pass values to the parameters. These values are called `arguments`. Python supports `default argument`. You can define default values for parameters. In function definition. The default arguments must be at the end of the parameter list.\n",
    "\n",
    "When a function has a default argument, during a function call you can use the default argument or pass a new value. For example:\n"
   ]
  },
  {
   "cell_type": "code",
   "execution_count": null,
   "metadata": {},
   "outputs": [],
   "source": [
    "\n",
    "def greet(first_name, last_name, prefix='Hello'):\n",
    "    print(f'{prefix} {first_name} {last_name}')\n",
    "\n",
    "greet('Alicia', 'Keys')\n",
    "greet('Bob', 'Dylan', 'Hi')"
   ]
  },
  {
   "cell_type": "markdown",
   "metadata": {
    "slideshow": {
     "slide_type": "subslide"
    }
   },
   "source": [
    "### Positional Argument\n",
    "\n",
    "Normally, arguments are passed to functions based on their position and without parameter names are called `positional arguments`. The following calls use positional arguments."
   ]
  },
  {
   "cell_type": "code",
   "execution_count": null,
   "metadata": {},
   "outputs": [],
   "source": [
    "\n",
    "def greet(first_name, last_name, prefix='Hello'):\n",
    "    print(f'{prefix} {first_name} {last_name}')\n",
    "\n",
    "greet('Alicia', 'Keys')\n",
    "greet('Bob', 'Dylan', 'Hi')"
   ]
  },
  {
   "cell_type": "markdown",
   "metadata": {
    "slideshow": {
     "slide_type": "subslide"
    }
   },
   "source": [
    "### Keyword Argument\n",
    "\n",
    "You can use parameter names when you call a function with some arguments, these are called *keyword arguments*. It let you specify arguments in any order.\n",
    "\n",
    "However, if you mix positional arguments and keyword arguments, you must specify positional arguments first."
   ]
  },
  {
   "cell_type": "code",
   "execution_count": null,
   "metadata": {},
   "outputs": [],
   "source": [
    "\n",
    "def greet(first_name, last_name, prefix=\"Hello\"):\n",
    "    print(f\"{prefix} {first_name} {last_name}\")\n",
    "\n",
    "greet(first_name=\"BoB\", last_name = \"Dylan\")\n",
    "greet(\"Bob\", prefix=\"hi\", last_name = \"Dylan\")"
   ]
  },
  {
   "cell_type": "markdown",
   "metadata": {
    "slideshow": {
     "slide_type": "subslide"
    }
   },
   "source": [
    "### Five Parameter Types\n",
    "\n",
    "- positional-or-keyword: this is default and the most common parameter type. An argument passed positionally or as a keyword argument. For example: `def greet(message, name='alice')`\n",
    "- var-positional: prepending a `*` with a parameter makes it *variable positional parameter*. It can take an arbitrary sequence of positional arguments. For example: `def func(foo, *args)`.\n",
    "- var-keyword: prepending the `**` with a parameter makes it *variable keyword parameter*. It can take an arbitrary sequence of keyword arguments. For example: `def func(foo, **kwargs)`.\n",
    "- positional-only: you can specify that arguments can only be passed by position, i.e., cannot be a keyword argument, by putting a `/` in a function definition. For example,  `def func(pos_only1, pos_only2, /, positional_or_keyword): ...`\n",
    "- keyword-only: putting the `*` to mark following parameters are keyword-only. For example: `def func(arg, *, kw_only1, kw_only2): ...`."
   ]
  },
  {
   "cell_type": "markdown",
   "metadata": {
    "slideshow": {
     "slide_type": "subslide"
    }
   },
   "source": [
    "### Var-Positional and Var-keyword Parameters\n",
    "\n",
    "You often need var-positional and var-keyword parameters because it makes the code very flexible.\n",
    "\n",
    "For example, the built-in `print()` function can print an arbitrary sequence of values.\n",
    "\n",
    "You will see more examples."
   ]
  },
  {
   "cell_type": "markdown",
   "metadata": {
    "slideshow": {
     "slide_type": "subslide"
    }
   },
   "source": [
    "### Function Body\n",
    "\n",
    "The __function body__ is the code block indented (4 spaces, per Python coding style) below the function header. The statements in the function body are just regular statements. You can use all control statements (`if`, `for`, and `while`) in the function body.\n",
    "\n",
    "A non-indented statement below the function header marks the end of the function body. You should use a blank line separate a function and the statements before and after it.\n",
    "\n",
    "For example:"
   ]
  },
  {
   "cell_type": "code",
   "execution_count": null,
   "metadata": {},
   "outputs": [],
   "source": [
    "def greet(name, prefix = 'Hello'):\n",
    "    '''Greet with a prefix and name'''\n",
    "    \n",
    "    print(prefix, name)\n",
    "    \n",
    "print('Done')\n"
   ]
  },
  {
   "cell_type": "markdown",
   "metadata": {
    "slideshow": {
     "slide_type": "subslide"
    }
   },
   "source": [
    "### Docstring for Functions\n",
    "\n",
    "Except for trivial functions, you should write a docstring for the function. It can be a single line doc string, as shown in the above examples, or it can be a multi-line doc string: a summary line, followed by a blank line and detail description.\n",
    "\n",
    "Docstring format is defined in [PEP 257 - Docstring Conventions](https://peps.python.org/pep-0257/). The following is an example from the document."
   ]
  },
  {
   "cell_type": "code",
   "execution_count": null,
   "metadata": {},
   "outputs": [],
   "source": [
    "def complex(real=0.0, imaginary=0.0):\n",
    "    \"\"\"Form a complex number.\n",
    "\n",
    "    Keyword arguments:\n",
    "    real -- the real part (default 0.0)\n",
    "    imaginary -- the imaginary part (default 0.0)\n",
    "    \"\"\"\n",
    "    \n",
    "    if imaginary == 0.0 and real == 0.0:\n",
    "        return 0\n",
    "    ..."
   ]
  },
  {
   "cell_type": "markdown",
   "metadata": {
    "slideshow": {
     "slide_type": "subslide"
    }
   },
   "source": [
    "### Empty Function Body\n",
    "\n",
    "When you design a program, you divide your application into several functions but don't know the implementation details for some of you functions. You can use the `pass` keyword or `...` value as a temporary function body to write a **function stub** -- you can also print a message or return some value in the stub. You replace it with real code when you are ready to implement it."
   ]
  },
  {
   "cell_type": "code",
   "execution_count": null,
   "metadata": {},
   "outputs": [],
   "source": [
    "# recommended \n",
    "def do_homework():\n",
    "    pass\n",
    "\n",
    "def do_homework2():\n",
    "    ...\n",
    "\n",
    "def do_homework3(): ..."
   ]
  },
  {
   "cell_type": "markdown",
   "metadata": {
    "slideshow": {
     "slide_type": "subslide"
    }
   },
   "source": [
    "### Returning Value\n",
    "\n",
    "Some functions perform operations without returning a value, they are called `void functions`. The `void` means **nothing**. A function that only prints a message is a void function. The function `exit()` takes no argument and is a void function. It exits the program execution.\n",
    "\n",
    "Many functions perform some computation and return a value as its result. These are `value-returning` functions. You use the `return expression` in a function to return a value and complete the function. A function body may have multiple `return` statements. Following are two examples of function definition."
   ]
  },
  {
   "cell_type": "code",
   "execution_count": null,
   "metadata": {
    "slideshow": {
     "slide_type": "subslide"
    }
   },
   "outputs": [],
   "source": [
    "def add(number1, number2):\n",
    "    return number1 + number2\n",
    "\n",
    "\n",
    "# ugly but works\n",
    "def isOdd(number):\n",
    "    if number % 2 == 1:\n",
    "        return True\n",
    "    else:\n",
    "        return False\n",
    "\n",
    "    # unreachable statement\n",
    "    print('unreachable')\n",
    "\n",
    "# Actually, the above code is not a good example because `number % 2 == 1` is a boolean expression and can be returned directly. \n",
    "# isOdd can be simplified as:\n",
    "\n",
    "def isOdd(number):\n",
    "    return number % 2 == 1"
   ]
  },
  {
   "cell_type": "markdown",
   "metadata": {
    "slideshow": {
     "slide_type": "subslide"
    }
   },
   "source": [
    "### Returning Multiple Values\n",
    "\n",
    "It is possible to return multiple values using the `return` statement. You list the variables to be returned after the `return` keyword and use `,` to separate the multiple values. The statement `return first, second` actually returns a data type of `tuple`.\n",
    "\n",
    "The following is an example:"
   ]
  },
  {
   "cell_type": "code",
   "execution_count": null,
   "metadata": {},
   "outputs": [],
   "source": [
    "def get_name():\n",
    "    first = input('First name? ')\n",
    "    second = input('Second name? ')\n",
    "    return first, second\n",
    "\n",
    "first_name, second_name = get_name()\n",
    "\n",
    "print(first_name, second_name)"
   ]
  },
  {
   "cell_type": "markdown",
   "metadata": {
    "slideshow": {
     "slide_type": "slide"
    }
   },
   "source": [
    "## Function Call\n",
    "\n",
    "To use a function is to `call` a function. To call a parameterless function, append parentheses to the function name.\n",
    "\n",
    "To call a function that has parameters, you need to pass an argument for each parameter in the parentheses, in the same order as they are defined. These arguments are called `positional arguments`. \n",
    "\n",
    "You can also use the parameter name to pass an argument to the function call. This is a so-called `keyword argument`. You don't need to follow the order as defined in the function header. The keyword argument is helpful when there are several parameters and you want make them more readable.\n",
    "\n",
    "Following are some examples:"
   ]
  },
  {
   "cell_type": "code",
   "execution_count": null,
   "metadata": {
    "slideshow": {
     "slide_type": "subslide"
    }
   },
   "outputs": [],
   "source": [
    "def greet(first_name, last_name):\n",
    "    print(f'Hi {first_name} {last_name}')\n",
    "\n",
    "# positional arguments\n",
    "greet('Alicia', 'Keys')\n",
    "\n",
    "# keyword arguments, the order doesn't matter\n",
    "greet(first_name='Alicia', last_name='Keys')\n",
    "greet(last_name='Keys', first_name='Alicia')\n"
   ]
  },
  {
   "cell_type": "markdown",
   "metadata": {
    "slideshow": {
     "slide_type": "subslide"
    }
   },
   "source": [
    "### Keyword Arguments are After Positional Arguments\n",
    "\n",
    "\n",
    "If you use a keyword argument, it must be after positional arguments."
   ]
  },
  {
   "cell_type": "code",
   "execution_count": null,
   "metadata": {},
   "outputs": [],
   "source": [
    "def greet(first_name, last_name, prefix='Hello'):\n",
    "    print(f'{prefix} {first_name} {last_name}')\n",
    "\n",
    "greet(prefix='Hi', first_name='Elton', last_name='John')\n",
    "greet('Alicia', prefix='Hi', last_name='Keys')"
   ]
  },
  {
   "cell_type": "markdown",
   "metadata": {
    "slideshow": {
     "slide_type": "subslide"
    }
   },
   "source": [
    "### Variable Positional Argument\n",
    "\n",
    "Inside a function call, the var-positional argument, often named as `*args`, is a tuple that support two common operations of a tuple: \n",
    "\n",
    "- iterate using `for item in args`\n",
    "- unpack using assignment: `val1, val2, *rest = args`. Here `*rest` is a tuple that has the rest of elements in `args`.\n",
    "\n",
    "You can pass a number of arguments. \n",
    "\n",
    "Alternatively, you can pass a list, a tuple, or any sequential object as the argument of `*arg`. However, you need to put a `*` before the object."
   ]
  },
  {
   "cell_type": "code",
   "execution_count": null,
   "metadata": {
    "slideshow": {
     "slide_type": "subslide"
    }
   },
   "outputs": [],
   "source": [
    "# here the number is a mandatory argument\n",
    "# followed by a var-argument args\n",
    "def average(number, *args):\n",
    "    size = len(args) + 1\n",
    "\n",
    "    if size >= 3:\n",
    "        v1, v2, *rest = args\n",
    "        print(f\"first two: {v1}, {v2}\")\n",
    "\n",
    "    return (number + sum(args)) / size\n",
    "\n",
    "# call with a single argument\n",
    "# *args is an empty tuple ()\n",
    "result = average(7)\n",
    "print(result) # 7.0\n",
    "\n",
    "# call with multiple arguments\n",
    "result = average(2, 20, 30, 40)\n",
    "print(result) # 23.0\n",
    "\n",
    "numbers = [4, 5, 6]\n",
    "# call with a list\n",
    "# be careful to put * before a sequence (list)\n",
    "result = average(*numbers)\n",
    "print(result) # 5.0\n",
    "\n",
    "numbers = 7, 8, 9\n",
    "# call with a tuple\n",
    "# be careful to put * before a sequence (tuple)\n",
    "result = average(*numbers)\n",
    "print(result) # 8.0"
   ]
  },
  {
   "cell_type": "markdown",
   "metadata": {
    "slideshow": {
     "slide_type": "subslide"
    }
   },
   "source": [
    "### Variable Keyword Argument\n",
    "\n",
    "Similarly, inside a function call, the variable keyword argument, often named as `**kwargs`, is also a tuple that support iteration and unpacking. However, each item is a tuple of `(keyword, value)`.\n",
    "\n",
    "- iterate using `for keyword in kwargs` or `for key, value in kwargs.items()`\n",
    "- unpack using assignment: `(keyword1, value1), (keyword2, value2) = args`\n",
    "\n",
    "You can pass a number of keyword arguments.\n",
    "\n",
    "Alternatively, you can pass a dictionary as the argument of `*arg`. However, you need to put a `**` before the dictionary object."
   ]
  },
  {
   "cell_type": "code",
   "execution_count": null,
   "metadata": {
    "slideshow": {
     "slide_type": "subslide"
    }
   },
   "outputs": [],
   "source": [
    "def print_values(**kwargs):\n",
    "    for key, value in kwargs.items():\n",
    "        print(\"The value of {} is {}\".format(key, value))\n",
    "\n",
    "print_values(\n",
    "            name1=\"Alice\",\n",
    "            name2=\"Bob\",\n",
    "            name3=\"Cindy\",\n",
    "            name4=\"David\",\n",
    "        )\n",
    "\n",
    "## use a dictionary argument\n",
    "names = {\"name1\": \"Alice\", \"name2\": \"Bob\"}\n",
    "print_values(**names)"
   ]
  },
  {
   "cell_type": "markdown",
   "metadata": {
    "slideshow": {
     "slide_type": "slide"
    }
   },
   "source": [
    "## Functions Are Objects\n",
    "\n",
    "A function is an object that has a type (class `function`), an identity (the function name) and a value (the definition of the function).\n",
    "\n",
    "As an object, it can be assigned to another variable or can be passed as an argument in function call.\n",
    "\n",
    "A function takes another function as its parameter is called a **high-order function**. The name is fancy but the concept is rather simple."
   ]
  },
  {
   "cell_type": "markdown",
   "metadata": {
    "slideshow": {
     "slide_type": "subslide"
    }
   },
   "source": [
    "### A High-Order Function Example\n",
    "\n",
    "The following is an example of higher-order function. Python's `map` function takes a function as its first parameter and a list as the 2nd parameter. The result is a `map` object that can be converted into a list using `list(m)`.\n",
    "\n",
    "Be careful that you use `double`, not `double()` in `map`. `double()` is a function call -- it is invalid because it misses its argument."
   ]
  },
  {
   "cell_type": "code",
   "execution_count": null,
   "metadata": {},
   "outputs": [],
   "source": [
    "def double(num):\n",
    "    return num * 2\n",
    "\n",
    "items = [1, 2, 3]\n",
    "list(map(double, items))\n",
    "\n",
    "# this also works\n",
    "operator = double\n",
    "list(map(operator, items))"
   ]
  },
  {
   "cell_type": "markdown",
   "metadata": {
    "slideshow": {
     "slide_type": "subslide"
    }
   },
   "source": [
    "### Methods are Function-like Objects\n",
    "\n",
    "When you bind a function with a specific data type, it becomes a method. It helps organize functions into a group of operations that are closely related to a data type. Method is an object-oriented programming concept that will be covered later.\n",
    "\n",
    "For now, it is enough to know an important difference between a method and a function:\n",
    "\n",
    "- You call a function using a function name followed by arguments in a pair of parentheses `function(arg1, arg2)`\n",
    "- You call a method using a dot notation like `my_object.method(arg1, arg2)` because the function is bind with some object `my_object`. Conceptually, you can think `my_object.method(arg1, arg2)` as `method(my_object, arg1, arg2)` -- the `my_object` is always the first argument for a method."
   ]
  },
  {
   "cell_type": "markdown",
   "metadata": {
    "slideshow": {
     "slide_type": "subslide"
    }
   },
   "source": [
    "### The `main` Function\n",
    "\n",
    "There is a convention in Python coding: you want to use the `main` function name as the entry point of a program. A non-trivial program has many functions, however, there must be a function working as the entry point of the program. \n",
    "\n",
    "The `main` contains the mainline logic of a program that calls other functions to perform top level tasks. Each top level task may call other functions to perform subtasks. Following is an example of function organization.\n",
    "\n",
    "![structure](../images/structure.png)"
   ]
  },
  {
   "cell_type": "markdown",
   "metadata": {
    "slideshow": {
     "slide_type": "subslide"
    }
   },
   "source": [
    "### An Application Example\n",
    "\n",
    "You should use `main` as the entry of your program as the following - it shows that you can use a function in a function body and define it later. "
   ]
  },
  {
   "cell_type": "code",
   "execution_count": null,
   "metadata": {},
   "outputs": [],
   "source": [
    "def main():\n",
    "    number = 42\n",
    "    print_triple(number)\n",
    "\n",
    "def print_triple(number):\n",
    "    triple = number * 3\n",
    "    print(f'Triple of {number} is {triple}.')\n",
    "\n",
    "main()"
   ]
  },
  {
   "cell_type": "markdown",
   "metadata": {
    "slideshow": {
     "slide_type": "slide"
    }
   },
   "source": [
    "## Variable Scope\n",
    "\n",
    "Every Python variable has a scope -- it is only visible in the region it is defined. Python has three scopes:\n",
    "\n",
    "- Built-in scope: Python has some built-in names such as `int()`, `str()`, `list()` etc.\n",
    "- Local scope: variables in a function. There are many local scopes because there are many functions.\n",
    "- Global scope: variable outside any function.\n",
    "\n",
    "Python use a dictionary for each scope. Such a dictionary is called a **namespace** but it is an implementation detail that you can learn more in the future."
   ]
  },
  {
   "cell_type": "markdown",
   "metadata": {
    "slideshow": {
     "slide_type": "subslide"
    }
   },
   "source": [
    "### Local Variable\n",
    "\n",
    "A variable defined inside a function can be used in the function after it is defined. This is called a `local variable`. The function is the scope of the local variable. Outside the function, it is invisible and cannot be used.\n",
    "\n",
    "The function parameters are also local variables. You can use them inside the function as locally defined variables. Assigning a parameter to another value doesn't affect the corresponding argument."
   ]
  },
  {
   "cell_type": "markdown",
   "metadata": {
    "slideshow": {
     "slide_type": "subslide"
    }
   },
   "source": [
    "### A Local Variable Example\n",
    "\n",
    "In the following code, the `number` in `main` is a local number and is passed to `print_triple` function. Inside the `print_triple` function, the `number` is a local variable -- a totally different one from the `number` in `main`. The program assigns it to a different value of `126`. In the `main` function, it still has a value of `42`."
   ]
  },
  {
   "cell_type": "code",
   "execution_count": null,
   "metadata": {},
   "outputs": [],
   "source": [
    "def main():\n",
    "    number = 42 # a local variable\n",
    "    print_triple(number)\n",
    "    print(f'The number in main is {number}')\n",
    "\n",
    "# the number parameter is in a different namespace\n",
    "def print_triple(number):\n",
    "    number *= 3\n",
    "    # you shouldn't change the parameter to avoid subtle bugs\n",
    "    print(f'Tripled number is {number}')\n",
    "\n",
    "main()"
   ]
  },
  {
   "cell_type": "markdown",
   "metadata": {
    "slideshow": {
     "slide_type": "subslide"
    }
   },
   "source": [
    "### Global Variable\n",
    "\n",
    "A variable defined in the main body of a file, i.e, not defined in a function, is called a `global variable`. It is visible and accessible to all statements inside or outside the functions.\n",
    "\n",
    "Because a global variable is shared by all functions, you should not define and use global variables in your program because it is hard to tell where it is changed. The only reasonable situation for global variable is to define constant values that is shared by all function."
   ]
  },
  {
   "cell_type": "code",
   "execution_count": null,
   "metadata": {
    "slideshow": {
     "slide_type": "subslide"
    }
   },
   "outputs": [],
   "source": [
    "PI = 3.1416\n",
    "\n",
    "def main():\n",
    "    radius = 42\n",
    "    print_area(radius)\n",
    "\n",
    "def print_area(radius):\n",
    "    area = radius * radius * PI\n",
    "    print(f'The area is {area: .2f}')\n",
    "\n",
    "main()"
   ]
  },
  {
   "cell_type": "markdown",
   "metadata": {
    "slideshow": {
     "slide_type": "subslide"
    }
   },
   "source": [
    "### Control Statements Don't Create a Namespace\n",
    "\n",
    "The scope for variables defined in control statements `if`, `for` and `while` is its enclosing function.\n",
    "\n",
    "If they are not defined in a function (very rare), they are in the global scope. Below is an example where the `number` is created in the `for` loop but its scope is the `main` function. Therefore it can be used by the `print(number)` statement in the `main` function."
   ]
  },
  {
   "cell_type": "code",
   "execution_count": null,
   "metadata": {},
   "outputs": [],
   "source": [
    "def main():\n",
    "    for number in range(3):\n",
    "        print(number)\n",
    "\n",
    "    print(number)\n",
    "\n",
    "main()"
   ]
  },
  {
   "cell_type": "markdown",
   "metadata": {
    "slideshow": {
     "slide_type": "slide"
    }
   },
   "source": [
    "## Call Stack\n",
    "\n",
    "Usually your program has a entry point function and the function calls other functions which call more other functions. When a function calls another function, Python interpreter saves the status of the current function in a data structure called a __call frame__, then executed the callee function.\n",
    "\n",
    "Similarly, the callee function may call another function and more and more, eventually, we have a so-called call stack.\n",
    "\n",
    "![call stack](../images/call-stack.png)\n"
   ]
  },
  {
   "cell_type": "code",
   "execution_count": null,
   "metadata": {
    "slideshow": {
     "slide_type": "subslide"
    }
   },
   "outputs": [],
   "source": [
    "def foo():\n",
    "  x = \"foo\"\n",
    "  print(f\"foo line 2. x is {x}\")\n",
    "  print(\"foo line 3\")\n",
    "  print(\"foo line 4\")\n",
    "\n",
    "def fum():\n",
    "  print(\"fum line 1\")\n",
    "  print(\"fum line 2\")\n",
    "  print(\"fum line 3\")\n",
    "\n",
    "def bar():\n",
    "  x = 21\n",
    "  print(f\"bar line 2. x is {x}\")\n",
    "  fum()\n",
    "  foo()\n",
    "  print(f\"bar line 5. x is {x}\")\n",
    "\n",
    "def main():\n",
    "  x = 42\n",
    "  bar()\n",
    "  print(f\"main line 3. x is {x}\")\n",
    "\n",
    "main()"
   ]
  },
  {
   "cell_type": "markdown",
   "metadata": {
    "slideshow": {
     "slide_type": "subslide"
    }
   },
   "source": [
    "### An Example of Call Frames\n",
    "\n",
    "The `main` function calls the `bar` function that calls three more functions: `print`, `fum`, `foo`.\n",
    "\n",
    "When the `bar` calls `foo`, there are three functions in the stack: at the bottom, `main`, then `bar`, then, at the top, `foo`.\n",
    "\n",
    "You can debug the code to see the call stack. When a function returns, its call frame is popped up from the stack and its caller becomes the top function in the call stack.\n",
    "\n",
    "The variable `x` is a local variable in its function scope and may have different values at different time."
   ]
  },
  {
   "cell_type": "markdown",
   "metadata": {
    "slideshow": {
     "slide_type": "slide"
    }
   },
   "source": [
    "## Recursive Function\n",
    "\n",
    "A function calls itself with different (usually smaller) arguments is call a recursive function.\n",
    "\n",
    "All loops (iterations) can be coded with recursive functions. Actually some programming languages only have recursive functions for iteration.\n",
    "\n",
    "There are cases where recursive functions are easier to write and maintain then loops. Sometimes, the difference is not clear.\n",
    "\n",
    "Similarly to loops, it is critically important to define the termination conditions. Usually termination conditions are checked at the beginning of a recursive function."
   ]
  },
  {
   "cell_type": "code",
   "execution_count": null,
   "metadata": {
    "slideshow": {
     "slide_type": "subslide"
    }
   },
   "outputs": [],
   "source": [
    "# the recursive version\n",
    "def count_down(number):\n",
    "    if number == 0:\n",
    "        print('Done.')\n",
    "    else:\n",
    "        print(f'Count {number}')\n",
    "        count_down(number - 1)\n",
    "\n",
    "count_down(3)\n",
    "\n",
    "\n",
    "# the loop version\n",
    "def count_down2(number):\n",
    "    for current_number in range(number, 0, -1):\n",
    "        print(f'Count {current_number}')\n",
    "\n",
    "    print('Done.')\n",
    "\n",
    "count_down2(3)"
   ]
  }
 ],
 "metadata": {
  "kernelspec": {
   "display_name": "Python 3",
   "language": "python",
   "name": "python3"
  },
  "language_info": {
   "codemirror_mode": {
    "name": "ipython",
    "version": 3
   },
   "file_extension": ".py",
   "mimetype": "text/x-python",
   "name": "python",
   "nbconvert_exporter": "python",
   "pygments_lexer": "ipython3",
   "version": "3.11.4"
  },
  "orig_nbformat": 4
 },
 "nbformat": 4,
 "nbformat_minor": 2
}
