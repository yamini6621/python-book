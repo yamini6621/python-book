{
 "cells": [
  {
   "cell_type": "markdown",
   "metadata": {
    "slideshow": {
     "slide_type": "slide"
    }
   },
   "source": [
    "# Module\n",
    "\n",
    "- Module File\n",
    "- Import a Module\n",
    "- Package\n",
    "- Module and Path"
   ]
  },
  {
   "cell_type": "markdown",
   "metadata": {
    "slideshow": {
     "slide_type": "slide"
    }
   },
   "source": [
    "## Module File\n",
    "\n",
    "A Python source code file with a `.py` postfix is called a __script__ file.\n",
    "\n",
    "Each script file is called a __module__.\n",
    "\n",
    "According to [Python Naming Convention](https://github.com/naming-convention/naming-convention-guides/tree/master/python), use `snake_casing` (lowercase words delimited by underscore) for file names."
   ]
  },
  {
   "cell_type": "markdown",
   "metadata": {
    "slideshow": {
     "slide_type": "subslide"
    }
   },
   "source": [
    "### Module Content\n",
    "\n",
    "Inside a module, you can define\n",
    "\n",
    "- functions\n",
    "- classes\n",
    "- global variables (not recommended)\n",
    "\n",
    "You need to import these identifiers before use them in different modules."
   ]
  },
  {
   "cell_type": "markdown",
   "metadata": {
    "slideshow": {
     "slide_type": "slide"
    }
   },
   "source": [
    "## Import a Module\n",
    "\n",
    "To use a function from a different module, you `import` the module.\n",
    "\n",
    "The `import` statement loads and __executes__ the code in the script file, therefore the function/variable definitions of the imported module are available in the importing module.\n",
    "\n",
    "If a module is imported by many modules, it is executed only in the first `import`."
   ]
  },
  {
   "cell_type": "markdown",
   "metadata": {
    "slideshow": {
     "slide_type": "subslide"
    }
   },
   "source": [
    "### Import Syntax\n",
    "\n",
    "If a module has a filename of `my_module.py`, use `import my_module` to import the module.\n",
    "\n",
    "Then you access its variables and functions using the dot notation: `my_module.foo()`.\n",
    "\n",
    "Alternatively, you can import identifiers directly using the syntax: `from my_module import foo`. Then you can use the identifier without the module name like `foo()`. You can import one or more identifiers."
   ]
  },
  {
   "cell_type": "markdown",
   "metadata": {
    "slideshow": {
     "slide_type": "subslide"
    }
   },
   "source": [
    "### `__name__`\n",
    "\n",
    "When a module is imported, the `__name__` is the filename.\n",
    "\n",
    "If a module is executed as a script, the `__name__` is `__main__`.\n",
    "\n",
    "To test a file named `my_file.py`, you can import the file `import my_file` or run it from command line like `python my_file.py` to see the difference."
   ]
  },
  {
   "cell_type": "code",
   "execution_count": null,
   "metadata": {},
   "outputs": [],
   "source": [
    "# my_file.py\n",
    "\n",
    "if __name__ == \"__main__\":\n",
    "    print(\"Run as a script.\")\n",
    "else:\n",
    "    print(\"run as imported module.\")"
   ]
  },
  {
   "cell_type": "markdown",
   "metadata": {
    "slideshow": {
     "slide_type": "subslide"
    }
   },
   "source": [
    "### An Import Example\n",
    "\n",
    "There are two files in this example:\n",
    "\n",
    "- `utils.py` defines a global constant `PI` and a function `factorial`\n",
    "- `main.py` imports and uses the identifier defined in `utils.py` module.\n",
    "\n",
    "When you run the `main.py` script, it shows the printed message in `utils.py` because the `print` function is executed by the `import` statement, that is before other statements in the `main.py` module."
   ]
  },
  {
   "cell_type": "code",
   "execution_count": null,
   "metadata": {
    "slideshow": {
     "slide_type": "subslide"
    }
   },
   "outputs": [],
   "source": [
    "# utils.py\n",
    "print(\"show message when this is first imported\")\n",
    "\n",
    "PI = 3.14\n",
    "\n",
    "def factorial(number):\n",
    "    result = 1\n",
    "    for count in range(2, number + 1):\n",
    "        result *= count\n",
    "    \n",
    "    return result\n",
    "\n",
    "# main.py\n",
    "from utils import PI, factorial\n",
    "\n",
    "if __name__ == \"__main__\":\n",
    "    print(PI)\n",
    "    print(factorial(5))"
   ]
  },
  {
   "cell_type": "markdown",
   "metadata": {
    "slideshow": {
     "slide_type": "slide"
    }
   },
   "source": [
    "## Package\n",
    "\n",
    "A non-trivial application has many modules. It is a best practice to put relevant modules into a directory and create an `__init__.py` file in the directory.\n",
    "\n",
    "A directory with an `__init__.py` file defines a package that consists of many files (modules). Like a directory, a package can have nested packages.\n",
    "\n",
    "The `__init__.py` can be empty or has `import` statements to import its modules. If it is not empty, `import my_package` executes the code in `my_package/__init__.py` file.\n"
   ]
  },
  {
   "cell_type": "markdown",
   "metadata": {
    "slideshow": {
     "slide_type": "subslide"
    }
   },
   "source": [
    "### A Package Example\n",
    "\n",
    "```text\n",
    "my_package/\n",
    "    __init__.py\n",
    "    module1.py\n",
    "    module2.py\n",
    "    ...\n",
    "    nested_package/\n",
    "        __init__.py\n",
    "        sub_module1.py\n",
    "        sub_module2.py\n",
    "        ...\n",
    "```"
   ]
  },
  {
   "cell_type": "markdown",
   "metadata": {
    "slideshow": {
     "slide_type": "subslide"
    }
   },
   "source": [
    "### Import a Package\n",
    "\n",
    "You can import a module define in a package using the directory path.\n",
    "\n",
    "For example, for the previous package example, you can use \n",
    "\n",
    "- `import my_package.module1` or `from my_package import module1`\n",
    "- `import my_package.nested_package.sub_module2` or `from my_package.nested_package import sub_module2`\n",
    "\n",
    "You can also use relative path to import a module:\n",
    "\n",
    "- in `my_package.module1`, you can use `import nested_package.sub_module1` or `from nested_package import sub_module1`\n",
    "- in `nested_package.sub_module2`, you can use `import ../module1` or `from .. import module1`."
   ]
  },
  {
   "cell_type": "markdown",
   "metadata": {
    "slideshow": {
     "slide_type": "slide"
    }
   },
   "source": [
    "### Module and Path\n",
    "\n",
    "There are different types of modules:\n",
    "\n",
    "- Built-in module: pre-installed with Python, just `import module_name`.\n",
    "- Modules in installed packages. You can use `pip` to install Python packages.\n",
    "- Local modules: Python source files in the same folder or using relative path.\n",
    "\n",
    "Except the built-in modules, Python searches a set of paths to find a module file.\n",
    "\n",
    "You can read the search paths using `sys.path` variable. Usually you don't need to change it."
   ]
  },
  {
   "cell_type": "code",
   "execution_count": null,
   "metadata": {
    "slideshow": {
     "slide_type": "subslide"
    }
   },
   "outputs": [],
   "source": [
    "import sys\n",
    "\n",
    "print(sys.path)\n",
    "\n",
    "# a sample output in MacOS\n",
    "# ['', '/Library/Frameworks/Python.framework/Versions/3.11/lib/python311.zip', '/Library/Frameworks/Python.framework/Versions/3.11/lib/python3.11', '/Library/Frameworks/Python.framework/Versions/3.11/lib/python3.11/lib-dynload', '/Library/Frameworks/Python.framework/Versions/3.11/lib/python3.11/site-packages' "
   ]
  }
 ],
 "metadata": {
  "language_info": {
   "name": "python"
  },
  "orig_nbformat": 4
 },
 "nbformat": 4,
 "nbformat_minor": 2
}
