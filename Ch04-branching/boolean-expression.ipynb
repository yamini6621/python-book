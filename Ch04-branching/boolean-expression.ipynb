{
 "metadata": {
  "language_info": {
   "codemirror_mode": {
    "name": "ipython",
    "version": 3
   },
   "file_extension": ".py",
   "mimetype": "text/x-python",
   "name": "python",
   "nbconvert_exporter": "python",
   "pygments_lexer": "ipython3",
   "version": "3.9.1-final"
  },
  "orig_nbformat": 2,
  "kernelspec": {
   "name": "python38564bita6c660d366ad41288ccc0d1156e7cceb",
   "display_name": "Python 3.8.5 64-bit",
   "language": "python"
  }
 },
 "nbformat": 4,
 "nbformat_minor": 2,
 "cells": [
  {
   "cell_type": "markdown",
   "metadata": {},
   "source": [
    "# Boolean Expression\n",
    "\n",
    "This section introduces the control structure concepts and Boolean expressions.\n",
    "\n",
    "## 1 Control Structure\n",
    "\n",
    "So far all Python code is exeucted in a sequential mode from the first line to the last line in a file. You know in real life that it is far from engough. There are two type of activities happening all the time:\n",
    "\n",
    "- You need to take different actions for different conditions. You take umbrella with you when it rains. A doctor writes different prescriptions for different symptoms and so on and so forth.\n",
    "- You often repeat an operation until certain conditions are met. For example, keep running for one hour, lift 100lbs for 12 times, etc.\n",
    "\n",
    "In both types, you need to control activities based on certain conditions. Python has built-in constructs for the two types of actitivies:\n",
    "\n",
    "- decision structure: if A happens, then take action B, otherwise C. \n",
    "- repetition structure: while condition X is true, repeat Y.\n",
    "\n",
    "Together they are called **control structures**. Control structures let you take different actions for different conditions. In Python, conditions/tests are represented using **Boolean expressions**. Boolean expressions are named after George Boole, an English mathematician who invented a logic system to compute true and false in the 1800s. A Boolean expression uses two types of operators: \n",
    "\n",
    "- relational operators: compare two values to test a condition\n",
    "- logical operators: create a complex Boolean expression that consists of multiple subexpression/conditions."
   ]
  },
  {
   "cell_type": "markdown",
   "metadata": {},
   "source": [
    "\n",
    "## 2 Relational Operators\n",
    "\n",
    "Typically, a Boolean expression uses a **relational operator** to specify the relationship between two values (operands). Python has the following relational operators:\n",
    "\n",
    "- `>`: greater than\n",
    "- `>=`: greater than or equal to\n",
    "- `<`: less than\n",
    "- `<=`: less than or equal to\n",
    "- `==`: equal to\n",
    "- `!=`: not equal to\n",
    "\n",
    "Following are boolean expressions and evaluation results using the relational operators:\n",
    "\n",
    "- `x > y`: is `x` greater than `y`? If yes, `True`, else, `False`.\n",
    "- `x >= y`: is `x` greater than or equal to `y`? If yes, `True`, else, `False`.\n",
    "- `x < y`: is `x` less than `y`? If yes, `True`, else, `False`.\n",
    "- `x <= y`: is `x` less than or equal to `y`? If yes, `True`, else, `False`.\n",
    "- `x == y`: is `x` equal to `y`? If yes, `True`, else, `False`.\n",
    "- `x != y`: is `x` not equal to `y`? If yes, `True`, else, `False`.\n",
    "\n",
    "You can try the following code and verify the results using your elementary math knowledge:"
   ]
  },
  {
   "cell_type": "code",
   "execution_count": null,
   "metadata": {
    "tags": []
   },
   "outputs": [],
   "source": [
    "print(3 > 5)\n",
    "print(3 >= 5)\n",
    "\n",
    "x = 3\n",
    "y = 5\n",
    "print(x < y)\n",
    "print(x <= y)\n",
    "\n",
    "print(x  == (x + y))\n",
    "print((x + y) != y)"
   ]
  },
  {
   "cell_type": "markdown",
   "metadata": {},
   "source": [
    "Please pay attention that Python use the keywords `True` (first letter is uppercase) and `False` (first letter is uppercase) to represent true or false result of a Boolean expression."
   ]
  },
  {
   "cell_type": "markdown",
   "metadata": {},
   "source": [
    "## 3 Compare Strings\n",
    "\n",
    "The `==` and `!=` operators work as expected. If two strings have the same sequence of characters, `==` produces `True`, `!=` produces `False`.  "
   ]
  },
  {
   "cell_type": "code",
   "execution_count": null,
   "metadata": {
    "tags": []
   },
   "outputs": [],
   "source": [
    "print(\"abc\" == \"abc\")\n",
    "print(\"abc\" != \"abc\")\n",
    "print(\"abc\" == \"x\")\n",
    "print(\"abc\" != \"x\")"
   ]
  },
  {
   "cell_type": "markdown",
   "metadata": {},
   "source": [
    "However, the `>`, `>=`, `<`, and `<=` comparisons using strings are not intuitive. You know that all characters are represented in a binary format according to some encoding standards such as ASCII or Unicode. Following is an ASCII code table:\n",
    "\n",
    "![ascii](images/ascii.gif)\n",
    "\n",
    "As you see, these binaries can be represented as integer numbers. In the ASCII standard:\n",
    "\n",
    "- The characters `A` through `Z` are represented by the number `65` through `90`\n",
    "- The characters `a` through `z` are represented by the number `97` through `122`\n",
    "- The character `0` through `9` are represented by the number `48` through `57`.\n",
    "- Every character/number/symbol is associated with a number. For example, a blank space is `32`.\n",
    "\n",
    "Python use the underlying numbers to compare two strings, starting from the first character in both strings. If a charcter in one string is not equal to its corresponding character in the other string, it compares the two numbers and produces the result, other characters are ignored. You can use the above ASCII table to verify the outputs for the following code:"
   ]
  },
  {
   "cell_type": "code",
   "execution_count": null,
   "metadata": {
    "tags": []
   },
   "outputs": [],
   "source": [
    "print('a' < 'zoo')\n",
    "print('A' < 'zoo')\n",
    "print('wolf' < 'zebra')"
   ]
  },
  {
   "cell_type": "markdown",
   "metadata": {},
   "source": [
    "## 4 Logical Operators\n",
    "\n",
    "When you want to test multiple conditions, you use one or multiple logical operators to create a complex Boolean expression that consists of multiple subexpressions (conditions).\n",
    "\n",
    "Python has three logical operators that are intuitive to understand:\n",
    "\n",
    "- `and`: a **binary operator** that takes two operands. Both must be `True` to have a `True` result, `False` if one is `False`.\n",
    "- `or`: a **binary operator** takes two operands. It produces a `True` result if one of the subexpressions is `Ture`, `False` if both are `False`.\n",
    "- `not`: a **unary operator** that takes one operand. It negates/flips the operand: `True` results in `False` and `False` results in `True`.\n",
    "\n",
    "The logical operator truth table:\n",
    "\n",
    "| operator | oprand 1 | operand 2 | result |\n",
    "| -- | -- | -- | -- |\n",
    "| and | True | True | True |\n",
    "| and | True | False | False |\n",
    "| and | False | True | False |\n",
    "| and | False | False | False |\n",
    "| or | True | True | True |\n",
    "| or | True | False | True |\n",
    "| or | False | True | True |\n",
    "| or | False | False | False |\n",
    "\n"
   ]
  },
  {
   "cell_type": "code",
   "execution_count": null,
   "metadata": {
    "tags": []
   },
   "outputs": [],
   "source": [
    "A_SCORE = 90 \n",
    "\n",
    "my_score = 89\n",
    "class_median = 87\n",
    "\n",
    "print(my_score >= A_SCORE and my_score >= class_median)\n",
    "print(my_score < A_SCORE or my_score < class_median)\n",
    "print(not(my_score < A_SCORE))"
   ]
  },
  {
   "cell_type": "markdown",
   "metadata": {},
   "source": [
    "The above code work as expected because `and` and `or` have lower precedence than relational operators. However, it is recommended to use parentheses to group operations to make it easy to read. An even better method is to use a variable to represent a non-trivial experssion.\n"
   ]
  },
  {
   "cell_type": "code",
   "execution_count": null,
   "metadata": {
    "tags": []
   },
   "outputs": [],
   "source": [
    "A_SCORE = 90 \n",
    "\n",
    "my_score = 89\n",
    "class_median = 87\n",
    "print((my_score >= A_SCORE) and (my_score >= class_median))\n",
    "print((my_score < A_SCORE) or (my_score < class_median))\n",
    "\n",
    "# Better\n",
    "higher_than_a = my_score >= A_SCORE\n",
    "higher_than_median = my_score >= A_SCORE\n",
    "print(f'Higher than both: {higher_than_a and higher_than_median}')"
   ]
  },
  {
   "cell_type": "markdown",
   "metadata": {},
   "source": [
    "## 5 Short-circuit Evaluation\n",
    "\n",
    "The `and` and `or` operators can optimize the evalution of a complex expression in certain combinations. For example:"
   ]
  },
  {
   "cell_type": "code",
   "execution_count": null,
   "metadata": {
    "tags": []
   },
   "outputs": [],
   "source": [
    "A_SCORE = 90 \n",
    "\n",
    "my_score = 89\n",
    "class_median = 87\n",
    "print((my_score >= A_SCORE) and (my_score >= class_median))\n",
    "print((my_score < A_SCORE) or (my_score < class_median))"
   ]
  },
  {
   "cell_type": "markdown",
   "metadata": {},
   "source": [
    "In both `print` function, Python only evaluates the first Boolean expression. The values of the Boolean expressions in the right of `and` and `or` don't change the result and can be ignored.\n",
    "\n",
    "| Expression | Short circuit|\n",
    "| -- | -- | \n",
    "| X and Y | Execute Y only when X is `True` |\n",
    "| X or Y | Execute Y only when X is `False` |"
   ]
  },
  {
   "source": [
    "# 6 What is `True`?\n",
    "\n",
    "> Oscar Wild: \"The truth is rarely pure and never simple.\" \n",
    "\n",
    "All Python functions return a value. If nothing to return, for example, in the `print` function, the return value is `None` -- a literal value represents nothing, void, or none.\n",
    "\n",
    "An interesting fact is that all values can be truthy or falsy. Most values are `True` and a few are `False`. You can use `bool` function to find the result. "
   ],
   "cell_type": "markdown",
   "metadata": {}
  },
  {
   "cell_type": "code",
   "execution_count": null,
   "metadata": {},
   "outputs": [],
   "source": [
    "bool(1) # True\n",
    "bool('abc') # True\n",
    "bool(3.14) # True\n",
    "\n",
    "bool(0) # False\n",
    "bool('') # False\n",
    "bool(None) # False"
   ]
  },
  {
   "source": [
    "You can find the `True` or `False` of an expression."
   ],
   "cell_type": "markdown",
   "metadata": {}
  },
  {
   "cell_type": "code",
   "execution_count": null,
   "metadata": {},
   "outputs": [],
   "source": [
    "bool(2 + 3) # True\n",
    "bool(2 - 2) # False\n",
    "bool(print('Hi')) # False. Why? \n",
    "bool(len('ABC')) # True\n",
    "bool(len(\"\")) # False"
   ]
  },
  {
   "source": [
    "What are the output of the following statements?"
   ],
   "cell_type": "markdown",
   "metadata": {}
  },
  {
   "cell_type": "code",
   "execution_count": null,
   "metadata": {},
   "outputs": [],
   "source": [
    "print('Hi1') and print('After1')\n",
    "print('Hi2') or print('After2')\n",
    "len('Hi3') and print('After3')\n",
    "len('Hi4') or print('After4')\n"
   ]
  }
 ]
}