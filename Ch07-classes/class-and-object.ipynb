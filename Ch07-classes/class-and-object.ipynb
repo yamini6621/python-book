{
 "cells": [
  {
   "cell_type": "markdown",
   "metadata": {},
   "source": [
    "# Class and Object\n",
    "\n",
    "Every Python data is an object. Objects are created from a class. The class, working as a template, defines the attributes and methods that its objects can have. `list`, `tuple` and `string` are all classes that each can have many objects, called instances, of the corresponding class."
   ]
  },
  {
   "cell_type": "markdown",
   "metadata": {},
   "source": [
    "# 1 Define a Class\n",
    "\n",
    "You use the `class` keyword to define a class. Following is an example:"
   ]
  },
  {
   "cell_type": "code",
   "execution_count": null,
   "metadata": {},
   "outputs": [],
   "source": [
    "class Rectangle:\n",
    "    def __init__(self, length, width):\n",
    "        self.length = length\n",
    "        self.width = width\n",
    "\n",
    "    def area(self):\n",
    "        return self.length * self.width"
   ]
  },
  {
   "cell_type": "markdown",
   "metadata": {},
   "source": [
    "The following is line-by-line explanation of the code.\n",
    "\n",
    "- `class Rectangle:`: defines a class named `Rectangle`.\n",
    "-  `def __init__(self, length, width):`: the `__init__` is a special initialization method, also called a `constructor` method, it is used to create an instance of the class. The first parameter of all class methods should be `self`. It means the object being created. After the `self`, you can have zeor, one or more parameters used to create an object for the class. Here we have two parameters.\n",
    "- `self.length = length`: this line create an attribute called `length` because the syntax of `self.length`.\n",
    "- `self.width = width`: this line create an attribute called `width` because the syntax of `self.width`.\n",
    "- `def area(self):`: this line defines a method called `area`. The first parameter must be `self` and it doesn't take other paramter. \n",
    "- `return self.length * self.width`: the method body of `area` method. Inside the class methods, use `self.attribute_name` to refer the object's attribute."
   ]
  },
  {
   "cell_type": "markdown",
   "metadata": {},
   "source": [
    "## 2 Create and Use an Object\n",
    "\n"
   ]
  },
  {
   "cell_type": "code",
   "execution_count": null,
   "metadata": {},
   "outputs": [],
   "source": [
    "rect = Rectangle(3, 5)\n",
    "area = rect.area()\n",
    "print(f'Length: {rect.length}, width: {rect.width}, area: {area}')"
   ]
  },
  {
   "cell_type": "markdown",
   "metadata": {},
   "source": [
    "You use the class name and the parameters specified in `__init__` method to create an object. To call an object method or access an attribute, use the dot notations explained as the following:\n",
    "\n",
    "- `rect = Rectangle(3, 5)`: create an instance of `Rectangle` with specified length and width. `rect` points to the newly created object.\n",
    "- `area = rect.area()`: The dot notation `rect.area()` is used to call a method of an object.\n",
    "- `print(f'Length: {rect.length}, width: {rect.width}, area: {area}')`: print the result. Use not notation `rect.length` and `rect.width` to access object's properties.\n",
    "\n",
    "You can use the attribute to change the object by putting the attribute in the left hand side of an assignment. For example:\n"
   ]
  },
  {
   "cell_type": "code",
   "execution_count": null,
   "metadata": {},
   "outputs": [],
   "source": [
    "rect.width = 7\n",
    "area = rect.area()\n",
    "print(f'Length: {rect.length}, width: {rect.width}, area: {area}')"
   ]
  },
  {
   "cell_type": "markdown",
   "metadata": {},
   "source": [
    "## 3 Object-oriented Programming\n",
    "\n",
    "Object-orientd (OO) programming has three important characteristics: \n",
    "\n",
    "- Encapsulation: the data (the attributes) and functions (the methods) are encapsulated inside a class. You only use methods and attributes, together called interfaces, to access data. The detail implementation could be changed without affecting its interfaces.\n",
    "- Polymorphism: a function can work on different types. For example, the built-in `len` function can work with a string and a list. `len('abc')`, `len([10, 20, 30])`. In the following example, the `print_area()` function can use any object that has an `area()` method. code using the class and its objects.\n",
    "- Inheritance: the `Rectangle` inherits from `object`. It can inherit from a different class, call a parent, and can be inherited by another class, call a child. The child has all attributes and methods of its parent but can choose to override the implementation.\n"
   ]
  },
  {
   "cell_type": "code",
   "execution_count": null,
   "metadata": {},
   "outputs": [],
   "source": [
    "import math\n",
    "\n",
    "class Circle:\n",
    "    def __init__(self, radius):\n",
    "        self.radius = radius\n",
    "    \n",
    "    def area(self):\n",
    "        return math.pi * self.radius ** 2 \n",
    "\n",
    "def print_area(shape):\n",
    "    print(shape.area())\n",
    "\n",
    "circle = Circle(10)\n",
    "rectangle = Rectangle(2, 5)\n",
    "\n",
    "print_area(circle)\n",
    "print_area(rectangle)\n"
   ]
  },
  {
   "cell_type": "markdown",
   "metadata": {},
   "source": [
    "## 4 Inheritance\n",
    "\n",
    "When multiple classes share some common attributes or methods, you can define a base class or a parent class and put common attributes/methods in it. When another class inherits the base class, the subclass/child class will have all the properties/methods defined in its parent class. For example, assume that both `Retangle` and `Circle` have a `color` attribute , you can define a base class `Shape`. \n",
    "\n"
   ]
  },
  {
   "cell_type": "code",
   "execution_count": null,
   "metadata": {},
   "outputs": [],
   "source": [
    "import math\n",
    "\n",
    "class Shape:\n",
    "    def __init__(self, color):\n",
    "        self.color = color\n",
    "\n",
    "    # suppose we also have many methods/attributes\n",
    "    # ....\n",
    "    def do_something(self):\n",
    "        print(f'a {self.color} task, handred lines of code')\n",
    "\n",
    "class Circle(Shape):\n",
    "    def __init__(self, color, radius):\n",
    "        Shape.__init__(self, color)   # you must call this as the first \n",
    "        self.radius = radius\n",
    "\n",
    "    def area(self):\n",
    "        return self.radius * self.radius * math.pi\n",
    "\n",
    "class Rectangle(Shape):\n",
    "    # a special method used to create an instance of this class\n",
    "    # this is mehtod is called a constrctor\n",
    "    def __init__(self, color, length, width):\n",
    "        Shape.__init__(self, color)\n",
    "        self.length = length\n",
    "        self.width = width\n",
    "\n",
    "    def area(self):\n",
    "        return self.length * self.width\n",
    "\n",
    "# an instance/object of the Rectangle class\n",
    "rect = Rectangle('red', 5, 3)\n",
    "circle = Circle('blue', 10)\n",
    "\n",
    "rect.do_something()\n",
    "circle.do_something()\n"
   ]
  },
  {
   "cell_type": "markdown",
   "metadata": {},
   "source": [
    "## 5 Cautious About OO\n",
    "\n",
    "OO was popular because GUI applications were popular. These days, as computers have multiple cores and more code are developed for backend data processing, OO shows some disadvantages:\n",
    "\n",
    "- combine data and function in a class is error prone because data can be changed and shared by multiple processes. Like global data, it is dangerous. Immutable data are prefered this days. \n",
    "- inheritance, especially mutiple inheritance, is confusing and not used widely in data processing.\n",
    "\n",
    "It is nice to know the basic terms because OO had been popular for more than two decades and there are many legacy code. New applications, especially non-GUI applications, use more and more immutable data and functions (not object methods).\n",
    "\n",
    "Using functions to process immutable data, so-called functional programming, is the current trend."
   ]
  }
 ],
 "metadata": {
  "kernelspec": {
   "display_name": "Python 3.10.6 64-bit",
   "language": "python",
   "name": "python3"
  },
  "language_info": {
   "codemirror_mode": {
    "name": "ipython",
    "version": 3
   },
   "file_extension": ".py",
   "mimetype": "text/x-python",
   "name": "python",
   "nbconvert_exporter": "python",
   "pygments_lexer": "ipython3",
   "version": "3.10.8"
  },
  "metadata": {
   "interpreter": {
    "hash": "aee8b7b246df8f9039afb4144a1f6fd8d2ca17a180786b69acc140d282b71a49"
   }
  },
  "orig_nbformat": 2,
  "vscode": {
   "interpreter": {
    "hash": "949777d72b0d2535278d3dc13498b2535136f6dfe0678499012e853ee9abcab1"
   }
  }
 },
 "nbformat": 4,
 "nbformat_minor": 2
}
