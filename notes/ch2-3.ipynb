{
 "cells": [
  {
   "cell_type": "markdown",
   "metadata": {},
   "source": [
    "# Chapter 2-3 Notes\n",
    "\n",
    "This is lecture note for Chapter 2 and 3.\n",
    "\n",
    "## 2.1 Variable and Assignment\n",
    "\n",
    "Variable is a name item (a container) used to hold a value. What’s a variable in computer? Memory address.\n",
    "\n",
    "An assignment assigns a value to a variable. The action has two cases: in-place value and pointer. \n",
    "\n",
    "The concept of LHS and RHS: address and value.\n"
   ]
  },
  {
   "cell_type": "code",
   "execution_count": null,
   "metadata": {
    "vscode": {
     "languageId": "plaintext"
    }
   },
   "outputs": [],
   "source": [
    "x = 1\n",
    "x = x * 20"
   ]
  },
  {
   "cell_type": "markdown",
   "metadata": {},
   "source": [
    "## 2.2 Indetifiers\n",
    "\n",
    ">>> There are only two hard things in Computer Science: cache invalidation and naming things.\n",
    "-- Phil Karlton"
   ]
  }
 ],
 "metadata": {
  "language_info": {
   "name": "python"
  },
  "orig_nbformat": 4
 },
 "nbformat": 4,
 "nbformat_minor": 2
}
