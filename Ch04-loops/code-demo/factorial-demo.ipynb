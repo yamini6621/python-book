{
 "cells": [
  {
   "cell_type": "markdown",
   "metadata": {},
   "source": [
    "# Demo: Calculate the factorial"
   ]
  },
  {
   "cell_type": "code",
   "execution_count": 1,
   "metadata": {
    "tags": []
   },
   "outputs": [
    {
     "name": "stdout",
     "output_type": "stream",
     "text": [
      "7! is 5040\n"
     ]
    }
   ],
   "source": [
    "\"\"\"Calculate the factorial of a non-negative integer\"\"\"\n",
    "number = int(input('Enter a positive number: '))\n",
    "\n",
    "# calculate number!  factorial\n",
    "factorial = 1\n",
    "\n",
    "# 1 * 2 * 3 ... * number \n",
    "\n",
    "# while loop is error-prone, \n",
    "# - need variable to control the loop condition explicitly\n",
    "# - often has missing-by-one bug or infinite loop\n",
    "# index = 2\n",
    "# while index <= number:\n",
    "#     factorial *= index\n",
    "#     index += 1\n",
    "\n",
    "# for n in range(2, number + 1):\n",
    "#     factorial *= n\n",
    "\n",
    "# decrementally\n",
    "for n in range(number, 1, -1):\n",
    "    factorial *= n\n",
    "    \n",
    "print(f'{number}! is {factorial}.')\n"
   ]
  }
 ],
 "metadata": {
  "kernelspec": {
   "display_name": "Python 3.10.6 64-bit",
   "language": "python",
   "name": "python3"
  },
  "language_info": {
   "codemirror_mode": {
    "name": "ipython",
    "version": 3
   },
   "file_extension": ".py",
   "mimetype": "text/x-python",
   "name": "python",
   "nbconvert_exporter": "python",
   "pygments_lexer": "ipython3",
   "version": "3.10.6"
  },
  "vscode": {
   "interpreter": {
    "hash": "949777d72b0d2535278d3dc13498b2535136f6dfe0678499012e853ee9abcab1"
   }
  }
 },
 "nbformat": 4,
 "nbformat_minor": 2
}
