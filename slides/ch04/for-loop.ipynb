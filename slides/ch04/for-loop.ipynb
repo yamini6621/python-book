{
 "cells": [
  {
   "cell_type": "markdown",
   "metadata": {
    "slideshow": {
     "slide_type": "slide"
    }
   },
   "source": [
    "## The `for` Loop Concept\n",
    "\n",
    "Like the decision structure, the `for` loop has two parts: a `for` clause and a code block.\n",
    "\n",
    "The `for` clause gets each element from a `sequence`, assigns each item to an variable and execute the code block. It completes when there is no more elements in the seuqnce.\n",
    "\n",
    "The variable used in the `for` clause is called a `target variable` because it is assigned the value of each element in the sequence in each loop iteration. It is important to give it a meaningful variable name.\n",
    "\n",
    "Conceptually, it works as the following flow chart:\n",
    "\n",
    "![for](images/for.jpg)\n"
   ]
  },
  {
   "cell_type": "markdown",
   "metadata": {
    "slideshow": {
     "slide_type": "slide"
    }
   },
   "source": [
    "## The `for` Loop Syntax\n",
    "\n",
    "The syntax of `for` loop is as the following:\n",
    "\n",
    "```python\n",
    "for variable_name in sequence:\n",
    "   statement\n",
    "   statement\n",
    "   ...\n",
    "```\n",
    "\n",
    "Following are two examples that print out elements in a sequence -- you use the target variable to access each element:"
   ]
  },
  {
   "cell_type": "code",
   "execution_count": null,
   "metadata": {
    "tags": []
   },
   "outputs": [],
   "source": [
    "students = ['Alice', 'Bob', 'Cindy']\n",
    "for student in students:\n",
    "    print(student)\n",
    "print('All students are printed\\n')"
   ]
  },
  {
   "cell_type": "markdown",
   "metadata": {
    "slideshow": {
     "slide_type": "slide"
    }
   },
   "source": [
    "## Nested Loop\n",
    "\n",
    "In the code block of a loop statement, you can have another loop statement, this is called nested loop. Conceptually it is rather simple, just treat the nested loop as a regular statement and everything becomes clear. Following is an example. As you can see, the inner `for char` loop is repeated for each number in the outer `for number` loop. Practice more and you will have a better understanding."
   ]
  },
  {
   "cell_type": "code",
   "execution_count": null,
   "metadata": {
    "tags": []
   },
   "outputs": [],
   "source": [
    "numbers = [1, 2, 3]\n",
    "chars = [\"A\", \"B\", \"C\"]\n",
    "\n",
    "print('Outside loop')\n",
    "for number in numbers:\n",
    "    print('Inside number loop')\n",
    "    for char in chars:\n",
    "        print('Inside char loop')\n",
    "        print(number, char)"
   ]
  },
  {
   "cell_type": "markdown",
   "metadata": {
    "slideshow": {
     "slide_type": "slide"
    }
   },
   "source": [
    "## Exercise\n",
    "\n",
    "Exercise: change the following `for` loop code to use `while` loop."
   ]
  },
  {
   "cell_type": "code",
   "execution_count": null,
   "metadata": {},
   "outputs": [],
   "source": [
    "students = ['Alice', 'Bob', 'Cindy']\n",
    "for student in students:\n",
    "    print(student)\n",
    "print('All students are printed\\n')"
   ]
  },
  {
   "cell_type": "markdown",
   "metadata": {
    "slideshow": {
     "slide_type": "slide"
    }
   },
   "source": [
    "## The `range` Function\n",
    "\n",
    "Many time you want to repeat a block code for a number of times. Python has a built-in function `range` that generates a sequence of numbers. The function can take one, two, or three arguments. \n",
    "\n",
    "- `range(n)`: generate a sequence of integers in the range of `0` up to, but not including, the number `n`. For example, `range(3)` generates a seuqnce of `0`, `1` and `2`.\n",
    "- `range(m, n)`: generate a sequence of integers in the range of `m` up to, but not including, the number `n`. For example, `range(3, 7)` generates a sequence of `3`, `4`, `5`, and `6`.\n",
    "- `range(m, n, step)`, generate a sequence of integers in the range of `m` up to, but not including, the number `n`, the generate numbers increase at the specified step. For example, `range(3, 7, 2)` generates a sequence of `3` and `5`. `7` is not in the generated list because numbers biggern than or equal to `7` are excluded.\n",
    "\n",
    "It is possible to use a negative step in a `range` function to generate a list from high to low. For example, `range(3, 0, -1)` generates a list of `[3, 2, 1]`. "
   ]
  },
  {
   "cell_type": "code",
   "execution_count": null,
   "metadata": {},
   "outputs": [],
   "source": [
    "for item in range(10):\n",
    "    print(f'Curent item: {item}')\n",
    "\n",
    "\n",
    "for item in range(3, 10, 2):\n",
    "    print(f'Curent item: {item}')"
   ]
  },
  {
   "cell_type": "markdown",
   "metadata": {
    "slideshow": {
     "slide_type": "slide"
    }
   },
   "source": [
    "## The Index Idiom\n",
    "\n",
    "You can compose the `len` and the `range` functions to generate a sequence of the index numbers for a list. For the above students list, the composed function `range(len(students))` generates a sequence of 0, 1 and 2.\n",
    "\n",
    "Actually, it is an idiom in Python to use the composed function to access both the item and its index in a list. Following is an example to display students and there places in the list. For a typical business user, the index should starts from 1, not 0.\n",
    "\n",
    "Using f-string, you can format the output as the following:"
   ]
  },
  {
   "cell_type": "code",
   "execution_count": null,
   "metadata": {},
   "outputs": [],
   "source": [
    "students = ['Alice', 'Bob', 'Cindy']\n",
    "\n",
    "for index in range(len(students)):\n",
    "    print(f'Index {index}: {name}')"
   ]
  },
  {
   "cell_type": "markdown",
   "metadata": {
    "slideshow": {
     "slide_type": "slide"
    }
   },
   "source": [
    "## The `enumerate` Function\n",
    "\n",
    "When you need both the index and element value when iterating over a sequence, use `enumerate` funciton. In each iteration, it returns the current index and current value in a pair."
   ]
  },
  {
   "cell_type": "code",
   "execution_count": null,
   "metadata": {},
   "outputs": [],
   "source": [
    "students = ['Bob', 'David', 'Alice']\n",
    "\n",
    "for (index, name) in enumerate(students):\n",
    "    print(f'Index {index}: {name}')"
   ]
  },
  {
   "cell_type": "markdown",
   "metadata": {
    "slideshow": {
     "slide_type": "slide"
    }
   },
   "source": [
    "## Which Version is Better?\n",
    "\n",
    "What's the difference? To calculate the length of a list, you need load the whole list first into memory (*eager* evaluation) while the `enumerate` process one element of the list at a time (*lazy* evaluation).\n",
    "\n",
    "Why the difference matters? In most cases, the lazy is better than the eager version because it\n",
    "\n",
    "- starts quickly from the first element.\n",
    "- requires less memory, just one element at a time. "
   ]
  },
  {
   "cell_type": "code",
   "execution_count": null,
   "metadata": {},
   "outputs": [],
   "source": [
    "students = ['Alice', 'Bob', 'Cindy']\n",
    "\n",
    "for index in range(len(students)):\n",
    "    print(f'Index {index}: {name}')\n",
    "\n",
    "for (index, name) in enumerate(students):\n",
    "    print(f'Index {index}: {name}')"
   ]
  },
  {
   "cell_type": "code",
   "execution_count": null,
   "metadata": {
    "slideshow": {
     "slide_type": "slide"
    }
   },
   "outputs": [],
   "source": [
    "\"\"\"Calculate the factorial of a non-negative integer\"\"\"\n",
    "number = int(input('Enter a positive number: '))\n",
    "\n",
    "# calculate number!  factorial\n",
    "factorial = 1\n",
    "\n",
    "# 1 * 2 * 3 ... * number \n",
    "\n",
    "# while loop is error-prone, \n",
    "# - need variable to control the loop condition explicitly\n",
    "# - often has missing-by-one bug or infinite loop\n",
    "# index = 2\n",
    "# while index <= number:\n",
    "#     factorial *= index\n",
    "#     index += 1\n",
    "\n",
    "# for n in range(2, number + 1):\n",
    "#     factorial *= n\n",
    "\n",
    "# decrementally\n",
    "for n in range(number, 1, -1):\n",
    "    factorial *= n\n",
    "    \n",
    "print(f'{number}! is {factorial}.')\n"
   ]
  }
 ],
 "metadata": {
  "kernelspec": {
   "display_name": "Python 3.10.6 64-bit",
   "language": "python",
   "name": "python3"
  },
  "language_info": {
   "codemirror_mode": {
    "name": "ipython",
    "version": 3
   },
   "file_extension": ".py",
   "mimetype": "text/x-python",
   "name": "python",
   "nbconvert_exporter": "python",
   "pygments_lexer": "ipython3",
   "version": "3.10.6"
  },
  "orig_nbformat": 2,
  "vscode": {
   "interpreter": {
    "hash": "949777d72b0d2535278d3dc13498b2535136f6dfe0678499012e853ee9abcab1"
   }
  }
 },
 "nbformat": 4,
 "nbformat_minor": 2
}
