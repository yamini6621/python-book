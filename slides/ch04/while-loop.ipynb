{
 "cells": [
  {
   "cell_type": "markdown",
   "metadata": {},
   "source": [
    "# `while` Loop\n",
    "\n",
    "This section introduces the concepts of `while` statement and infinite loop.\n",
    "\n",
    "- The Concept\n",
    "- The Statement\n",
    "- Infinit Loop\n",
    "- Sentinel"
   ]
  },
  {
   "cell_type": "markdown",
   "metadata": {
    "slideshow": {
     "slide_type": "slide"
    }
   },
   "source": [
    "## The `while` Concept\n",
    "\n",
    "It it a common scenario that you repeat some actions when a certain condition is ture. \n",
    "\n",
    "- You repeatly \"learn\" while a topic puzzels you; \n",
    "- The rice cooker \"cooks\" rice for 30 minutes. \n",
    "- Your program keeps asking a user to give an input if the current input is invalid.\n",
    "\n",
    "The following digram shows the concept.\n",
    "\n",
    "![while](images/while.jpg)"
   ]
  },
  {
   "cell_type": "markdown",
   "metadata": {
    "slideshow": {
     "slide_type": "slide"
    }
   },
   "source": [
    "## The `while` statement\n",
    "\n",
    "As depected in the above diagram, the `while` statement has a `while` cluase and a code block. The syntax is as the following:\n",
    "\n",
    "```python\n",
    "while condition:\n",
    "    statement\n",
    "    statement\n",
    "    ...\n",
    "\n",
    "statement // after-while statement\n",
    "```\n",
    "\n",
    "When the condition is true, it repeatedly excute the statements in the code block. Each execution of the loop body (code block) is called an **iteration**. Looping is also called **iterating**. If the condition becomes false, it skip the code block and runs the statements below it. Below is an example:"
   ]
  },
  {
   "cell_type": "markdown",
   "metadata": {},
   "source": [
    "## Intial Value\n",
    "\n",
    "Because the `while` cluase first checks a condition, the code needs to set a certain value make the condtion `True`. Below we set the confirmation to `'yes'` thus when Python executes the `while` statement, the condition is `True` and the statements in the code block are executed. When the confirmation input is not `'yes'`, it skip the code block and run the statement(s) below the `while` statement."
   ]
  },
  {
   "cell_type": "code",
   "execution_count": null,
   "metadata": {
    "slideshow": {
     "slide_type": "slide"
    },
    "tags": []
   },
   "outputs": [],
   "source": [
    "# a program to calculate the total of user inputs\n",
    "total = 0\n",
    "confirmation = 'yes'\n",
    "\n",
    "while confirmation == 'yes':\n",
    "    number = int(input('Please input an integer: '))\n",
    "    total += number # += is an abbreviation of total = total + num\n",
    "    confirmation = input('more numbers? yes for continue, otherwise stop.')\n",
    "\n",
    "print(f'The total is {total}')\n"
   ]
  },
  {
   "cell_type": "markdown",
   "metadata": {
    "slideshow": {
     "slide_type": "slide"
    }
   },
   "source": [
    "## Infinit Loop\n",
    "\n",
    "It is very important to change the condition in the code block of a `while` statement. Following is a program that we want to calculate the sum from 1 to 10.\n"
   ]
  },
  {
   "cell_type": "code",
   "execution_count": null,
   "metadata": {},
   "outputs": [],
   "source": [
    "total = 0 # don't use sum as the variable name because it is a built-in function name\n",
    "number = 1\n",
    "while number <= 10:\n",
    "    total += number\n",
    "\n",
    "print(f'The total from 1 to 10 is {total}')"
   ]
  },
  {
   "cell_type": "markdown",
   "metadata": {},
   "source": [
    "If you run the above code, it never ends until the system fails to handle a big number or doesn't have enough memory. The program enters an infinit loop. The reason is the the `while` clause is always evaluate to `True`. To fix it, you should change the condition in the code block."
   ]
  },
  {
   "cell_type": "markdown",
   "metadata": {
    "slideshow": {
     "slide_type": "slide"
    }
   },
   "source": [
    "## Remeber to Change Condition !\n",
    "\n",
    "Whenever you write a `while` statement, remeber to change the condition inside the code block to avoid infinit loop."
   ]
  },
  {
   "cell_type": "code",
   "execution_count": null,
   "metadata": {
    "tags": []
   },
   "outputs": [],
   "source": [
    "sum = 0\n",
    "number = 1\n",
    "while (number <= 10):\n",
    "    sum += number\n",
    "    number += 1\n",
    "\n",
    "print(f'The sum from 1 to 10 is {sum}')"
   ]
  },
  {
   "cell_type": "markdown",
   "metadata": {
    "slideshow": {
     "slide_type": "slide"
    }
   },
   "source": [
    "## Sentinel\n",
    "\n",
    "The `while` cluase checks a boolean expression to control the iteration. If you use a variable value to represent the `completion`/`end`/`stop` case, the value is called a *sentinel*. It is important that a sentinel should not be a normal input value, otherwise the program can not tell the special end value from normal values. For example, if a program asks user to input positive numbers, it can use `-1` to mark the end of the while loop. "
   ]
  },
  {
   "cell_type": "code",
   "execution_count": null,
   "metadata": {},
   "outputs": [],
   "source": [
    "# a program to calculate the total of user inputs\n",
    "total = 0\n",
    "number = int(input('Please input a positive number, input -1 to stop: '))\n",
    "while number != -1:\n",
    "    total += number # += is an abbreviation of total = total + num\n",
    "    number = int(input('Please input a positive number, input -1 to stop: '))\n",
    "\n",
    "print(f'The total is {total}')"
   ]
  },
  {
   "cell_type": "markdown",
   "metadata": {},
   "source": [
    "### Exercise\n",
    "\n",
    "In the above sentinel code example, the prompt message is repeated before and after `while`. Please change the code to call the `input` function only in one place."
   ]
  },
  {
   "cell_type": "markdown",
   "metadata": {
    "slideshow": {
     "slide_type": "slide"
    }
   },
   "source": [
    "## Exercise\n",
    "\n",
    "The following code runs an infinit loop, can you tell what's wrong? Try to fix it."
   ]
  },
  {
   "cell_type": "code",
   "execution_count": null,
   "metadata": {},
   "outputs": [],
   "source": [
    "total = 0\n",
    "confirmation = 'yes'\n",
    "\n",
    "while confirmation == 'yes':\n",
    "    number = int(input('Please input an integer: '))\n",
    "    total += number # += is an abbreviation of sum = sum + num\n",
    "    confirmat1on = input('more numbers? yes for continue, otherwise stop.')\n",
    "\n",
    "print(f'The total is {total}')"
   ]
  }
 ],
 "metadata": {
  "kernelspec": {
   "display_name": "Python 3.10.6 64-bit",
   "language": "python",
   "name": "python3"
  },
  "language_info": {
   "codemirror_mode": {
    "name": "ipython",
    "version": 3
   },
   "file_extension": ".py",
   "mimetype": "text/x-python",
   "name": "python",
   "nbconvert_exporter": "python",
   "pygments_lexer": "ipython3",
   "version": "3.10.6"
  },
  "orig_nbformat": 2,
  "vscode": {
   "interpreter": {
    "hash": "949777d72b0d2535278d3dc13498b2535136f6dfe0678499012e853ee9abcab1"
   }
  }
 },
 "nbformat": 4,
 "nbformat_minor": 2
}
