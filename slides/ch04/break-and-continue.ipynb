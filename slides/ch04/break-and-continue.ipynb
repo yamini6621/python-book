{
 "cells": [
  {
   "cell_type": "markdown",
   "metadata": {
    "slideshow": {
     "slide_type": "slide"
    }
   },
   "source": [
    "## The Continue Concepts\n",
    "\n",
    "In the code block of a `for` or `while` loop, sometimes you want to skip the processing for certain data. For example, when you divide a number by every element in a list, you want to skip the `0` as a divisor because it crashes the program.  You use the `continue` statement to continue to the next iteration of the loop. The following flow chart describes the continue control flow:\n",
    "\n",
    "![continue](images/continue.jpg)"
   ]
  },
  {
   "cell_type": "markdown",
   "metadata": {
    "slideshow": {
     "slide_type": "slide"
    }
   },
   "source": [
    "## `continue` Statement\n",
    "\n",
    "As stated above, you use `continue` statement in a certain condition to skip the current iteration and run the next iteration of the loop."
   ]
  },
  {
   "cell_type": "code",
   "execution_count": null,
   "metadata": {
    "tags": []
   },
   "outputs": [],
   "source": [
    "dividend = 100\n",
    "numbers = [3, 5, 7, 0, 9, 2]\n",
    "\n",
    "for number in numbers:\n",
    "    print(f'The element is {number}')\n",
    "    if number == 0:\n",
    "        print(f'ooops, zero cannot be a divisor')\n",
    "        continue\n",
    "    \n",
    "    quotient = dividend / number\n",
    "    print(f'The quotient of {dividend}/{number} is {quotient: .2f}')\n"
   ]
  },
  {
   "cell_type": "markdown",
   "metadata": {
    "slideshow": {
     "slide_type": "slide"
    }
   },
   "source": [
    "## The Break Concept\n",
    "\n",
    "In another situate, in some conditions you want to exit the loop execution. For example, you read input from a user in a loop and the user types an `exit` to exit the loop. You use the `break` statement to break out of the loop. The following flow chart describes the break control flow:\n",
    "\n",
    "![break](images/break.jpg)"
   ]
  },
  {
   "cell_type": "markdown",
   "metadata": {
    "slideshow": {
     "slide_type": "slide"
    }
   },
   "source": [
    "## The `break` Statement\n",
    "\n",
    "Similar to the `continue` statement, you check a condition that you want exit a loop, if the condition is `true`, you use `break` to exit the loop and jumps to the next element after the loop structure. "
   ]
  },
  {
   "cell_type": "code",
   "execution_count": null,
   "metadata": {
    "tags": []
   },
   "outputs": [],
   "source": [
    "dividend = 100\n",
    "numbers = [3, 5, 7, 0, 9, 2,]\n",
    "\n",
    "for number in numbers:\n",
    "    print(f'The element is {number}')\n",
    "    \n",
    "    # exits from the loop when it sees a `0`. \n",
    "    if number == 0:\n",
    "        print(f'ooops, zero divisor, clean your data first')\n",
    "        break\n",
    "    \n",
    "    quotient = dividend / number\n",
    "    print(f'The quotient of {dividend}/{number} is {quotient: .2f}')\n",
    "\n",
    "print('Done')"
   ]
  },
  {
   "cell_type": "markdown",
   "metadata": {
    "slideshow": {
     "slide_type": "slide"
    }
   },
   "source": [
    "## Stop Loop with Sentinel\n",
    "\n",
    "The following example stops when it the input is the sential value. It skips `0` to avoid division by zero error."
   ]
  },
  {
   "cell_type": "code",
   "execution_count": null,
   "metadata": {},
   "outputs": [],
   "source": [
    "SENTINEL = -1\n",
    "dividend = 100\n",
    "prompt = f'Please input an integer, input {SENTINEL} to exit: '\n",
    "\n",
    "number = int(input(prompt))\n",
    "while number != SENTINEL:\n",
    "    print(f'The input nubmer is {number}')\n",
    "    if number == 0:\n",
    "        print(f'Zero cannot be a divisor, ignored.')\n",
    "        number = int(input('Please input an integer, input -1 to exit: '))\n",
    "        continue\n",
    "\n",
    "    # now the normal logic to process the data\n",
    "    quotient = dividend / number\n",
    "    print(f'The quotient of {dividend}/{number} is {quotient: .2f}')\n",
    "\n",
    "    # must have code to change the number\n",
    "    number = int(input(prompt))\n",
    "\n",
    "print('Done')"
   ]
  },
  {
   "cell_type": "markdown",
   "metadata": {
    "slideshow": {
     "slide_type": "slide"
    }
   },
   "source": [
    "## `while True:`\n",
    "\n",
    "The code `while True:` looks weired if it is the first time you see it. It looks like an infinit loop because the condition is always true. For this clause, there must be a `break` statement in the code block to exit the loop at a certain condtion. The code can be revised to get an input first and check the sentinel in the `while` clause. Following is a version that checks the sentinel in `while` clause. "
   ]
  },
  {
   "cell_type": "code",
   "execution_count": null,
   "metadata": {},
   "outputs": [],
   "source": [
    "# a sentinel is a special value that marks the end.\n",
    "SENTINEL = -1\n",
    "dividend = 100\n",
    "\n",
    "prompt = f'Please input an integer, input {SENTINEL} to exit: '\n",
    "while True:\n",
    "    number = int(input(prompt))\n",
    "    print(f'The input nubmer is {number}')\n",
    "    if number == 0:\n",
    "        print(f'Zero cannot be a divisor, ignored.')\n",
    "        continue\n",
    "\n",
    "    if number == SENTINEL:\n",
    "        break\n",
    "\n",
    "    # now the normal logic to process the data\n",
    "    quotient = dividend / number\n",
    "    print(f'The quotient of {dividend}/{number} is {quotient: .2f}')\n",
    "\n",
    "print('Done')"
   ]
  },
  {
   "cell_type": "markdown",
   "metadata": {
    "slideshow": {
     "slide_type": "slide"
    }
   },
   "source": [
    "## Exercise\n",
    "\n",
    "Exerice: write a progam that prints the first 5 odd numbers from the list `[3, 8, 10, 5, 7, 0, 9, 2]`."
   ]
  }
 ],
 "metadata": {
  "kernelspec": {
   "display_name": "Python 3.10.6 64-bit",
   "language": "python",
   "name": "python3"
  },
  "language_info": {
   "codemirror_mode": {
    "name": "ipython",
    "version": 3
   },
   "file_extension": ".py",
   "mimetype": "text/x-python",
   "name": "python",
   "nbconvert_exporter": "python",
   "pygments_lexer": "ipython3",
   "version": "3.11.4"
  },
  "orig_nbformat": 2,
  "vscode": {
   "interpreter": {
    "hash": "949777d72b0d2535278d3dc13498b2535136f6dfe0678499012e853ee9abcab1"
   }
  }
 },
 "nbformat": 4,
 "nbformat_minor": 2
}
