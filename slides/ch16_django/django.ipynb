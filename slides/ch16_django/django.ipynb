{
 "cells": [
  {
   "cell_type": "markdown",
   "metadata": {
    "slideshow": {
     "slide_type": "slide"
    }
   },
   "source": [
    "# Django\n",
    "\n",
    "- Get Started\n",
    "- Model\n",
    "- View\n",
    "- Form\n",
    "- Test"
   ]
  },
  {
   "cell_type": "markdown",
   "metadata": {},
   "source": [
    "# Get Started\n",
    "\n",
    "First, use `python3 -m pip install django` to install the Django package.\n",
    "\n",
    "Django comes with many tools such as `django-admin` to make development simple and quick.\n",
    "\n",
    "To create a project, run the following command: `django-admin startproject my_site`."
   ]
  },
  {
   "cell_type": "markdown",
   "metadata": {},
   "source": [
    "## Initial Project\n",
    "\n",
    "The command creates a `my_site` project folder with following folders and files:\n",
    "\n",
    "- `manage.py`: it is a thin wrapper around `django-admin`. It uses the settings of the current project. You use `django-admin` to create projects and apps, then use `manage.py` to perform the rest administration tasks.\n",
    "- `my_site`: it is the package folder for the project. It has the following files\n",
    "  - `__init__.py`: it is an empty file to flag the parent folder as a Python package.\n",
    "  - `asgi.py`: it is an entry point file for ASGI (Asynchronous Server Gateway Interface) web server. ASGI support asynchronous operations that might have better performance for certain applications at the cost of complex code and logic. Most Web applications don't use it.\n",
    "  - `setting.py`: it contains settings (configurations) for this project.\n",
    "  - `urls.py`: it configures the URL paths of the project.\n",
    "  - `wsgi.py`: it is an entry point file for WSGI (Web Server Gateway Interface) web server. Most Python Web applications use it."
   ]
  },
  {
   "cell_type": "markdown",
   "metadata": {},
   "source": [
    "## Dev Server\n",
    "\n",
    "Django has a built-in WSGI web server for the development. You can run it with the initial project.\n",
    "\n",
    "Inside `my_site` project folder (not the nested `my_site` package folder), run `python3 manage.py runserver`, you can check the initial web site at `http://127.0.0.1:8000/` or `http://locahost:8000/`.\n",
    "\n",
    "The built-in development server monitors file changes and rebuilt the project when there is a change in the project source code files.\n",
    "\n",
    "To quit the server,  type `CONTROL-C` in the terminal."
   ]
  },
  {
   "cell_type": "markdown",
   "metadata": {},
   "source": [
    "## Creating an App\n",
    "\n",
    "A Django project usually contains multiple apps (applications). Each app is a web site for a specific business domain functions. \n",
    "\n",
    "For example, Django creates a default `admin` app during the project creation. Web administrators use the admin app to manage the web site.\n",
    "\n",
    "To create an app named `polls`, run the command: `python3 manage.py startapp polls`."
   ]
  },
  {
   "cell_type": "markdown",
   "metadata": {},
   "source": [
    "## The App Folder\n",
    "\n",
    "The creating app command creates a `polls` folder that has the following files:\n",
    "\n",
    "- `__init__.py` the package flag file.\n",
    "- `admin.py` the placeholder for administration page file.\n",
    "- `apps.py` the configuration file for the app.\n",
    "- `migrations` folder is used to store database migration files.\n",
    "- `models.py` the data models used by the app.\n",
    "- `tests.py` the testing file\n",
    "- `views.py` the *view* code to process HTTP requests and return HTTP responses."
   ]
  },
  {
   "cell_type": "markdown",
   "metadata": {},
   "source": [
    "## MVT\n",
    "\n",
    "Django uses a Model-View-Template (MVT) architecture.\n",
    "\n",
    "- Model: a model has two means in Django\n",
    "  - the structure of a domain data. If the data is stored in a database, this will be the database tables/storage structure.\n",
    "  - the data and its CRUD (creation, read, update, and deletion) operations in the app.\n",
    "- View: a view is a function or a class that handles HTTP request, performs business logic, and returns a response.\n",
    "- Template: a template defines the structure or layout of the user interface. A view fills templates with data to create the final response.\n",
    "\n",
    "Following is the [Django workflow](https://www.dothedev.com/blog/amp/what-is-django-used-for/):\n",
    "\n",
    "![flow](./images/django_flow.jpg)"
   ]
  },
  {
   "cell_type": "markdown",
   "metadata": {},
   "source": [
    "## View\n",
    "\n",
    "In Django, a view is associated with a URL pattern, i.e., Django maps URL patterns to views.\n",
    "\n",
    "If a specific HTTP URL matches a view's URL pattern, the view usually performs the following functions:\n",
    "\n",
    "- processes HTTP requests.\n",
    "- performs business logic based on request arguments.\n",
    "- uses templates to render the response content.\n",
    "- returns responses in different format such as HTML, JSON, or others."
   ]
  },
  {
   "cell_type": "markdown",
   "metadata": {},
   "source": [
    "## Add the First View\n",
    "\n",
    "As a tradition, you want to say \"Hello World!\" to an HTTP request. Following are codes in different files.\n",
    "\n",
    "If you run the dev server and access `http://127.0.0.1:8000/polls/`, you should see the message \"Hello World!\"."
   ]
  },
  {
   "cell_type": "code",
   "execution_count": null,
   "metadata": {
    "slideshow": {
     "slide_type": "subslide"
    }
   },
   "outputs": [],
   "source": [
    "# polls/views.py\n",
    "from django.http import HttpResponse\n",
    "\n",
    "def index(request):\n",
    "    return HttpResponse(\"Hello, World!\")\n",
    "\n",
    "# polls/urls.py\n",
    "from django.urls import path\n",
    "\n",
    "from . import views\n",
    "\n",
    "urlpatterns = [\n",
    "    path(\"\", views.index, name=\"index\"),\n",
    "]\n",
    "\n",
    "# my_site/urls.py\n",
    "from django.contrib import admin\n",
    "from django.urls import include, path\n",
    "\n",
    "urlpatterns = [\n",
    "    path(\"polls/\", include(\"polls.urls\")),\n",
    "    path(\"admin/\", admin.site.urls),\n",
    "]"
   ]
  },
  {
   "cell_type": "markdown",
   "metadata": {},
   "source": [
    "## The `include()` and `path()` Function\n",
    "\n",
    "The `include()` function allows nested paths. \n",
    "\n",
    "The `path()` function maps URLs to views. It has two required arguments and two optional arguments.\n",
    "\n",
    "- `route`: is a string that contains a URL pattern.\n",
    "- `view`: is the view use to process the URL request.\n",
    "- `kwargs`: are arbitrary keyword arguments passed to the view.\n",
    "- `name`: is the name of this URL path.\n",
    "\n",
    "So: \n",
    "\n",
    "- `path(\"polls/\", include(\"polls.urls\")),` puts all polls url under the `polls/` path.\n",
    "- `path(\"\", views.index, name=\"index\")` maps the empty string to the `views.index` view. The path has a name of `index`."
   ]
  }
 ],
 "metadata": {
  "language_info": {
   "name": "python"
  },
  "orig_nbformat": 4
 },
 "nbformat": 4,
 "nbformat_minor": 2
}
