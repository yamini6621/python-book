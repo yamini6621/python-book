{
 "cells": [
  {
   "cell_type": "markdown",
   "metadata": {
    "slideshow": {
     "slide_type": "slide"
    }
   },
   "source": [
    "# Django\n",
    "\n",
    "- Get Started\n",
    "- Database\n",
    "- Model\n",
    "- View\n",
    "- Form\n",
    "- Test"
   ]
  },
  {
   "cell_type": "markdown",
   "metadata": {
    "slideshow": {
     "slide_type": "slide"
    }
   },
   "source": [
    "# Get Started\n",
    "\n",
    "First, use `python3 -m pip install django` to install the Django package.\n",
    "\n",
    "Django comes with many tools such as `django-admin` to make development simple and quick.\n",
    "\n",
    "To create a project, run the following command: `django-admin startproject my_site`."
   ]
  },
  {
   "cell_type": "markdown",
   "metadata": {
    "slideshow": {
     "slide_type": "subslide"
    }
   },
   "source": [
    "## Initial Project\n",
    "\n",
    "The command creates a `my_site` project folder with following folders and files:\n",
    "\n",
    "- `manage.py`: it is a thin wrapper around `django-admin`. It uses the settings of the current project. You use `django-admin` to create projects and apps, then use `manage.py` to perform the rest administration tasks.\n",
    "- `my_site`: it is the package folder for the project. It has the following files\n",
    "  - `__init__.py`: it is an empty file to flag the parent folder as a Python package.\n",
    "  - `asgi.py`: it is an entry point file for ASGI (Asynchronous Server Gateway Interface) web server. ASGI support asynchronous operations that might have better performance for certain applications at the cost of complex code and logic. Most Web applications don't use it.\n",
    "  - `setting.py`: it contains settings (configurations) for this project. For example, you should change the `TIME_ZONE` if your site is not located in `UTC` time zone.\n",
    "  - `urls.py`: it configures the URL paths of the project.\n",
    "  - `wsgi.py`: it is an entry point file for WSGI (Web Server Gateway Interface) web server. Most Python Web applications use it."
   ]
  },
  {
   "cell_type": "markdown",
   "metadata": {
    "slideshow": {
     "slide_type": "subslide"
    }
   },
   "source": [
    "## Dev Server\n",
    "\n",
    "Django has a built-in WSGI web server for the development. You can run it with the initial project.\n",
    "\n",
    "Inside `my_site` project folder (not the nested `my_site` package folder), run `python3 manage.py runserver`, you can check the initial web site at `http://127.0.0.1:8000/` or `http://locahost:8000/`.\n",
    "\n",
    "The built-in development server monitors file changes and rebuilt the project when there is a change in the project source code files.\n",
    "\n",
    "To quit the server,  type `CONTROL-C` in the terminal."
   ]
  },
  {
   "cell_type": "markdown",
   "metadata": {
    "slideshow": {
     "slide_type": "subslide"
    }
   },
   "source": [
    "## Creating an App\n",
    "\n",
    "A Django project usually contains multiple apps (applications). Each app is a web site for a specific business domain functions. \n",
    "\n",
    "For example, Django creates a default `admin` app during the project creation. Web administrators use the admin app to manage the web site.\n",
    "\n",
    "To create an app named `polls`, run the command: `python3 manage.py startapp polls`."
   ]
  },
  {
   "cell_type": "markdown",
   "metadata": {
    "slideshow": {
     "slide_type": "subslide"
    }
   },
   "source": [
    "## The App Folder\n",
    "\n",
    "The creating app command creates a `polls` folder that has the following files:\n",
    "\n",
    "- `__init__.py` the package flag file.\n",
    "- `admin.py` the placeholder for administration page file.\n",
    "- `apps.py` the configuration file for the app.\n",
    "- `migrations` folder is used to store database migration files.\n",
    "- `models.py` the data models used by the app.\n",
    "- `tests.py` the testing file\n",
    "- `views.py` the *view* code to process HTTP requests and return HTTP responses."
   ]
  },
  {
   "cell_type": "markdown",
   "metadata": {
    "slideshow": {
     "slide_type": "subslide"
    }
   },
   "source": [
    "## MVT\n",
    "\n",
    "Django uses a Model-View-Template (MVT) architecture.\n",
    "\n",
    "- Model: a model is a class the defines\n",
    "  - the structure of a domain data.\n",
    "  - the data operations.\n",
    "- View: a view is a function or a class that handles HTTP request, performs business logic, and returns a response.\n",
    "- Template: a template defines the structure or layout of the user interface. A view fills templates with data to create the final response.\n",
    "\n",
    "Following is the [Django workflow](https://www.dothedev.com/blog/amp/what-is-django-used-for/):\n",
    "\n",
    "![flow](./images/django_flow.jpg)"
   ]
  },
  {
   "cell_type": "markdown",
   "metadata": {
    "slideshow": {
     "slide_type": "subslide"
    }
   },
   "source": [
    "## View\n",
    "\n",
    "In Django, a view is associated with a URL pattern, i.e., Django maps URL patterns to views.\n",
    "\n",
    "If a specific HTTP URL matches a view's URL pattern, the view usually performs the following functions:\n",
    "\n",
    "- processes HTTP requests.\n",
    "- performs business logic based on request arguments.\n",
    "- uses templates to render the response content.\n",
    "- returns responses in different format such as HTML, JSON, or others."
   ]
  },
  {
   "cell_type": "markdown",
   "metadata": {
    "slideshow": {
     "slide_type": "subslide"
    }
   },
   "source": [
    "## Add the First View\n",
    "\n",
    "As a tradition, you want to say \"Hello World!\" to an HTTP request. Following are codes in different files.\n",
    "\n",
    "If you run the dev server and access `http://127.0.0.1:8000/polls/`, you should see the message \"Hello World!\"."
   ]
  },
  {
   "cell_type": "code",
   "execution_count": null,
   "metadata": {},
   "outputs": [],
   "source": [
    "# polls/views.py\n",
    "from django.http import HttpResponse\n",
    "\n",
    "def index(request):\n",
    "    return HttpResponse(\"Hello, World!\")"
   ]
  },
  {
   "cell_type": "code",
   "execution_count": null,
   "metadata": {},
   "outputs": [],
   "source": [
    "# polls/urls.py\n",
    "from django.urls import path\n",
    "\n",
    "from . import views\n",
    "\n",
    "urlpatterns = [\n",
    "    path(\"\", views.index, name=\"index\"),\n",
    "]"
   ]
  },
  {
   "cell_type": "code",
   "execution_count": null,
   "metadata": {
    "slideshow": {
     "slide_type": "subslide"
    }
   },
   "outputs": [],
   "source": [
    "# my_site/urls.py\n",
    "from django.contrib import admin\n",
    "from django.urls import include, path\n",
    "\n",
    "urlpatterns = [\n",
    "    path(\"polls/\", include(\"polls.urls\")),\n",
    "    path(\"admin/\", admin.site.urls),\n",
    "]"
   ]
  },
  {
   "cell_type": "markdown",
   "metadata": {
    "slideshow": {
     "slide_type": "subslide"
    }
   },
   "source": [
    "## The `path()` and `include()` Function\n",
    "\n",
    "The `path()` function maps URLs to views or defines nested URL patterns. It has two required arguments and two optional arguments.\n",
    "\n",
    "- `route`: is a string that contains a URL pattern.\n",
    "- `view`: is the view use to process the URL request.\n",
    "- `kwargs`: are arbitrary keyword arguments passed to the view.\n",
    "- `name`: is the name of this URL path. Then this path is used elsewhere, you can use the name to refer the path.\n",
    "\n",
    "The code `path(\"\", views.index, name=\"index\")` maps the empty string to the `views.index` view. The path has a name of `index`.\n",
    "\n",
    "The `include()` function allows nested paths. Except the built-in `admin.site.urls`, you use `include()` when you include other URL patterns.\n",
    "\n",
    "The `path(\"polls/\", include(\"polls.urls\")),` puts all polls url patterns defined in `polls/urls.py` under the `polls/` path."
   ]
  },
  {
   "cell_type": "markdown",
   "metadata": {
    "slideshow": {
     "slide_type": "slide"
    }
   },
   "source": [
    "# Database\n",
    "\n",
    "Django uses relational database to store application data that is defined by models.\n",
    "\n",
    "A model defines the table schema.\n",
    "\n",
    "Django provides built-in CRUD operations for data.\n",
    "\n",
    "Django supports a number of relational database engines. You can change database setup in the project `settings.py` file. "
   ]
  },
  {
   "cell_type": "markdown",
   "metadata": {
    "slideshow": {
     "slide_type": "subslide"
    }
   },
   "source": [
    "## Database Setup\n",
    "\n",
    "By default, Django uses the SQLite relational database to manage data. [SQLite](https://www.sqlite.org/) is a small, fast, and reliable relational database engine. It is an excellent choice for learning Django. It is also a good choice for small to medium web sites in production.\n",
    "\n",
    "The `my_site/settings.py` has two database configuration entries in the `default` item in `DATABASES`:\n",
    "\n",
    "- `ENGINE`: default is `'django.db.backends.sqlite3'`. Other popular choices are `'django.db.backends.postgresql'` or `'django.db.backends.mysql'`.\n",
    "- `NAME`: it is a database-specific setting. For SQLite, it is the database file path. For other databases, it is that database name that requires additional settings such as `USER`, `PASSWORD`, `HOST`, `PORT` and so on to build the connection string."
   ]
  },
  {
   "cell_type": "markdown",
   "metadata": {
    "slideshow": {
     "slide_type": "subslide"
    }
   },
   "source": [
    "## Migrations\n",
    "\n",
    "An app may have models whose data are stored in database.\n",
    "\n",
    "Django uses `migration` to manage database schema changes. A migration consists of SQL statements to create tables and data for an app. Whenever you change data models, Django can create a new migration for the changes.\n",
    "\n",
    "Django provides following commands to manage migrations:\n",
    "\n",
    "- `python3 manage.py showmigrations`: shows all migrations in a project.\n",
    "- `python3 manage.py makemigrations`: creates new migrations based on the changes detected to your models.\n",
    "- `python3 manage.py sqlmigrate app_label migration_name`: displays the SQL commands for the named migration.\n",
    "- `python3 manage.py migrate`: apply pending migrations to the database."
   ]
  },
  {
   "cell_type": "markdown",
   "metadata": {
    "slideshow": {
     "slide_type": "subslide"
    }
   },
   "source": [
    "## Built-in Apps\n",
    "\n",
    "Django framework comes with a number of built-in apps that provide common services for a typical web site. The `INSTALLED_APPS` item in `settings.py` has the list of activated applications:\n",
    "\n",
    "- `django.contrib.admin`: The administration site for this project. \n",
    "- `django.contrib.auth`: an app provides built-in support authentication.\n",
    "- `django.contrib.contenttypes`: an app provides built-in support for content types.\n",
    "- `django.contrib.sessions`: an app provides built-in support for session management.\n",
    "- `django.contrib.messages`: an app provides built-in support for messaging.\n",
    "- `django.contrib.staticfiles`: an app provides built-in support for managing static files."
   ]
  },
  {
   "cell_type": "markdown",
   "metadata": {},
   "source": [
    "## Initialize Database for Built-in Apps\n",
    "\n",
    "Django has built-in migrations for built-in apps thus there is no need to run create migrations for built-in apps.\n",
    "\n",
    "To see the built-in migrations, run `python3 manage.py showmigrations`\n",
    "\n",
    "To initialize database for built-in apps who use models, run `python3 manage.py migrate`. The command applies migrations that create tables and initialization data for activated built-in apps.\n",
    "\n",
    "For those who are familiar with database administration, you can use `django-admin dbshell` or `python3 manage.py dbshell` to run the command-line client for the specified database engine.\n",
    "\n",
    "For SQLite, this runs `sqlite3` command line client, also called a *shell*."
   ]
  },
  {
   "cell_type": "markdown",
   "metadata": {
    "slideshow": {
     "slide_type": "slide"
    }
   },
   "source": [
    "# Model\n",
    "\n",
    "To define a table schema and related database operations, you define a new subclass of `models.Model`.\n",
    "\n",
    "Django derives database migrations from model definition, thus there is only a single source definition of application data.\n",
    "\n",
    "If you change a data model, Django can create updated migrations for the changes. You can even roll back changes in some cases."
   ]
  },
  {
   "cell_type": "markdown",
   "metadata": {
    "slideshow": {
     "slide_type": "subslide"
    }
   },
   "source": [
    "## Creating Models\n",
    "\n",
    "In the polls app, there are two models: *Question* and *Choice*. Adding following definitions in `polls/models.py` file.\n",
    "\n",
    "- Each class inherits from `models.Model` class that provides many data access methods.\n",
    "- Each field is defined as a class attribute.\n",
    "- Each field is a descriptor defined in `models`.\n",
    "  - a defined class attribute is read/set as an instance attribute\n",
    "  - there are different descriptor types such as `CharField`, `DataTimeField`, and so on.\n",
    "- The `models.ForeignKey` defines a foreign key that links an instance of `Choice` to an instance of `Question`. \n",
    "  - It is a one-to-many relationship: one instance of `Question` is mapped to more than one instances of `Choice`.\n",
    "  - The `on_delete` means that if an instance of `Question` is deleted, all its associated instances of `Choice` are deleted automatically."
   ]
  },
  {
   "cell_type": "code",
   "execution_count": null,
   "metadata": {},
   "outputs": [],
   "source": [
    "import datetime\n",
    "\n",
    "from django.db import models\n",
    "from django.utils import timezone\n",
    "\n",
    "\n",
    "class Question(models.Model):\n",
    "    question_text = models.CharField(max_length=200)\n",
    "    publish_date = models.DateTimeField(\"date published\")\n",
    "\n",
    "    def __str__(self):\n",
    "        return self.question_text\n",
    "\n",
    "    def was_published_recently(self):\n",
    "        return self.pub_date >= timezone.now() - datetime.timedelta(days=1)\n",
    "\n",
    "\n",
    "class Choice(models.Model):\n",
    "    question = models.ForeignKey(Question, on_delete=models.CASCADE)\n",
    "    choice_text = models.CharField(max_length=200)\n",
    "    votes = models.IntegerField(default=0)\n",
    "\n",
    "    def __str__(self):\n",
    "        return self.choice_text\n"
   ]
  },
  {
   "cell_type": "markdown",
   "metadata": {
    "slideshow": {
     "slide_type": "subslide"
    }
   },
   "source": [
    "## Install the App\n",
    "\n",
    "Django creates table schema and database access API based on app model definitions.\n",
    "\n",
    "You need to add the configuration class of polls app, i.e., `\"polls.apps.PollsConfig\",` to top of the list in the `INSTALLED_APPS` item in the project setting file.\n",
    "\n",
    "Then create migration from the app models using command `python3 manage.py makemigrations polls`. It creates a migration file in `polls/migrations/0001_initial.py` that has the migration code.\n",
    "\n",
    "You can use the command `python3 manage.py sqlmigrate polls 0001` to check the SQL statements that to be applied to the database.\n",
    "\n",
    "Finally, run `python3 manage.py migrate` to apply the migration that creates the database tables.\n",
    "\n",
    "In your database shell (`python3 manage.py dbshell`), run `.tables` to list all created tables. The two tables for `polls` app are: `polls_question` and `polls_choice`, i.e., app name, underscore, and model class name, all in lower cases."
   ]
  },
  {
   "cell_type": "markdown",
   "metadata": {
    "slideshow": {
     "slide_type": "subslide"
    }
   },
   "source": [
    "## Django Data API\n",
    "\n",
    "The `models.Model` class provides database access methods for all model classes. The Django [Making queries document](https://docs.djangoproject.com/en/4.2/topics/db/queries/) has many examples.\n",
    "\n",
    "Django provides a Python shell to interact with the project. Run `python3 manage.py shell` to execute the project Python shell.\n",
    "\n",
    "```python\n",
    "from polls.models import Choice, Question\n",
    "from django.utils import timezone\n",
    "\n",
    "# create an object, save to database, query its attributes\n",
    "q = Question(question_text=\"How are you?\", publish_date=timezone.now())\n",
    "q.save()\n",
    "q.id   # 1\n",
    "q.question_text # \"How are you?\"\n",
    "\n",
    "# update the record with new question text\n",
    "q.question_text = \"How old are you?\"\n",
    "q.save() \n",
    "\n",
    "# get all questions in the database\n",
    "Question.objects.all() # <QuerySet [<How old are you?>]>\n",
    "\n",
    "# query by id\n",
    "q = Question.objects.get(pk=1)\n",
    "q.was_published_recently() # True\n",
    "\n",
    "# the choice table can be accessed from a question\n",
    "q.choice_set.all() # <QuerySet []>\n",
    "\n",
    "# create three choices \n",
    "c1 = q.choice_set.create(choice_text=\"28\", votes=0)\n",
    "c2 = q.choice_set.create(choice_text=\"35\", votes=0)\n",
    "c3 = q.choice_set.create(choice_text=\"15\", votes=0)\n",
    "\n",
    "# query choice attribute\n",
    "c3.question # <Question: How old are you?>\n",
    "\n",
    "# query choices from its question\n",
    "q.choice_set.all() # <QuerySet [<Choice: 28>, <Choice: 35>, <Choice: 15>]>\n",
    "\n",
    "q.choice_set.count() # 3\n",
    "\n",
    "# delete one, it returns the number of objects deleted and a dictionary with the number of deletions per object type.\n",
    "c2.delete() # (1, {'polls.Choice': 1})\n",
    "\n",
    "# how many left\n",
    "q.choice_set.count() # 2\n",
    "```"
   ]
  },
  {
   "cell_type": "markdown",
   "metadata": {
    "slideshow": {
     "slide_type": "subslide"
    }
   },
   "source": [
    "## Django Admin\n",
    "\n",
    "Django provides the ``django.contrib.admin` app to administrate the project. This is an internal site used by Web administrator.\n",
    "\n",
    "You need to create a administrator account to use it.\n",
    "\n",
    "Run `python manage.py createsuperuser` to create an account by filling username, email address and password.\n",
    "\n",
    "Then you can access the internal admin site using `http://localhost:8000/admin`. By default, you can only manage users and groups after login."
   ]
  },
  {
   "cell_type": "markdown",
   "metadata": {
    "slideshow": {
     "slide_type": "subslide"
    }
   },
   "source": [
    "## Manage Models\n",
    "\n",
    "To let administrator to manage your app models, you need to register the models.\n",
    "\n",
    "In `polls/admin.py`, add following lines and you can manage the registered models."
   ]
  },
  {
   "cell_type": "code",
   "execution_count": null,
   "metadata": {},
   "outputs": [],
   "source": [
    "# polls/admin.py\n",
    "\n",
    "from django.contrib import admin\n",
    "\n",
    "from .models import Question\n",
    "\n",
    "admin.site.register(Question)"
   ]
  }
 ],
 "metadata": {
  "language_info": {
   "name": "python"
  },
  "orig_nbformat": 4
 },
 "nbformat": 4,
 "nbformat_minor": 2
}
