{
 "cells": [
  {
   "cell_type": "markdown",
   "metadata": {
    "slideshow": {
     "slide_type": "slide"
    }
   },
   "source": [
    "# Turtle Graphics\n",
    "\n",
    "- Introduction\n",
    "- A template\n",
    "- Basic drawings"
   ]
  },
  {
   "cell_type": "markdown",
   "metadata": {
    "slideshow": {
     "slide_type": "slide"
    }
   },
   "source": [
    "## Turtle Graphics\n",
    "\n",
    "Turtle graphics is a drawing library shipped as part of Python standard library. It is available if the Python interpreter is installed properly.\n",
    "\n",
    "It is an effective learning tool for beginners to understand programming concepts because it shows code execution graphically. It was originally used in [Logo programming language](https://en.wikipedia.org/wiki/Logo_(programming_language)) in 1967.\n"
   ]
  },
  {
   "cell_type": "markdown",
   "metadata": {
    "slideshow": {
     "slide_type": "slide"
    }
   },
   "source": [
    "### Introduction\n",
    "\n",
    "There is a so-called `turtle` in the Turtle graphics library. The turtle draws in a two-dimension screen using a Cartesian coordinate system. The coordinate system consists of a horizontal x-axis and a vertical y-axis. The unit is a screen pixel. The screen center has a coordination of `(0, 0)`.\n",
    "\n",
    "The turtle has three basic attributes:\n",
    "\n",
    "- a location of its `(x, y)` coordinates.\n",
    "- an orientation of its head. It is the direction of its next move.\n",
    "- a pen status of `down` or `up`. If the pen is `down`, it draws in the screen when it moves. Otherwise, it moves without drawing (no trace)."
   ]
  },
  {
   "cell_type": "markdown",
   "metadata": {
    "slideshow": {
     "slide_type": "slide"
    }
   },
   "source": [
    "### Screen and Pen\n",
    "\n",
    "The Turtle draws in a screen. You can import `Screen` from the Turtle graphics library and create one screen object using `screen = Screen()`.\n",
    "\n",
    "A screen has many attributes, such as `window_height` (default is `1080`), `window_width` (default is `1720`) and a background color (default is `\"white\"`). You can customize these attributes at the beginning of your application.\n",
    "\n",
    "A pen that has two attributes: a `color` for drawing color and a `width` for drawing line width. \n",
    "\n",
    "Pen color can be string names such as `\"blue\"` or `\"red\"` or binary RGB values such as `(255, 255, 255)` for white color. When the pen is down and moves, it draws with the pen color.\n",
    "\n",
    "It has a default color of `\"black\"` and a default width of `1` pixel."
   ]
  },
  {
   "cell_type": "markdown",
   "metadata": {
    "slideshow": {
     "slide_type": "slide"
    }
   },
   "source": [
    "### A Simple Template\n",
    "\n",
    "A Python program executes sequentially, line by line, from top to the bottom. The following code creates a turtle using `t = turtle.Turtle()` function call and forwards `100` pixels. If this is the last line, the program exits and the turtle screen is closed.\n",
    "\n",
    "To keep the screen open, add `t.screen.mainloop()` as the last statement.\n",
    "\n",
    "- The `screen` is an *attribute* of the newly created turtle `t`. It is a screen object that has a method `mainloop()`.\n",
    "- Python use `.` operator to access object attributes and methods. The code `t.screen.mainloop()` calls the `mainloop()` method of the `screen` attribute of the object `t`.\n",
    "\n",
    "The following is a simple template for all turtle demo applications."
   ]
  },
  {
   "cell_type": "code",
   "execution_count": null,
   "metadata": {},
   "outputs": [],
   "source": [
    "# turtle.py\n",
    "import turtle\n",
    "\n",
    "# create a turtle object\n",
    "t = turtle.Turtle()\n",
    "\n",
    "# all kinds of moves and drawings can be done here\n",
    "t.forward(100)\n",
    "\n",
    "# this is the last statement to keep the screen open\n",
    "t.screen.mainloop()"
   ]
  },
  {
   "cell_type": "markdown",
   "metadata": {
    "slideshow": {
     "slide_type": "slide"
    }
   },
   "source": [
    "### A Demo Graphic Application\n",
    "\n",
    "The following code is based on the previous template. It draws a circle and a square in screen with different colors.\n",
    "\n",
    "![turtle](./images/turtle.jpg)"
   ]
  },
  {
   "cell_type": "code",
   "execution_count": null,
   "metadata": {
    "slideshow": {
     "slide_type": "subslide"
    }
   },
   "outputs": [],
   "source": [
    "import turtle\n",
    "\n",
    "# avoid magic numbers\n",
    "SCREEN_WIDTH = 600\n",
    "SCREEN_HEIGHT = 400\n",
    "SKIP_DISTANCE = 40\n",
    "SIDE_LENGTH = 60\n",
    "NINETY_DEGREE = 90\n",
    "REVERSE_DEGREE = 180\n",
    "RADIUS = 70\n",
    "\n",
    "screen = turtle.Screen()\n",
    "screen.setup(SCREEN_WIDTH, SCREEN_HEIGHT)\n",
    "\n",
    "# create a turtle\n",
    "t = turtle.Turtle()\n",
    "\n",
    "t.dot(5, \"red\")\n",
    "t.write((0, 0), align=\"Center\")\n",
    "\n",
    "# move to right without drawing\n",
    "t.penup()\n",
    "t.forward(SKIP_DISTANCE)\n",
    "t.pendown()\n",
    "\n",
    "# reverse and draw a green circle\n",
    "t.right(REVERSE_DEGREE)\n",
    "t.color(\"green\")\n",
    "t.circle(RADIUS)\n",
    "\n",
    "# reverse and draw a blue square\n",
    "t.right(REVERSE_DEGREE)\n",
    "t.color(\"blue\")\n",
    "t.forward(SIDE_LENGTH)\n",
    "t.left(NINETY_DEGREE)\n",
    "t.forward(SIDE_LENGTH)\n",
    "t.left(NINETY_DEGREE)\n",
    "t.forward(SIDE_LENGTH)\n",
    "t.left(NINETY_DEGREE)\n",
    "t.forward(SIDE_LENGTH)\n",
    "\n",
    "t.screen.mainloop()"
   ]
  }
 ],
 "metadata": {
  "kernelspec": {
   "display_name": "Python 3",
   "language": "python",
   "name": "python3"
  },
  "language_info": {
   "codemirror_mode": {
    "name": "ipython",
    "version": 3
   },
   "file_extension": ".py",
   "mimetype": "text/x-python",
   "name": "python",
   "nbconvert_exporter": "python",
   "pygments_lexer": "ipython3",
   "version": "3.11.4"
  },
  "orig_nbformat": 4
 },
 "nbformat": 4,
 "nbformat_minor": 2
}
