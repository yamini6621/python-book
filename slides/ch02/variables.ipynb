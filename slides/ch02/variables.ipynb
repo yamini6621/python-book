{
 "cells": [
  {
   "cell_type": "markdown",
   "metadata": {
    "slideshow": {
     "slide_type": "slide"
    }
   },
   "source": [
    "# Variables\n",
    "\n",
    "> Reference and Mutability"
   ]
  },
  {
   "cell_type": "markdown",
   "metadata": {
    "slideshow": {
     "slide_type": "slide"
    }
   },
   "source": [
    "## Object Definition\n",
    "\n",
    "In [Python Reference Document](https://docs.python.org/3/reference/datamodel.html#objects-values-and-types):\n",
    "\n",
    "> All data in a Python program is represented by **objects** or by **relations between objects**.\n",
    "\n",
    "> Every object has an **identity**, a **type** and a **value**. "
   ]
  },
  {
   "cell_type": "markdown",
   "metadata": {
    "slideshow": {
     "slide_type": "slide"
    }
   },
   "source": [
    "## Object in English\n",
    "\n",
    "Every Python data is represented as an object or a relation of objects.\n",
    "\n",
    "Objects may have relations such as a student (an object) has two attributes: a name (an object) and birthday (an object).\n"
   ]
  },
  {
   "cell_type": "markdown",
   "metadata": {
    "slideshow": {
     "slide_type": "slide"
    }
   },
   "source": [
    "### Mutability\n",
    "\n",
    "An object’s identity and type never change. \n",
    "\n",
    "An object’s value is\n",
    "  - **mutable**: if the value can change\n",
    "  - **immutable**: if the value is unchangeable."
   ]
  },
  {
   "cell_type": "markdown",
   "metadata": {
    "slideshow": {
     "slide_type": "slide"
    }
   },
   "source": [
    "### What is an Identity\n",
    "\n",
    "Each object has a unique identity.\n",
    "\n",
    "The actual identity is an implementation detail of a specific Python Interpreter.\n",
    "\n",
    "In CPython, the reference Python interpreter implementation, the identity of an object is its *memory address* – a detail that you shouldn ignore.\n",
    "\n",
    "The identity never changes in each Python interpreter run. When you start another interpreter, the address (thus identity) changes."
   ]
  },
  {
   "cell_type": "markdown",
   "metadata": {
    "slideshow": {
     "slide_type": "slide"
    }
   },
   "source": [
    "### Identity Operations\n",
    "\n",
    "The `id()` function returns an object’s identity. For example:"
   ]
  },
  {
   "cell_type": "code",
   "execution_count": null,
   "metadata": {},
   "outputs": [],
   "source": [
    "# the return values change for different runs\n",
    "id(3) # returns a memory address 4358499512\n",
    "id(\"hello\") # returns a memory address 4340502768"
   ]
  },
  {
   "cell_type": "markdown",
   "metadata": {},
   "source": [
    "The `is` or `is not` operator compares the identity of two objects: `True` if they have the same identity, `False` if not."
   ]
  },
  {
   "cell_type": "code",
   "execution_count": null,
   "metadata": {},
   "outputs": [],
   "source": [
    "id(3) is not id(\"hello\")\n",
    "id(3) is not id(3)\n",
    "id(\"hello\") is not id(\"hello\")"
   ]
  },
  {
   "cell_type": "markdown",
   "metadata": {
    "slideshow": {
     "slide_type": "slide"
    }
   },
   "source": [
    "### Type\n",
    "\n",
    "An object’s type determines the operations/functions that you can apply on an object. For example:\n",
    "\n",
    "- an integer type supports `/`, the division, but a string type doesn’t. \n",
    "- A string type supports `len()`, the length operation on an object,  but an integer type doesn’t.\n",
    "\n",
    "Use `type()` built-in function to get the type of an object."
   ]
  },
  {
   "cell_type": "code",
   "execution_count": null,
   "metadata": {
    "slideshow": {
     "slide_type": "slide"
    }
   },
   "outputs": [],
   "source": [
    "type(3) # returns <class 'int'>\n",
    "type(7) # returns <class 'int'>\n",
    "type(3.5) #returns <class 'float'>\n",
    "type(\"a\") #returns <class 'str'> \n",
    "type(\"hello\") #returns <class 'str'>\n",
    "type([1, 3, 5]) #returns <class 'list'> \n",
    "type(True) # returns bool"
   ]
  },
  {
   "cell_type": "markdown",
   "metadata": {
    "slideshow": {
     "slide_type": "slide"
    }
   },
   "source": [
    "### Same Type\n",
    "\n",
    "In Python, everything is an object, including an object’s type.\n",
    "\n",
    "Use `is` or `is not` to find if two types are the same.\n",
    "\n",
    "All following comparisons return `True`:\n"
   ]
  },
  {
   "cell_type": "code",
   "execution_count": null,
   "metadata": {
    "slideshow": {
     "slide_type": "fragment"
    }
   },
   "outputs": [],
   "source": [
    "type(3) is type(7) # the same int type\n",
    "type(3.5) is not type(7) # int is not float\n",
    "type(\"h\") is type(\"hello\") # the same string type\n",
    "type(3) is not type(\"a\") # int is not string"
   ]
  },
  {
   "cell_type": "markdown",
   "metadata": {
    "slideshow": {
     "slide_type": "slide"
    }
   },
   "source": [
    "### Type Defines Valid Operations\n",
    "\n",
    "An object’s type defines the set of valid operations one can put on the object’s value.\n",
    "\n",
    "For exaplem, for a `string`, you can peform the following operatoins that maynot be valid for other types such as `int` or `bool`:\n",
    "\n",
    "- get its length or uppercase/lowercase\n",
    "- find if a string is a substring of another string\n",
    "- concatenate multiple strings"
   ]
  },
  {
   "cell_type": "markdown",
   "metadata": {
    "slideshow": {
     "slide_type": "slide"
    }
   },
   "source": [
    "### Three Operation Types\n",
    "\n",
    "#### Operators\n",
    "\n",
    "Most are arithmetic and logic operations for numbers. Examples are `+`, `-`, `>`, `<`, `==`, `>=`, `is`, `is not`,,,\n",
    "\n",
    "#### Function Calls \n",
    "\n",
    "Functions can be built-in or from imported module. For examples: \n",
    "- `len(\"hello\")` returns the string length, which is \n",
    "- `math.pow(3, 5)` returns 3 to the power of 5, which is `243.0`.\n",
    "\n",
    "#### Methods\n",
    "\n",
    "These are functions defined inside an object’s type. \n",
    "\n",
    "For example: \n",
    "\n",
    "- `\"hello\".upper()` returns the uppercase of the string that is 'HELLO'.  \n",
    "- `[1, 2, 3].pop()` removes and returns the last element 3."
   ]
  }
 ],
 "metadata": {
  "kernelspec": {
   "display_name": "Python 3",
   "language": "python",
   "name": "python3"
  },
  "language_info": {
   "codemirror_mode": {
    "name": "ipython",
    "version": 3
   },
   "file_extension": ".py",
   "mimetype": "text/x-python",
   "name": "python",
   "nbconvert_exporter": "python",
   "pygments_lexer": "ipython3",
   "version": "3.11.4"
  },
  "orig_nbformat": 4
 },
 "nbformat": 4,
 "nbformat_minor": 2
}
