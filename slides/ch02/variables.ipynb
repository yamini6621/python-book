{
 "cells": [
  {
   "cell_type": "markdown",
   "metadata": {
    "slideshow": {
     "slide_type": "slide"
    }
   },
   "source": [
    "# Variables\n",
    "\n",
    "> Reference and Mutability"
   ]
  },
  {
   "cell_type": "markdown",
   "metadata": {
    "slideshow": {
     "slide_type": "slide"
    }
   },
   "source": [
    "## Object Definition\n",
    "\n",
    "In [Python Reference Document](https://docs.python.org/3/reference/datamodel.html#objects-values-and-types):\n",
    "\n",
    "> All data in a Python program is represented by **objects** or by **relations between objects**.\n",
    "\n",
    "> Every object has an **identity**, a **type** and a **value**. "
   ]
  },
  {
   "cell_type": "markdown",
   "metadata": {
    "slideshow": {
     "slide_type": "slide"
    }
   },
   "source": [
    "## Object in English\n",
    "\n",
    "Every Python data is represented as an object or a relation of objects.\n",
    "\n",
    "Objects may have relations such as a student (an object) has two attributes: a name (an object) and birthday (an object).\n"
   ]
  },
  {
   "cell_type": "markdown",
   "metadata": {
    "slideshow": {
     "slide_type": "slide"
    }
   },
   "source": [
    "### Mutability\n",
    "\n",
    "An object’s identity and type never change. \n",
    "\n",
    "An object’s value is\n",
    "  - **mutable**: if the value can change\n",
    "  - **immutable**: if the value is unchangeable."
   ]
  },
  {
   "cell_type": "markdown",
   "metadata": {
    "slideshow": {
     "slide_type": "slide"
    }
   },
   "source": [
    "### Identity\n",
    "\n",
    "Each object has a unique identity.\n",
    "\n",
    "The actual identity is an implementation detail of a specific Python Interpreter.\n",
    "\n",
    "In CPython, the reference Python interpreter implementation, the identity of an object is its *memory address* – a detail that you shouldn ignore.\n",
    "\n",
    "The identity never changes in each Python interpreter run. When you start another interpreter, the address (thus identity) changes."
   ]
  },
  {
   "cell_type": "markdown",
   "metadata": {
    "slideshow": {
     "slide_type": "slide"
    }
   },
   "source": [
    "### Identity Operations\n",
    "\n",
    "The `id()` function returns an object’s identity. For example:"
   ]
  },
  {
   "cell_type": "code",
   "execution_count": null,
   "metadata": {},
   "outputs": [],
   "source": [
    "# the return values change for different runs\n",
    "id(3) # returns a memory address 4358499512\n",
    "id(\"hello\") # returns a memory address 4340502768"
   ]
  },
  {
   "cell_type": "markdown",
   "metadata": {},
   "source": [
    "The `is` or `is not` operator compares the identity of two objects: `True` if they have the same identity, `False` if not."
   ]
  },
  {
   "cell_type": "code",
   "execution_count": null,
   "metadata": {},
   "outputs": [],
   "source": [
    "id(3) is not id(\"hello\")\n",
    "id(3) is not id(3)\n",
    "id(\"hello\") is not id(\"hello\")"
   ]
  },
  {
   "cell_type": "markdown",
   "metadata": {
    "slideshow": {
     "slide_type": "slide"
    }
   },
   "source": [
    "### Type\n",
    "\n",
    "An object’s type determines the operations/functions that you can apply on an object. For example:\n",
    "\n",
    "- an integer type supports `/`, the division, but a string type doesn’t. \n",
    "- A string type supports `len()`, the length operation on an object,  but an integer type doesn’t.\n",
    "\n",
    "Use `type()` built-in function to get the type of an object."
   ]
  },
  {
   "cell_type": "code",
   "execution_count": null,
   "metadata": {
    "slideshow": {
     "slide_type": "slide"
    }
   },
   "outputs": [],
   "source": [
    "type(3) # returns <class 'int'>\n",
    "type(7) # returns <class 'int'>\n",
    "type(3.5) #returns <class 'float'>\n",
    "type(\"a\") #returns <class 'str'> \n",
    "type(\"hello\") #returns <class 'str'>\n",
    "type([1, 3, 5]) #returns <class 'list'> \n",
    "type(True) # returns bool"
   ]
  },
  {
   "cell_type": "markdown",
   "metadata": {
    "slideshow": {
     "slide_type": "slide"
    }
   },
   "source": [
    "### Same Type\n",
    "\n",
    "In Python, everything is an object, including an object’s type.\n",
    "\n",
    "Use `is` or `is not` to find if two types are the same.\n",
    "\n",
    "All following comparisons return `True`:\n"
   ]
  },
  {
   "cell_type": "code",
   "execution_count": null,
   "metadata": {
    "slideshow": {
     "slide_type": "fragment"
    }
   },
   "outputs": [],
   "source": [
    "type(3) is type(7) # the same int type\n",
    "type(3.5) is not type(7) # int is not float\n",
    "type(\"h\") is type(\"hello\") # the same string type\n",
    "type(3) is not type(\"a\") # int is not string"
   ]
  },
  {
   "cell_type": "markdown",
   "metadata": {
    "slideshow": {
     "slide_type": "slide"
    }
   },
   "source": [
    "### Type Defines Operations\n",
    "\n",
    "An object’s type defines the set of valid operations one can put on the object’s value.\n",
    "\n",
    "For exaplem, for a `string`, you can peform the following operatoins that maynot be valid for other types such as `int` or `bool`:\n",
    "\n",
    "- get its length or uppercase/lowercase\n",
    "- find if a string is a substring of another string\n",
    "- concatenate multiple strings"
   ]
  },
  {
   "cell_type": "markdown",
   "metadata": {
    "slideshow": {
     "slide_type": "slide"
    }
   },
   "source": [
    "### Three Operation Types\n",
    "\n",
    "#### Operators\n",
    "\n",
    "Most are arithmetic and logic operations for numbers. Examples are `+`, `-`, `>`, `<`, `==`, `>=`, `is`, `is not`,,,\n",
    "\n",
    "#### Function Calls \n",
    "\n",
    "Functions can be built-in or from imported module. For examples: \n",
    "- `len(\"hello\")` returns the string length, which is \n",
    "- `math.pow(3, 5)` returns 3 to the power of 5, which is `243.0`.\n",
    "\n",
    "#### Methods\n",
    "\n",
    "These are functions defined inside an object’s type. \n",
    "\n",
    "For example: \n",
    "\n",
    "- `\"hello\".upper()` returns the uppercase of the string that is 'HELLO'.  \n",
    "- `[1, 2, 3].pop()` removes and returns the last element 3."
   ]
  },
  {
   "cell_type": "markdown",
   "metadata": {
    "slideshow": {
     "slide_type": "slide"
    }
   },
   "source": [
    "### Value\n",
    "\n",
    "All operations/functions work on values. Many people use term “value” or “data” to mean the object behind it.\n",
    "\n",
    "Nonetheless, it is important to know that *mutability* is about an object’s value. An object’s type and id never change."
   ]
  },
  {
   "cell_type": "markdown",
   "metadata": {
    "slideshow": {
     "slide_type": "slide"
    }
   },
   "source": [
    "### Mutability Examples\n",
    "\n",
    "All integers and strings are immutable, i.e., their values never change once created.\n",
    "\n",
    "Lists are mutable data type. You can add/remove/change list elements. For example, `[1, 2, 3].pop()` removes and returns the last element, i.e., `3`, the object value changes to `[1, 2]`.\n",
    "\n",
    "- You need a reference/variable(introduced later) to the object to see the changes. "
   ]
  },
  {
   "cell_type": "markdown",
   "metadata": {
    "slideshow": {
     "slide_type": "slide"
    }
   },
   "source": [
    "### Mutability is Important\n",
    "\n",
    "An object’s mutability is determined by its type. Mutability affects many operation behaviors.\n",
    "\n",
    "All integers and strings are immutable; therefore all change operations create *new* objects. The operation `\"hello\".upper()` operation creates a new string `'HELLO’` without changing the original `\"hello\"`.\n",
    "\n",
    "List is mutable. Some operations make *in-place* change of the value of a list object. The operation `[1, 2, 3].pop()` remove the last element on the same object, i.e., its value changes. \n",
    "  \n",
    "  - Again, you need a variable to refer to the object and see the mutability effect."
   ]
  },
  {
   "cell_type": "markdown",
   "metadata": {
    "slideshow": {
     "slide_type": "slide"
    }
   },
   "source": [
    "### Data, Object, and Value\n",
    "\n",
    "In most contexts, the three are mixed and used interchangeably in programming. Conceptually, the type concept is important to determine valid operations while the value concept is important for mutability. Formally,\n",
    "\n",
    "- Data: everything processed by a Python program.\n",
    "- Object: abstraction of data that has an identity, a type and a value. Identity and type are meta-data of the object.\n",
    "- Value: the ”real data” used in computation. Its object type determines its mutability."
   ]
  },
  {
   "cell_type": "markdown",
   "metadata": {
    "slideshow": {
     "slide_type": "slide"
    }
   },
   "source": [
    "### What is a Variable?\n",
    "\n",
    "A Python variable is a *symbolic name* that is a *reference* to an object. \n",
    "Technically:\n",
    "\n",
    "- A variable is a name of a memory address. \n",
    "- The memory content is a refence to an object (also in memory).\n",
    "- The reference is a memory pointer that points to the object memory location.\n",
    "\n",
    "Conceptually\n",
    "\n",
    "- A variable is a named reference, i.e., a label, to an object.\n",
    "- Literally, variable can refer to different objects at different time, thus it varies."
   ]
  },
  {
   "cell_type": "markdown",
   "metadata": {
    "slideshow": {
     "slide_type": "slide"
    }
   },
   "source": [
    "### Assignment Statement\n",
    "\n",
    "You create a variable using an assignment statement `name = something`:\n",
    "\n",
    "- `name`: the Left hand side (LHS) of the assignment. It must be a variable name.\n",
    "- `something`: the right hand side (RHS) of the assignment. It can be any object or operations of objects.\n",
    "\n",
    "You must create a variable before use it. Her the `use` means anywhere except in LHS. You often use a variable in an operation or in RHS of an assignment."
   ]
  },
  {
   "cell_type": "code",
   "execution_count": null,
   "metadata": {
    "slideshow": {
     "slide_type": "fragment"
    }
   },
   "outputs": [],
   "source": [
    "PI = 3.1415926\n",
    "cat_names = [\"lemon\", \"kiwi\", \"orange\"]\n",
    "\n",
    "number_input = input(\"Please input a number: \")\n",
    "\n",
    "# use after creation\n",
    "number = int(number_input)\n",
    "number = number + 1\n",
    "\n",
    "# wrong - the LHS must be a variable\n",
    "10 = PI"
   ]
  },
  {
   "cell_type": "markdown",
   "metadata": {
    "slideshow": {
     "slide_type": "slide"
    }
   },
   "source": [
    "### Why Variable?\n",
    "\n",
    "Essentially a variable is a *named reference* of an object.\n",
    "\n",
    "A named reference is needed for:\n",
    "\n",
    "- Meaningful names in a context. \n",
    "- Using objects in multiple places.\n",
    "- Objects created at runtime (when a program is running)."
   ]
  },
  {
   "cell_type": "code",
   "execution_count": null,
   "metadata": {
    "slideshow": {
     "slide_type": "fragment"
    }
   },
   "outputs": [],
   "source": [
    "# Too bad, 3.14 is a magic number\n",
    "x = (10 ** 2) * 3.14\n",
    "\n",
    "# the meaning of numbers\n",
    "PI = 3.14\n",
    "diameter = 10\n",
    "circumference = diameter * PI\n",
    "\n",
    "# it is a list of cat names, not fruit names\n",
    "cat_names = [\"lemon\", \"kiwi\", \"orange\"]"
   ]
  },
  {
   "cell_type": "code",
   "execution_count": null,
   "metadata": {
    "slideshow": {
     "slide_type": "fragment"
    }
   },
   "outputs": [],
   "source": [
    "# the data could have 100 or 1,000,000 elements\n",
    "cat_names = [\"lemon\", \"kiwi\", \"orange\"]\n",
    "# change the mutable data and print it\n",
    "cat_names.append(\"apple\")\n",
    "print(cat_names)"
   ]
  },
  {
   "cell_type": "markdown",
   "metadata": {
    "slideshow": {
     "slide_type": "slide"
    }
   },
   "source": [
    "### Data Created at Runtime\n",
    "\n",
    "Create data from user input / network / function call.\n",
    "\n",
    "Function call inputs (parameters) are alias of its arguments"
   ]
  },
  {
   "cell_type": "code",
   "execution_count": null,
   "metadata": {
    "slideshow": {
     "slide_type": "fragment"
    }
   },
   "outputs": [],
   "source": [
    "# number refers to the input (argument)\n",
    "def double(number):\n",
    "    return number * 2\n",
    "\n",
    "# refer to the function results \n",
    "# they don’t exist before code execution \n",
    "number_input = input(\"Please input a number: \")\n",
    "number = int(number_input)\n",
    "\n",
    "# now the variable refers/binds to a new object\n",
    "# the literal meaning of a variable: a variable's referred object varies\n",
    "number = double(number)"
   ]
  },
  {
   "cell_type": "markdown",
   "metadata": {
    "slideshow": {
     "slide_type": "slide"
    }
   },
   "source": [
    "### Python Identifier\n",
    "\n",
    "A Python variable is a *symbolic name*, an *identifier* in Python.\n",
    "\n",
    "A function name is also an identifier.\n",
    "\n",
    "There are some rules for a valid identifier:\n",
    "\n",
    "- Must be started with a letter or an underscore (`_`). \n",
    "  - specifically, the first letter cannot be a numeric character.\n",
    "- Cannot conflict with a keyword.\n",
    "  - Keywords are reserved by Python standard such as `if`, `else`, `for`, etc.\n",
    "- Contains no special characters such as `@`, `%`, `$`, etc.\n"
   ]
  },
  {
   "cell_type": "markdown",
   "metadata": {
    "slideshow": {
     "slide_type": "slide"
    }
   },
   "source": [
    "### Name Matters\n",
    "\n",
    "Use most meaningful name in the context !!!\n",
    "\n",
    "Use snake_case naming convention for multi-word name.\n",
    "\n",
    "Use UPPERCAS_NAME for constants."
   ]
  },
  {
   "cell_type": "code",
   "execution_count": null,
   "metadata": {
    "slideshow": {
     "slide_type": "fragment"
    }
   },
   "outputs": [],
   "source": [
    "# good names\n",
    "scores = [27, 87, 92]\n",
    "score1 = scores[0]\n",
    "first_name = \"Alice\"\n",
    "# constants use UPPERCASE names\n",
    "KILOGRAM_ABBREVIATION = \"kg\"\n",
    "ULTIMATE_ANSWER = 42\n",
    "# bad names. Yes, math.pi is a bad name in today's standard\n",
    "pi = 3.1415926\n",
    "\n",
    "1st_score = scores[0] # invalid name\n",
    "# names like i, j, k are meaningless\n",
    "for i in scores:\n",
    "    print(i)"
   ]
  },
  {
   "cell_type": "markdown",
   "metadata": {
    "slideshow": {
     "slide_type": "slide"
    }
   },
   "source": [
    "### The Semantics of Assignment\n",
    "\n",
    "The “assignment” is misleading, it actually binds/re-binds an identifier to an object.\n",
    "\n",
    "Variable is not a container; it is a name/label/identifier/reference that refers to an object.\n",
    "\n",
    "LHS and RHS\n",
    "\n",
    "- When a variable is on the LHS, it binds to the RHS\n",
    "- When a variable is on the RHS, the referred object value is used in place of the variable. "
   ]
  },
  {
   "cell_type": "markdown",
   "metadata": {
    "slideshow": {
     "slide_type": "slide"
    }
   },
   "source": [
    "### Bind and Alias\n",
    "\n",
    "When the RHS is a literal value, the LHS variable is *bound* to the value.\n",
    "\n",
    "When the RHS is a variable, the LHS variable is *bound* to the referred object in RHS. It creates an *alias*.\n",
    "\n",
    "It also happens in function call. A function parameter is bound to the argument object. If the argument is a variable, it creates an alias to the object.\n",
    "\n",
    "You can use `is` or `is not` operator to check if two variables refer to the same objects."
   ]
  },
  {
   "cell_type": "code",
   "execution_count": null,
   "metadata": {
    "slideshow": {
     "slide_type": "fragment"
    }
   },
   "outputs": [],
   "source": [
    "x = 3\n",
    "y = 5\n",
    "# False because they refer to different objects\n",
    "print(x is y)\n",
    "\n",
    "# True because they refer to different objects\n",
    "print(x is not y)\n",
    "z = x\n",
    "\n",
    "# True because they refer to the same object\n",
    "# They are aliases of 3\n",
    "print(x is z)"
   ]
  },
  {
   "cell_type": "code",
   "execution_count": 1,
   "metadata": {
    "slideshow": {
     "slide_type": "slide"
    }
   },
   "outputs": [
    {
     "name": "stdout",
     "output_type": "stream",
     "text": [
      "[77, 67, 82]\n",
      "[77, 67, 82]\n"
     ]
    }
   ],
   "source": [
    "# Alias of mutable data\n",
    "scores = [90, 67, 82]\n",
    "scores2 = scores\n",
    "scores2[0] = 77\n",
    "# the result is [77, 67, 82]\n",
    "print(scores2)\n",
    "# the same result of [77, 67, 82]\n",
    "# they refer to the same object\n",
    "print(scores)"
   ]
  },
  {
   "cell_type": "code",
   "execution_count": null,
   "metadata": {
    "slideshow": {
     "slide_type": "slide"
    }
   },
   "outputs": [],
   "source": [
    "# Be careful of utable argument\n",
    "\n",
    "# changing input is usually bad\n",
    "def report_scores(scores):\n",
    "    scores.append(100)\n",
    "    for score in scores:\n",
    "        print(score)\n",
    "\n",
    "scores = [27, 87, 92]\n",
    "report_scores(scores)\n",
    "\n",
    "# Surprise or not: it is changed to [27, 87, 92, 100]\n",
    "print(scores)"
   ]
  },
  {
   "cell_type": "markdown",
   "metadata": {},
   "source": [
    "## Summary\n",
    "\n",
    "Python is a high-level PL that hides the memory details.\n",
    "\n",
    "However, these concepts are important to write correct Python Code:\n",
    "\n",
    "- An object's type and identity are fixed once it is created.\n",
    "- An object's type determines the operatoins and mutablity of the object's value.\n",
    "- Variables are references/binds to objects.\n",
    "- Variables may refere different objects in different time.\n",
    "- Assignment or function parameter create aliases that refer to the same corrrespnding RHS/argument object."
   ]
  }
 ],
 "metadata": {
  "kernelspec": {
   "display_name": "Python 3",
   "language": "python",
   "name": "python3"
  },
  "language_info": {
   "codemirror_mode": {
    "name": "ipython",
    "version": 3
   },
   "file_extension": ".py",
   "mimetype": "text/x-python",
   "name": "python",
   "nbconvert_exporter": "python",
   "pygments_lexer": "ipython3",
   "version": "3.11.4"
  },
  "orig_nbformat": 4
 },
 "nbformat": 4,
 "nbformat_minor": 2
}
