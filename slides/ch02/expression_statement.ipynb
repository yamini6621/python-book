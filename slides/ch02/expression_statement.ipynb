{
 "cells": [
  {
   "cell_type": "markdown",
   "metadata": {
    "slideshow": {
     "slide_type": "slide"
    }
   },
   "source": [
    "# Operation, Expression and Statement\n",
    "\n",
    "- Expression\n",
    "- Operator\n",
    "- Statement"
   ]
  },
  {
   "cell_type": "markdown",
   "metadata": {
    "slideshow": {
     "slide_type": "slide"
    }
   },
   "source": [
    "## Expression\n",
    "\n",
    "An expression is a *code construct* that is evaluated to a value. A code construct is a piece of code. Following are some common expressions:\n",
    "\n",
    "- an object or a declared varialbe, such as: `3`, `Hi`, `x`, `[1, 2, 3]`.\n",
    "- a computation using operators, such as `3 + 5`, `x < y < z`.\n",
    "- A function call, such as `len(\"hello\")`, `math.pow(3, 2)`.\n",
    "- Functions defined inside types are called methods. A metho call is an expression. For example: `\"hello\".upper()`, `[1, 2, 3].pop()`."
   ]
  },
  {
   "cell_type": "markdown",
   "metadata": {
    "slideshow": {
     "slide_type": "subslide"
    }
   },
   "source": [
    "\n",
    "### Evaluation\n",
    "\n",
    "Evalution refers to the process that Python interpreter generates the final object of an expression.\n",
    "\n",
    "Expressions have a common characteristic: the evaluation of the code construct generates a *single object*.\n",
    "\n",
    "An object may have a single value such as `3` or multiple values like a list or a tuple. \n",
    "\n",
    "An expression may have nested expression. For example, a list or a tuple may have other tuple or list or dictionary as its element. There is no limit on the nested levels.\n",
    "\n",
    "Python evaluates expressions from left to right."
   ]
  },
  {
   "cell_type": "markdown",
   "metadata": {},
   "source": [
    "### Expression Examples\n",
    "\n",
    "- `3` is an literal expression, evaluated to `3`\n",
    "- `3 + 5` is an addition operation expression, evaluted to `8`\n",
    "- `len(\"hello\")` is a function call expression, evaluated to `5`\n",
    "- `math.pow(3, 2)` is an method call expression. evaluated to `9`\n",
    "- `len(\"hello\"), math.pow(3, 2)` is an expression that has two nested evaluation, the final evaluation result is a tuple of `(5, 3)`.\n",
    "\n",
    "There are other code constructs that are expressions. They will be introduced later."
   ]
  },
  {
   "cell_type": "markdown",
   "metadata": {
    "slideshow": {
     "slide_type": "slide"
    }
   },
   "source": [
    "## Operator\n",
    "\n",
    "An operator is a *special symbols* that perform operations on values and variables.\n",
    "\n",
    "A high-level programming language like Python has many built-in operators that make the language simple and easy to understand. For example, very few programming languages have built-in support for chained comparison like `x < y < z` or matrix multiplication operation with `@`. Python allows both, though matrix data types are not provided by third party libraries.\n",
    "\n",
    "The data that an on operator acts on are called *operands*. An operator may take one operand (*unary operator*), two operands (*binary operator*), or three operands (*ternary operator*).\n",
    "\n",
    "Python has 7 types of operators."
   ]
  },
  {
   "cell_type": "markdown",
   "metadata": {},
   "source": [
    "### Types of Operators\n",
    "\n",
    "1 Arithmetic Operators\n",
    "\n",
    "2 Relational Operators\n",
    "\n",
    "3 Logical (Boolean) Operators\n",
    "\n",
    "4 Membership Operators\n",
    "\n",
    "5 Identity Operators\n",
    "\n",
    "6 Bitwise Operators\n",
    "\n",
    "7 Assignment Operators"
   ]
  },
  {
   "cell_type": "code",
   "execution_count": null,
   "metadata": {
    "slideshow": {
     "slide_type": "subslide"
    }
   },
   "outputs": [],
   "source": [
    "# 1 Arithmetic Operators, evaluated to a number\n",
    "# if there is a float number operand, the result is a float number \n",
    "\n",
    "-5 # unary negation: -2\n",
    "5 + 3.5 # Addition: 8.5\n",
    "5 - 3 # Subtraction: 2\n",
    "5 * 1.5 # multiplication: 7.5\n",
    "5 / 2.0 # division: 2.5\n",
    "5**3.5  # exponential: 279.5084971874737\n",
    "5 // 3 # floor division or quotient: 1\n",
    "5 % 3 # modulus or remainder: 2\n",
    "\n",
    "# @ is a matrix multiplication operator used by 3rd party libraries"
   ]
  },
  {
   "cell_type": "code",
   "execution_count": null,
   "metadata": {
    "slideshow": {
     "slide_type": "subslide"
    }
   },
   "outputs": [],
   "source": [
    "# 2 Relational Operators, evaluated to a boolean value of True or False\n",
    "\n",
    "3 == 5 # eqaual to: False\n",
    "3 != 5 # not equal to: True\n",
    "3 > 5 # greater than: False\n",
    "3 < 5 # less than: True\n",
    "3 >= 5 # greater than or equal to: False\n",
    "3 <= 5 # less than or equal to: True\n"
   ]
  },
  {
   "cell_type": "markdown",
   "metadata": {
    "slideshow": {
     "slide_type": "subslide"
    }
   },
   "source": [
    "### 3 Logical Operators\n",
    "\n",
    "Also called `Boolean` operators. there are three of them: `not`, `and`, and `or`. There are three important details for boolean operators:\n",
    "\n",
    "- all Python objects can be `Truthy` or `Falsy`.\n",
    "- `not` is a unary boolean operator, it always returns a `True` or `False`. \n",
    "- The return value of `and` and `or` is determined by their operands. \n",
    "- `and` and `or` operations support short circuiting.\n"
   ]
  },
  {
   "cell_type": "markdown",
   "metadata": {
    "slideshow": {
     "slide_type": "subslide"
    }
   },
   "source": [
    "### Truthy and Falsy\n",
    "\n",
    "All Python objects can be `Truthy` or `Falsy`, used as `True` or `False` in places where a boolean value is required. For example, logical operation and branching code.\n",
    "\n",
    "You can find the `Truthy` or `Falsy` value using the built-in function `bool()`. Empty values such as `0`, `None`, empty list `[]`, empty tuple `()` and empty dictionary `{}` are `Falsy`. Most values are `Truthy`.\n"
   ]
  },
  {
   "cell_type": "code",
   "execution_count": null,
   "metadata": {},
   "outputs": [],
   "source": [
    "bool([]) # False\n",
    "bool(3) # True\n",
    "not(3) # negation operation:False\n",
    "not(3 == 5) # negation operation: True\n",
    "not(True) # negation operation:False"
   ]
  },
  {
   "cell_type": "markdown",
   "metadata": {
    "slideshow": {
     "slide_type": "subslide"
    }
   },
   "source": [
    "### `and` and `or` Logical Operation\n",
    "\n",
    "The evaluation rules are:\n",
    "\n",
    "- `x or y`, if `x`` is `True` or `Truthy`, then `x`, else `y`\n",
    "- `x and y`, if `x` is `False` or `Falsy`, then `x`, else `y`\n"
   ]
  },
  {
   "cell_type": "code",
   "execution_count": null,
   "metadata": {},
   "outputs": [],
   "source": [
    "\n",
    "(3 == 5) and (3 != 5) # False\n",
    "(3 == 5) or (3 != 5) # True\n",
    "3 or 5 # 3\n",
    "3 and 5 # 5\n",
    "0 and \"hi\" # 0\n",
    "0 or \"hi\" # \"hi\"\n"
   ]
  },
  {
   "cell_type": "markdown",
   "metadata": {
    "slideshow": {
     "slide_type": "subslide"
    }
   },
   "source": [
    "### Short-circuiting\n",
    "\n",
    "Python supports short-curcuiting in `and`/`or` operations: if it can determine the result from the left part, it doesn't evaluate the later part."
   ]
  },
  {
   "cell_type": "code",
   "execution_count": null,
   "metadata": {},
   "outputs": [],
   "source": [
    "# short-cuircuiting in and/or\n",
    "def demo_true():\n",
    "    print(\"True\")\n",
    "    return True\n",
    "\n",
    "def demo_false():\n",
    "    print(\"False\")\n",
    "    return False\n",
    "\n",
    "demo_true() and demo_false() # True, False \n",
    "demo_true() or demo_false() # True\n",
    "demo_false() and demo_true() # False\n",
    "demo_false() or demo_true() # False, True"
   ]
  },
  {
   "cell_type": "markdown",
   "metadata": {},
   "source": [
    "### 4 Membership Opertor\n",
    "\n",
    "The membership operator `in` and `not in` are used to find if a value is a member of a sequence. A sequence can be a string, a list, a tuple, or even a dictionary. "
   ]
  },
  {
   "cell_type": "code",
   "execution_count": null,
   "metadata": {},
   "outputs": [],
   "source": [
    "5 in [1, 5, 7] # True\n",
    "key = \"hi\"\n",
    "greeting = \"hello\"\n",
    "key in \"hello\" # False\n",
    "key not in greeting # True\n",
    "table = {key: greeting, \"az\": \"arizona\"}\n",
    "key in table # True\n",
    "key not in table # False"
   ]
  },
  {
   "cell_type": "markdown",
   "metadata": {},
   "source": [
    "### 5 Identity Operator\n",
    "\n",
    "`is` and `is not` are used to check if *two variables* refer to the same object, i.e., if two variables are alises of the same object. Use `==` to check if two values are equal or not. It is not recommended to use identity opertor on literal values.\n",
    "\n",
    "There are some suprises in these two concepts. In Python, small integer values (from -5 to 256, inclusive) and strings are shared by all references for performance reason. Therefore, variables with the same value refer to the same object, so-called *interning*. But it is implementation-specific.\n",
    "\n",
    "Practically, it is safe and simple to remeber that only an assignment `x = y` or a function/method call create an alias."
   ]
  },
  {
   "cell_type": "code",
   "execution_count": null,
   "metadata": {},
   "outputs": [],
   "source": [
    "x = 3\n",
    "y = 3\n",
    "x == y # True, of course\n",
    "x is y # True\n",
    "\n",
    "x = 257\n",
    "y = 257\n",
    "x is y # False !!!\n",
    "\n",
    "x = \"abc\"\n",
    "y = \"abc\"\n",
    "x == y # True\n",
    "x is y # True\n",
    "\n",
    "x = [1, 2, 3]\n",
    "y = [1, 2, 3]\n",
    "x == y # True\n",
    "x is y # False !!!\n",
    "\n",
    "z = x\n",
    "z is x # True"
   ]
  },
  {
   "cell_type": "markdown",
   "metadata": {
    "slideshow": {
     "slide_type": "subslide"
    }
   },
   "source": [
    "### 6 Bitwise Operators\n",
    "\n",
    "Python has one unary and several binary bit operators that act on binary data. Their operands only have `0`s or `1`s."
   ]
  },
  {
   "cell_type": "code",
   "execution_count": null,
   "metadata": {},
   "outputs": [],
   "source": [
    "x = 0b01 # binary data, 1\n",
    "y = 0b10 # binary data, 2\n",
    "~x # bitwise NOT or complement. result is -2\n",
    "x & y # bitwise AND, result: 0\n",
    "x | y # bitwise OR, result: 3\n",
    "x ^ y # bitwise XOR, result: 3\n",
    "x << 2 # left-shift, result: 4\n",
    "x >> 2 # right-shift, result: 0\n"
   ]
  },
  {
   "cell_type": "markdown",
   "metadata": {
    "slideshow": {
     "slide_type": "subslide"
    }
   },
   "source": [
    "### 7 Assignment Operator\n",
    "\n",
    "Assignment operator `=` binds a variable in LHS to the *RHS expression*. It creates the variable if it is the first time binding for the variable, otherwsie, it re-binds it to a different object.\n",
    "\n",
    "The `=` assignment operation is *not an expressioin* because it binds a variable to an object, but the operation generates no value, i.e., you cannot use an assignment in a place that requires a value. It is a syntax error to write code like `(x = 3) = 5` or `if (x = 3)`."
   ]
  },
  {
   "cell_type": "markdown",
   "metadata": {
    "slideshow": {
     "slide_type": "subslide"
    }
   },
   "source": [
    "### Augmented Assignment\n",
    "\n",
    "It is common to use a variable in an arithmetic or bitwise operation and assign the result back to the variable. Augmented assignment makes it simple to write those operations. It works for all binary arithmetic or bitwise operators. The LHS variable is used as the first operand of the operator."
   ]
  },
  {
   "cell_type": "code",
   "execution_count": null,
   "metadata": {},
   "outputs": [],
   "source": [
    "x = 5\n",
    "x = x + 3\n",
    "x = x << 2\n",
    "\n",
    "# Augumented assignment\n",
    "x += 3\n",
    "x <<= 2"
   ]
  },
  {
   "cell_type": "markdown",
   "metadata": {
    "slideshow": {
     "slide_type": "subslide"
    }
   },
   "source": [
    "### The Walrus Operator\n",
    "\n",
    "Python 3.8 (released in 2019) brings a walrus `:=` operator that work as an assignment expression. It performs two tasks: assign the RHS expression value to the LHS variable and use the value as its expression value.\n",
    "\n",
    "It combines two tasks into one operation. It makes code simpler in some cases."
   ]
  },
  {
   "cell_type": "code",
   "execution_count": null,
   "metadata": {},
   "outputs": [],
   "source": [
    "# Before Python 3.8\n",
    "name = input(\"Please type your name: \")\n",
    "if name:\n",
    "    print(name)\n",
    "else:\n",
    "    print(\"name is empty\")\n",
    "\n",
    "# Since Python 3.8\n",
    "if (name := input(\"Please type your name: \")):\n",
    "    print(name)\n",
    "else:\n",
    "    print(\"name is empty\")"
   ]
  },
  {
   "cell_type": "markdown",
   "metadata": {
    "slideshow": {
     "slide_type": "subslide"
    }
   },
   "source": [
    "### Operator Precedence\n",
    "\n",
    "Operators have different precedences when they are used together in a single expression. For example, the expression `3 + 5 * 4` evaluates `5 * 4` before add them. Thus the result is `23`, not `32`.\n",
    "\n",
    "The [Python document](https://docs.python.org/3/reference/expressions.html#evaluation-order) gives a list of operator precedences. You don't need to remember it - you even don't need to read it. The best practices are:\n",
    "\n",
    "- break long expression into short expressions with only one or two operators\n",
    "- use parenthesis to make the precedence explicit.\n",
    "\n",
    "Using the best practices, `3 + 5 * 4` should be written as `3 + (5 * 4)`."
   ]
  },
  {
   "cell_type": "markdown",
   "metadata": {
    "slideshow": {
     "slide_type": "slide"
    }
   },
   "source": [
    "## Statement\n",
    "\n",
    "A Python program consists of instructions to be executed by the Python intepreter. Those intructions are called statements.\n",
    "\n",
    "All expressions are excuted by the Python interpreter and generate values. Expressions are statements. But a program needs more than expressions.\n",
    "\n",
    "The assignment `name = expression` is not an expression. It is a statement that bind a vriable with the value on the RHS.\n",
    "\n",
    "There are many other instructions that don't generate a value but are useful to control the program flow or change computer states."
   ]
  },
  {
   "cell_type": "markdown",
   "metadata": {
    "slideshow": {
     "slide_type": "subslide"
    }
   },
   "source": [
    "### Simple Statements and Compound Statements\n",
    "\n",
    "Statements that are short and usally written in one line are *simple statements*.\n",
    "\n",
    "Simple statements include assignment statement `name = expression`, `return expression`, `import module_name`, and more . \n",
    "\n",
    "Statements that span multiple lines are *compound statements*. Compound statements are used to control program flow or create new data types. They are not expressions. They give the \"high level\" abstractions that make Python more flexible and expressive. Conditional statements, loop statements, function defintion are compound statements.\n",
    "\n",
    "More simple and compound statements will be covered later."
   ]
  },
  {
   "cell_type": "markdown",
   "metadata": {
    "slideshow": {
     "slide_type": "subslide"
    }
   },
   "source": [
    "### Why Statements?\n",
    "\n",
    "Typically a Python program consists of single-line simple statements or multiple-line compound statements.\n",
    "\n",
    "All expressions are simple statements. Python has two types of expressions: those generate a value and those don't. All operators, except the assignment operator `=`, act on their operands and create a value. However, those expressions are useless if the result is not used in a statement that stores the value in memory/disk, or sends it over network, or displays it in a terminal.\n",
    "\n",
    "For example, you can write an expression `x + 1` as a valid statement in a Python program. But it is a waste of CPU cycles because its result is discarded. A statement like `y = x + 1` is useful because the result can be used later. Therefore, assignment statement is a simple constructor for this purpose.\n",
    "\n",
    "Similarly, a function call `math.sqrt(x)` is useless by itself. But`print(\"Hi\")` is useful because it displays the string in a console."
   ]
  },
  {
   "cell_type": "markdown",
   "metadata": {},
   "source": []
  },
  {
   "cell_type": "markdown",
   "metadata": {
    "slideshow": {
     "slide_type": "subslide"
    }
   },
   "source": [
    "### Walrus Operator Syntax\n",
    "\n",
    "Walrus operator `:=` is interesting because it highlights the difference between a value-generation expression and a statement: you cannot write it in a single line.\n",
    "\n",
    "For example, it is an `SyntaxError` to write the expression `x := 5` in a line. Because the evaluated value `5` is not used. a single line with `(x := 5)` is valid but is still useless. The following code is valid and print `2.23606797749979`."
   ]
  },
  {
   "cell_type": "code",
   "execution_count": 8,
   "metadata": {},
   "outputs": [
    {
     "name": "stdout",
     "output_type": "stream",
     "text": [
      "2.23606797749979\n"
     ]
    }
   ],
   "source": [
    "import math\n",
    "\n",
    "if (x := math.sqrt(5)) > 2:\n",
    "    print(x)"
   ]
  }
 ],
 "metadata": {
  "kernelspec": {
   "display_name": "Python 3",
   "language": "python",
   "name": "python3"
  },
  "language_info": {
   "codemirror_mode": {
    "name": "ipython",
    "version": 3
   },
   "file_extension": ".py",
   "mimetype": "text/x-python",
   "name": "python",
   "nbconvert_exporter": "python",
   "pygments_lexer": "ipython3",
   "version": "3.11.4"
  },
  "orig_nbformat": 4
 },
 "nbformat": 4,
 "nbformat_minor": 2
}
