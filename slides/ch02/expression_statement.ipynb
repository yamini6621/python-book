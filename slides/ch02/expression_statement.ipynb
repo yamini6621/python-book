{
 "cells": [
  {
   "cell_type": "markdown",
   "metadata": {
    "slideshow": {
     "slide_type": "slide"
    }
   },
   "source": [
    "# Operation, Expression and Statement\n",
    "\n",
    "## Expression\n",
    "\n",
    "## Operator\n",
    "\n",
    "## Statement"
   ]
  },
  {
   "cell_type": "markdown",
   "metadata": {
    "slideshow": {
     "slide_type": "slide"
    }
   },
   "source": [
    "## Expression\n",
    "\n",
    "An expression is a *code construct* that generates a value. Common expressions are\n",
    "\n",
    "- an object or a declared varialbe, such as: `3`, `Hi`, `x`, `[1, 2, 3]`.\n",
    "- a computation using operators and objects, such as `3 + 5`, `x < y < z`.\n",
    "- A function call, such as `len(\"hello\")`, `math.pow(3, 2)`.\n",
    "- Functions defined inside types are called methods. A metho call is an expression. For example: `\"hello\".upper()`, `[1, 2, 3].pop()`."
   ]
  },
  {
   "cell_type": "markdown",
   "metadata": {
    "slideshow": {
     "slide_type": "subslide"
    }
   },
   "source": [
    "\n",
    "### Evaluation\n",
    "\n",
    "They have a common characteristic: the evaluation of the construct generates a *single object*.\n",
    "\n",
    "Evalution refers to the process that Python interpreter generates the final object of an expression.\n",
    "\n",
    "An object may have a single value such as `3` or multiple values like a list or a tuple. \n",
    "\n",
    "An expression may have nested expression. \n",
    "\n",
    "Python evaluates expressions from left to right."
   ]
  },
  {
   "cell_type": "markdown",
   "metadata": {},
   "source": [
    "### Expression Examples\n",
    "\n",
    "- `3` is an literal expression, evaluated to `3`\n",
    "- `3 + 5` is an addition operation expression, evaluted to `8`\n",
    "- `len(\"hello\")` is a function call expression, evaluated to `5`\n",
    "- `math.pow(3, 2)` is an method call expression. evaluated to `9`\n",
    "- `len(\"hello\"), math.pow(3, 2)` is an expression that has two nested evaluation, the final evaluation result is a tuple of `(5, 3)`.\n",
    "\n",
    "There are other code constructs that are expressions. They will be introduced later."
   ]
  },
  {
   "cell_type": "markdown",
   "metadata": {},
   "source": [
    "### Operator\n",
    "\n",
    "An *operator* is a special symbols that perform operations on values and variables.\n",
    "\n",
    "A high-level programming language like Python has many built-in operators that make the language simple and easy to understand. For example, very few programming languages have built-in support for chained comparison like `x < y < z` or matrix operations. Python allows both.\n",
    "\n",
    "The objects that an o"
   ]
  }
 ],
 "metadata": {
  "language_info": {
   "name": "python"
  },
  "orig_nbformat": 4
 },
 "nbformat": 4,
 "nbformat_minor": 2
}
