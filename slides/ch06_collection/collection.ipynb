{
 "cells": [
  {
   "cell_type": "markdown",
   "metadata": {
    "slideshow": {
     "slide_type": "slide"
    }
   },
   "source": [
    "# Collection\n",
    "\n",
    "Python provides some built-in collection types that can contain multiple items.\n",
    "\n",
    "Following are commonly used collection types:\n",
    "\n",
    "- sequence\n",
    "  - `str`: an immutable sequence of characters.\n",
    "  - `list`: a mutable sequence of any objects.\n",
    "  - `tuple`: an immutable sequence of objects.\n",
    "- mapping\n",
    "  - `dict`: a mutable mapping of key and value pairs.\n",
    "- set\n",
    "  - `set`: a mutable unordered collection of unique objects."
   ]
  },
  {
   "cell_type": "markdown",
   "metadata": {
    "slideshow": {
     "slide_type": "slide"
    }
   },
   "source": [
    "# String\n",
    "\n",
    "A string is a sequence of characters.\n",
    "\n",
    "A string is an immutable object. \n",
    "\n",
    "A programmer creates a string literal by surrounding text with single or double quotes, such as `'MARY'`, `\"MARY\"`, `'41'`, or `\"41\"`.\n",
    "\n",
    "An empty string is a sequence type with 0 elements, created with two quotes. Ex: `my_str = ''`.\n",
    "\n",
    "Python use backslash `\\` to escape special characters. For example: `\"\\n\"` represents a newline character. It is also used to escape a slash or quotation symbols. For example: `\"a slash \\\\ and an escaped \\\" double quotation mark.`"
   ]
  },
  {
   "cell_type": "markdown",
   "metadata": {
    "slideshow": {
     "slide_type": "subslide"
    }
   },
   "source": [
    "## Built-in String Operations\n",
    "\n",
    "A programmer can access a character at a specific index using `alphabet[index]`. `index` starts from `0` and ends with `len(alphabet) - 1`.\n",
    "\n",
    "The `len()` built-in function can be used to find the length of a string (and any other sequence type).\n",
    "\n",
    "Use `+` to concatenate two strings.\n",
    "\n",
    "Use `in` to determine if a character or a substring exists in a string. It returns `True` or `False`\n",
    "\n",
    "Use `for` loop to iterate every character."
   ]
  },
  {
   "cell_type": "code",
   "execution_count": null,
   "metadata": {},
   "outputs": [],
   "source": [
    "text = \"Hello World\"\n",
    "\n",
    "print(len(text))  # 11\n",
    "\n",
    "print (text + \" to every one.\") # Hello World to every one.\n",
    "\n",
    "print(\"H\" in text, \"hi\" in text) # True False\n",
    "\n",
    "for char in text:\n",
    "    print(char, end=\" \")    \n",
    "# H e l l o   W o r l d "
   ]
  },
  {
   "cell_type": "markdown",
   "metadata": {
    "slideshow": {
     "slide_type": "subslide"
    }
   },
   "source": [
    "## Slicing\n",
    "\n",
    "Python has a special slicing syntax `sequence[start:stop:step]` to get a subset of a sequence.\n",
    "\n",
    "- `start`: optional, starting index of the slice.\n",
    "- `stop`: the last index (exclusive) of the slide or the number of items to get. It is optional with a default to `len(sequence)` if the `start` argument is specified.\n",
    "- `step`: optional, the step value with a default of `1`.\n",
    "\n",
    "You can slice a string to get another string. \n",
    "\n",
    "You can also use slicing syntax in other sequence types that works similarly."
   ]
  },
  {
   "cell_type": "code",
   "execution_count": null,
   "metadata": {
    "slideshow": {
     "slide_type": "subslide"
    }
   },
   "outputs": [],
   "source": [
    "text = \"hello world\"\n",
    "\n",
    "print(text[2]) # regular index: \"l\"\n",
    "print(text[2:]) # from index 2 to end: \"llo world\"\n",
    "print(text[0:3]) # first three: \"hel\"\n",
    "print(text[::4]) # every fourth character: \"hor\"\n",
    "print(text[3::2]) # from index 3, every other characters: \"l ol\""
   ]
  },
  {
   "cell_type": "markdown",
   "metadata": {
    "slideshow": {
     "slide_type": "subslide"
    }
   },
   "source": [
    "## Common String Methods\n",
    "\n",
    "Because string is an immutable object, any method that changes the string content will create a new string."
   ]
  },
  {
   "cell_type": "code",
   "execution_count": 18,
   "metadata": {
    "slideshow": {
     "slide_type": "subslide"
    }
   },
   "outputs": [
    {
     "name": "stdout",
     "output_type": "stream",
     "text": [
      "4\n",
      "-1\n",
      "hi\n",
      "HELLO WORLD\n",
      "Hello World\n",
      "['hello', 'world']\n",
      "['he', 'o world']\n",
      "Ha\n",
      "hello alice\n",
      "alice, bob, cindy\n"
     ]
    }
   ],
   "source": [
    "hi = \"Hi\"\n",
    "text = \"hello world\"\n",
    "\n",
    "# find the index of the first occurrence of a substring, -1 if not found\n",
    "print(text.find('o')) # 4\n",
    "print(text.find(\"alice\")) # -1\n",
    "\n",
    "# Lower case, upper case and title case\n",
    "print(hi.lower()) # hi\n",
    "print(text.upper()) # HELLO WORLD\n",
    "print(text.title()) # Hello World\n",
    "\n",
    "# split a string into a list by the specified separator string\n",
    "# default is white space\n",
    "print(text.split()) # [\"hello\", \"world\"]\n",
    "print(text.split(\"ll\"))  # [\"he\", \"o world\"]\n",
    "\n",
    "# replace a substr with another substr\n",
    "print(hi.replace('i', 'a')) # Ha\n",
    "print(text.replace(\"world\", \"alice\")) # hello alice\n",
    "\n",
    "# join a list of strings together with the desired separator string\n",
    "print(\", \".join([\"alice\", \"bob\", \"cindy\"])) # alice, bob, cindy"
   ]
  },
  {
   "cell_type": "markdown",
   "metadata": {},
   "source": [
    "\n",
    "\n",
    "\n",
    "## 3.2 List Basics\n",
    "\n",
    "A **list** is a sequential container (similar to a string) that composites values.\n",
    "\n",
    "- Use `my_list = ['foo', 'bar' ]` to create a list of two elements.\n",
    "- Use `my_list[index]` to access a single element at the `index`, starting from `0`.\n",
    "- A list is **mutable**:\n",
    "  - `my_list[1] = 'b'`.\n",
    "  - `append`, `pop`, `remove`\n",
    "- Functions working with a list: `len`, `+`, `min` etc.\n",
    "- List methods: `index(val)`, `count(val)`\n",
    "\n",
    "## 3.3 Tuple Basics\n",
    "\n",
    "- Tuple is an unnamed immutable composite value: `(1, 3, 5)`\n",
    "- Import `namedtuple` to use a named tuple allows the programmer to define a new simple data type that consists of named attributes.\n",
    "\n",
    "There are functions and methods working with a tuple.\n",
    "\n",
    "## 3.4 Set Basics\n",
    "\n",
    "A set is an unordered collection of unique elements. Sets have the following properties:\n",
    "\n",
    "- Elements are **unordered**: Elements in the set do not have a position or index.\n",
    "- Elements are **unique**: No elements in the set share the same value.\n",
    "\n",
    "There are functions and methods working with a set. Using `in` operator to check memebership is probably the most used operation in set.\n",
    "\n",
    "## 3.5 Dictionary Basics\n",
    "\n",
    "A dictionary is a Python container used to describe associative relationships. A dictionary associates (or \"maps\") **keys** with **values**.\n",
    "\n",
    "Two important observations:\n",
    "\n",
    "- List is a special type of dictionary, can you see the link?\n",
    "- It can be the base of OO programming.\n",
    "\n",
    "There are functions (**CRUD**) and methods working with a tuple."
   ]
  },
  {
   "cell_type": "markdown",
   "metadata": {},
   "source": [
    "# List\n",
    "\n",
    "This section introduces the list data type and basic list operations."
   ]
  },
  {
   "cell_type": "markdown",
   "metadata": {},
   "source": [
    "## 1 Introduction to Lists\n",
    "\n",
    "A `list` is an object that contains multiple data items, one after another. Therefore a list is also a sequence. The item in an list is called an `element`. \n",
    "\n",
    "There are two common ways to create a list. First, you can create a list literally by listing elements in brackets and separating by commas. For example:"
   ]
  },
  {
   "cell_type": "code",
   "execution_count": null,
   "metadata": {},
   "outputs": [],
   "source": [
    "# a list of numbers\n",
    "some_numbers = [3, 5 ,7]\n",
    "\n",
    "# a list of strings\n",
    "names = ['Alice', 'Bob', 'Cindy']\n",
    "\n",
    "# elements can be of different types\n",
    "some_data = [3, 'Alice', 12.5] "
   ]
  },
  {
   "cell_type": "markdown",
   "metadata": {},
   "source": [
    "Second, Python has a built-in `list()` function that can convert certain types of objects to lists. For example, you can convert a range object to a list as the following:"
   ]
  },
  {
   "cell_type": "code",
   "execution_count": null,
   "metadata": {},
   "outputs": [],
   "source": [
    "generated_numbers = list(range(3, 8, 2))\n",
    "letters = list('abc')\n",
    "\n",
    "# print can print a list directly\n",
    "print(generated_numbers)\n",
    "print(letters)"
   ]
  },
  {
   "cell_type": "markdown",
   "metadata": {},
   "source": [
    "## 2 Accesing List Elements\n",
    "\n",
    "A list has a sequence of elements. A basic requirement is to access one element, all elements or some elements."
   ]
  },
  {
   "cell_type": "markdown",
   "metadata": {},
   "source": [
    "### 2.1 Indexing\n",
    "\n",
    "To access a single element of a list, use an `index`. Each element in a list has an index associated with it, starting from `0`. The first element has an index of `0`, the second element has an index of `1`, and so on and so forth. The last element has an index of the list length minus `1`.\n",
    "\n",
    "The synatx is to put an index in a pair of brackets, right after the list variable name."
   ]
  },
  {
   "cell_type": "code",
   "execution_count": null,
   "metadata": {},
   "outputs": [],
   "source": [
    "numbers = [3, 5 ,7]\n",
    "\n",
    "print(numbers[0], numbers[1], numbers[2])"
   ]
  },
  {
   "cell_type": "markdown",
   "metadata": {},
   "source": [
    "Python supports negative index. `-1` identifies the last elment in a list, `-2` identifies the next to last element, and so on an so forth. The following statement print the elements in the reverse order."
   ]
  },
  {
   "cell_type": "code",
   "execution_count": null,
   "metadata": {},
   "outputs": [],
   "source": [
    "numbers = [3, 5 ,7]\n",
    "\n",
    "print(numbers[-1], numbers[-2], numbers[-3])"
   ]
  },
  {
   "cell_type": "markdown",
   "metadata": {},
   "source": [
    "A common error in Python is the `IndexError`: it happens when the index is out of the boundary of a list. The valid index of `[3, 5 7]` is the range from `-3` to `2`. Outside this range, the code crashes with an error: `IndexError: list index out of range`."
   ]
  },
  {
   "cell_type": "code",
   "execution_count": null,
   "metadata": {},
   "outputs": [],
   "source": [
    "numbers = [3, 5 ,7]\n",
    "\n",
    "print(numbers[5])"
   ]
  },
  {
   "cell_type": "markdown",
   "metadata": {},
   "source": []
  },
  {
   "cell_type": "markdown",
   "metadata": {},
   "source": [
    "### 2.2 Accessing All Element\n",
    "\n",
    "You can use index to access all elements in a loop, one at a time. Python has a built-in function `len` to get the lenght of a lsit. Therefore, you can iterate over a list as the following:"
   ]
  },
  {
   "cell_type": "code",
   "execution_count": null,
   "metadata": {},
   "outputs": [],
   "source": [
    "numbers = [3, 5, 7]\n",
    "length = len(numbers)\n",
    "for index in range(length):\n",
    "    print(f'Index: {index}, Value: {numbers[index]}')"
   ]
  },
  {
   "cell_type": "markdown",
   "metadata": {},
   "source": [
    "The above method is often used when you need to use the index. For example, you want to show the order of a sorted list. If you don't need the index, Python provides an easier method to iterate over a list using a `for` loop:"
   ]
  },
  {
   "cell_type": "code",
   "execution_count": null,
   "metadata": {},
   "outputs": [],
   "source": [
    "numbers = list(range(3, 8, 2))\n",
    "for number in numbers:\n",
    "    doubled = number * 2\n",
    "    print(f'Double elment {number} is {doubled}')"
   ]
  },
  {
   "cell_type": "markdown",
   "metadata": {},
   "source": [
    "The `for` loop is preferred when you don't need the index because it is simpler than looping with index. It is also less error-prone because you don't need to check the index boundaries."
   ]
  },
  {
   "cell_type": "markdown",
   "metadata": {},
   "source": [
    "### 2.3 Slicing a List\n",
    "\n",
    "A `slice` is a span of items taken from a list. It is used to select some elements from a list. To slice a list, you use the `list_name[start : end]` to specify the start index and end index of a list. Like the `range` syntax, it doesn't include the `end` index. Following are some examples:"
   ]
  },
  {
   "cell_type": "code",
   "execution_count": null,
   "metadata": {},
   "outputs": [],
   "source": [
    "days = ['Mon', 'Tue', 'Wed', 'Thu', 'Fri', 'Sat', 'Sun']\n",
    "\n",
    "# index from 0 to 5, excluding 5\n",
    "weekday = days[0:5] \n",
    "print(f'Weekdays are: {weekday}')\n",
    "\n",
    "# default start is 0\n",
    "weekday2 = days[:5] \n",
    "print(f'Weekdays version 2 are: {weekday}')\n",
    "\n",
    "weekends = days[5:7]\n",
    "print(f'Weekends are {weekends}')\n",
    "\n",
    "# default end is the length\n",
    "weekends2 = days[5:] \n",
    "print(f'Weekends versioin 2 are {weekends}')"
   ]
  },
  {
   "cell_type": "markdown",
   "metadata": {},
   "source": [
    "## 3 List Operations\n",
    "\n",
    "There are three types of operations to manipulate a list.\n",
    "\n",
    "- operators: Python language provides operators such as `in`, `not in`, `+`, `*`, and `del` that work with a list.\n",
    "- built-in functions: Python provides some built-in functions that take list(s) as argument(s). For example: `len`, `min`, `max` etc.\n",
    "- list methods: you use `list_name.method_name()` to perform operations. "
   ]
  },
  {
   "cell_type": "markdown",
   "metadata": {},
   "source": [
    "### 3.1 Python Operators\n",
    "\n",
    "- `in`: check if an item is a list element.\n",
    "- `not in`: check if an item is not a list element.\n",
    "- `+`: combine two lists\n",
    "- `*`: repete a list for a number of times\n",
    "- `del`: delete an element from a list\n"
   ]
  },
  {
   "cell_type": "code",
   "execution_count": null,
   "metadata": {},
   "outputs": [],
   "source": [
    "days = ['Mon', 'Tue', 'Wed', 'Thu', 'Fri', 'Sat', 'Sun']\n",
    "weekday = days[:5] \n",
    "\n",
    "today = 'Thu'\n",
    "is_weekday = today in weekday\n",
    "print(f'Today is {today}. Is weekday: {is_weekday}')\n",
    "\n",
    "is_weekend = today not in weekday\n",
    "print(f'Today is {today}. Is weekend: {is_weekend}')\n",
    "\n"
   ]
  },
  {
   "cell_type": "markdown",
   "metadata": {},
   "source": [
    "To combine two or more lists, using `+` to create a concatenated list. To repeat a list for a number of time to create a new list, use `*`."
   ]
  },
  {
   "cell_type": "code",
   "execution_count": null,
   "metadata": {},
   "outputs": [],
   "source": [
    "tens = [10, 20, 30]\n",
    "handreds = [500, 600, 700]\n",
    "tens_and_handreds = tens + handreds\n",
    "print(tens_and_handreds)\n",
    "\n",
    "repeated_tens = tens * 3\n",
    "print(repeated_tens)"
   ]
  },
  {
   "cell_type": "markdown",
   "metadata": {},
   "source": [
    "The `del` operator delete a list elment at the specified index. \n"
   ]
  },
  {
   "cell_type": "code",
   "execution_count": null,
   "metadata": {},
   "outputs": [],
   "source": [
    "numbers = [3, 5, 7]\n",
    "del numbers[1]\n",
    "print(f'Deleting elemnt at index 1, numbers are: {numbers}')"
   ]
  },
  {
   "cell_type": "markdown",
   "metadata": {},
   "source": [
    "### 3.2 Built-in Functions\n",
    "\n",
    "Soem commonly used built-in functions are\n",
    "\n",
    "- 'len': get the length of a list\n",
    "- 'min': get the minimum element of a list\n",
    "- 'max': get the maximum element of a list\n",
    "- 'sum': get the sum of number elements of a list"
   ]
  },
  {
   "cell_type": "code",
   "execution_count": null,
   "metadata": {},
   "outputs": [],
   "source": [
    "numbers = [3, 5, 7]\n",
    "length = len(numbers)\n",
    "smallest = min(numbers)\n",
    "biggest = max(numbers)\n",
    "total = sum(numbers)\n",
    "print(f'Length: {length}, Min: {smallest}, Max: {biggest}, Sum: {total}')"
   ]
  },
  {
   "cell_type": "markdown",
   "metadata": {},
   "source": [
    "You can find more functions such as `mean`, `median` etc in the Python [`statistics` module](https://docs.python.org/3/library/statistics.html)."
   ]
  },
  {
   "cell_type": "markdown",
   "metadata": {},
   "source": [
    "### 3.3 List Methods\n",
    "\n",
    "Lists have numerous methods that you can use to manipulate a list. You use `list_name.method_name()` to call a method that work on a list. Some commonly used methods are:\n",
    "\n",
    "- `append(element)`: add an  to the end of the list.\n",
    "- `index(element)`: find the first index of an element, raise a `ValueError` if the item is not found. To avoid exception, use `elment in list_name` to check the existence first.\n",
    "- `insert(index, element)`: insert an item at the specified index.\n",
    "- `sort()`: sort the items in the list.\n",
    "\n",
    "You can find more list methods in [Python List Document](https://docs.python.org/3/tutorial/datastructures.html). Following are some code samples of the above methods. Most methods make **in-place modification** of a list. It is important to differentiate an in-place modification and an operation that returns a new list. Both `+` and slicing return a new list."
   ]
  },
  {
   "cell_type": "code",
   "execution_count": null,
   "metadata": {},
   "outputs": [],
   "source": [
    "numbers = [3, 5, 7]\n",
    "n2 = numbers\n",
    "n3 = numbers[:2]\n",
    "numbers.append(42) \n",
    "print(numbers) # [3, 5, 7, 42]\n",
    "\n",
    "if (5 in numbers):\n",
    "    print(numbers.index(5)) # 1\n",
    "\n",
    "\n",
    "numbers.insert(1, 50)\n",
    "print(numbers) # [3, 50, 5, 7, 42]\n",
    "\n",
    "numbers.sort()\n",
    "print(numbers) # [3, 5, 7, 42, 50]\n",
    "print(n2)\n",
    "print(n3)"
   ]
  },
  {
   "cell_type": "markdown",
   "metadata": {},
   "source": [
    "# 4 Loop Through a List and List Comprehension\n",
    "\n",
    "You can loop through a list items by using `for` loop. `for x in [1, 2, 3]`. \n",
    "\n",
    "You can also loop through the index numbers: `for x in range(len(my_list))`.\n",
    "\n",
    "If you need both the index and the item of a loop, use `for index, item in enumerate(my_list)`. \n",
    "\n",
    "List comprehension is an expression that generates a new list from an input list or a collection. A list comprehensioin can have three parts:\n",
    "\n",
    "- an iteration expression: this is a standard for loop like `for item in input_list`.\n",
    "- an expression for the return data. For example: `item * 2` that returns doubled value.\n",
    "- an optional `if` clasues that filter items based on a boolean expression. For example: `if item < 10`.\n",
    "\n",
    "Together, the syntax is `[result_expression itertion_expression if_clause]`.  For example, the following code generates a list that has double values of all even nubmers.\n"
   ]
  },
  {
   "cell_type": "code",
   "execution_count": null,
   "metadata": {},
   "outputs": [],
   "source": [
    "input_list = [1, 2, 3, 4, 5, 6, 7]\n",
    "for n in input_list:\n",
    "    print(n)\n",
    "\n",
    "for index in range(len(input_list)):\n",
    "    print(index)\n",
    "\n",
    "\n",
    "for index, item in enumerate(input_list):\n",
    "    print(index, item)\n",
    "\n",
    "new_list = [item * 2 for item in input_list if item % 2 == 0]\n",
    "print(new_list)\n"
   ]
  },
  {
   "cell_type": "markdown",
   "metadata": {},
   "source": [
    "Exercise: please use `while` loop to iterate the above list.\n",
    "\n",
    "The iteration expression can use a range or tuple data."
   ]
  },
  {
   "cell_type": "code",
   "execution_count": null,
   "metadata": {},
   "outputs": [],
   "source": [
    "new_list2 = [item * 2 for item in range(10, 20) if item % 2 == 0]\n",
    "print(new_list2)"
   ]
  },
  {
   "cell_type": "markdown",
   "metadata": {},
   "source": [
    "# 5 Nested List\n",
    "\n",
    "A list can have other lists as its elements. There is nothing special for nested lists, you just use the index to access each element in a list. For example"
   ]
  },
  {
   "cell_type": "code",
   "execution_count": null,
   "metadata": {},
   "outputs": [],
   "source": [
    "numbers = [1, [2, 3], [4, 5, 6]]\n",
    "numbers[1].append(42)\n",
    "del numbers[2][2]\n",
    "print(numbers)"
   ]
  },
  {
   "cell_type": "markdown",
   "metadata": {},
   "source": [
    "# 6 Using List as a Stack\n",
    "\n",
    "A stack is a data structure that stores elements in an last in, first out (LIFO) manner. For example, Python runtime uses stack to manage calls -- named as a **call stack**. A stack supports two basic methods: \n",
    "\n",
    "- `push/append` that adds an element to the top of a stack.\n",
    "- `pop` that pops an element from the top of a stack.\n",
    "\n",
    "When using a list to implement a stack, the **top** is the end of a list. You can `append` (also called push in stack) an element and `pop` an element. Both operate at the end of a list."
   ]
  },
  {
   "cell_type": "code",
   "execution_count": null,
   "metadata": {},
   "outputs": [],
   "source": [
    "numbers = [1, 2, 3]\n",
    "numbers.append(37)\n",
    "numbers.append(42)\n",
    "top = numbers.pop()\n",
    "print(top)"
   ]
  }
 ],
 "metadata": {
  "kernelspec": {
   "display_name": "Python 3.10.6 64-bit",
   "language": "python",
   "name": "python3"
  },
  "language_info": {
   "codemirror_mode": {
    "name": "ipython",
    "version": 3
   },
   "file_extension": ".py",
   "mimetype": "text/x-python",
   "name": "python",
   "nbconvert_exporter": "python",
   "pygments_lexer": "ipython3",
   "version": "3.11.4"
  },
  "metadata": {
   "interpreter": {
    "hash": "aee8b7b246df8f9039afb4144a1f6fd8d2ca17a180786b69acc140d282b71a49"
   }
  },
  "orig_nbformat": 2,
  "vscode": {
   "interpreter": {
    "hash": "949777d72b0d2535278d3dc13498b2535136f6dfe0678499012e853ee9abcab1"
   }
  }
 },
 "nbformat": 4,
 "nbformat_minor": 2
}
