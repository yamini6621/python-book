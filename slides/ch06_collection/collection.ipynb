{
 "cells": [
  {
   "cell_type": "markdown",
   "metadata": {
    "slideshow": {
     "slide_type": "slide"
    }
   },
   "source": [
    "# Collection\n",
    "\n",
    "People often need to deal with a collection of objects in a consistent way.\n",
    "\n",
    "Python provides three types of language constructs to support collection operation:\n",
    "\n",
    "- built-in collection types that can contain multiple elements\n",
    "- sequential access APIs (iteration) for collection elements\n",
    "- creating new collections from existing ones"
   ]
  },
  {
   "cell_type": "markdown",
   "metadata": {
    "slideshow": {
     "slide_type": "subslide"
    }
   },
   "source": [
    "## Data Types\n",
    "- sequence\n",
    "  - `str`: an immutable sequence of characters.\n",
    "  - `list`: a mutable sequence of any objects.\n",
    "  - `tuple`: an immutable sequence of objects.\n",
    "- mapping\n",
    "  - `dict`: a mutable mapping of key and value pairs.\n",
    "- set\n",
    "  - `set`: a mutable unordered collection of unique objects."
   ]
  },
  {
   "cell_type": "markdown",
   "metadata": {
    "slideshow": {
     "slide_type": "subslide"
    }
   },
   "source": [
    "## Iteration\n",
    "\n",
    "Python uses the concepts of _iterator_ and _iterable_ to sequentially access collection elements.\n",
    "\n",
    "Understanding these concepts is important to use collections."
   ]
  },
  {
   "cell_type": "markdown",
   "metadata": {
    "slideshow": {
     "slide_type": "subslide"
    }
   },
   "source": [
    "## Creating New Collections From Existing Ones\n",
    "\n",
    "Python provides two convenient constructs to create new collections:\n",
    "\n",
    "- List comprehension\n",
    "- Generator expression\n",
    "\n",
    "Many times, these constructs make your program simple and efficient."
   ]
  },
  {
   "cell_type": "markdown",
   "metadata": {
    "slideshow": {
     "slide_type": "slide"
    }
   },
   "source": [
    "# 1 String\n",
    "\n",
    "A string is a sequence of characters.\n",
    "\n",
    "A string is an immutable object. \n",
    "\n",
    "A programmer creates a string literal by surrounding text with single or double quotes, such as `'MARY'`, `\"MARY\"`, `'41'`, or `\"41\"`.\n",
    "\n",
    "An empty string is a sequence type with 0 elements, created with two quotes. Ex: `my_str = ''`.\n",
    "\n",
    "Python use backslash `\\` to escape special characters. For example: `\"\\n\"` represents a newline character. It is also used to escape a slash or quotation symbols. For example: `\"a slash \\\\ and an escaped \\\" double quotation mark.`"
   ]
  },
  {
   "cell_type": "markdown",
   "metadata": {
    "slideshow": {
     "slide_type": "subslide"
    }
   },
   "source": [
    "## 1.1 Built-in String Operations\n",
    "\n",
    "A programmer can access a character at a specific index using `alphabet[index]`. `index` starts from `0` and ends with `len(alphabet) - 1`.\n",
    "\n",
    "The `len()` built-in function can be used to find the length of a string (and any other sequence type).\n",
    "\n",
    "Use `+` to concatenate two strings.\n",
    "\n",
    "Use `in` to determine if a character or a substring exists in a string. It returns `True` or `False`\n",
    "\n",
    "Use `for` loop to iterate every character."
   ]
  },
  {
   "cell_type": "code",
   "execution_count": null,
   "metadata": {
    "slideshow": {
     "slide_type": "subslide"
    }
   },
   "outputs": [],
   "source": [
    "text = \"Hello World\"\n",
    "\n",
    "print(len(text))  # 11\n",
    "\n",
    "print (text + \" to every one.\") # Hello World to every one.\n",
    "\n",
    "print(\"H\" in text, \"hi\" in text) # True False\n",
    "\n",
    "for char in text:\n",
    "    print(char, end=\" \")    \n",
    "# H e l l o   W o r l d "
   ]
  },
  {
   "cell_type": "markdown",
   "metadata": {
    "slideshow": {
     "slide_type": "subslide"
    }
   },
   "source": [
    "## 1.2 Slicing\n",
    "\n",
    "Python has a special slicing syntax `sequence[start:stop:step]` to get a subset of a sequence.\n",
    "\n",
    "- `start`: optional, starting index of the slice.\n",
    "- `stop`: the last index (exclusive) of the slide or the number of items to get. It is optional with a default to `len(sequence)` if the `start` argument is specified.\n",
    "- `step`: optional, the step value with a default of `1`.\n",
    "\n",
    "You can slice a string to get another string. \n",
    "\n",
    "You can also use slicing syntax in other sequence types that works similarly."
   ]
  },
  {
   "cell_type": "code",
   "execution_count": null,
   "metadata": {
    "slideshow": {
     "slide_type": "subslide"
    }
   },
   "outputs": [],
   "source": [
    "text = \"hello world\"\n",
    "\n",
    "print(text[2]) # regular index: \"l\"\n",
    "print(text[2:]) # from index 2 to end: \"llo world\"\n",
    "print(text[0:3]) # first three: \"hel\"\n",
    "print(text[::4]) # every fourth character: \"hor\"\n",
    "print(text[3::2]) # from index 3, every other characters: \"l ol\""
   ]
  },
  {
   "cell_type": "markdown",
   "metadata": {
    "slideshow": {
     "slide_type": "subslide"
    }
   },
   "source": [
    "## 1.3 Common String Methods\n",
    "\n",
    "Because string is an immutable object, any method that changes the string content will create a new string.\n",
    "\n",
    "Following are some examples:"
   ]
  },
  {
   "cell_type": "code",
   "execution_count": null,
   "metadata": {
    "slideshow": {
     "slide_type": "subslide"
    }
   },
   "outputs": [],
   "source": [
    "hi = \"Hi\"\n",
    "text = \"hello world\"\n",
    "\n",
    "# find the index of the first occurrence of a substring, -1 if not found\n",
    "print(text.find('o')) # 4\n",
    "print(text.find(\"alice\")) # -1\n",
    "\n",
    "# Lower case, upper case and title case\n",
    "print(hi.lower()) # hi\n",
    "print(text.upper()) # HELLO WORLD\n",
    "print(text.title()) # Hello World\n",
    "\n",
    "# split a string into a list by the specified separator string\n",
    "# default is white space\n",
    "print(text.split()) # [\"hello\", \"world\"]\n",
    "print(text.split(\"ll\"))  # [\"he\", \"o world\"]\n",
    "\n",
    "# replace a substr with another substr\n",
    "print(hi.replace('i', 'a')) # Ha\n",
    "print(text.replace(\"world\", \"alice\")) # hello alice\n",
    "\n",
    "# join a list of strings together with the desired separator string\n",
    "print(\", \".join([\"alice\", \"bob\", \"cindy\"])) # alice, bob, cindy"
   ]
  },
  {
   "cell_type": "markdown",
   "metadata": {
    "slideshow": {
     "slide_type": "slide"
    }
   },
   "source": [
    "# 2 List\n",
    "\n",
    "A _list_ is a sequential container (similar to a string) object that contains a number of elements. The objects in an list are called _elements_ or _items_ of the list. \n",
    "\n",
    "It is a mutable object whose value is changed in place.\n",
    "\n",
    "List elements can be in different types, but it is a best practice to put same-type elements into a list."
   ]
  },
  {
   "cell_type": "markdown",
   "metadata": {
    "slideshow": {
     "slide_type": "subslide"
    }
   },
   "source": [
    "## 2.1 Creating A List\n",
    "\n",
    "There are two common ways to create a list. \n",
    "\n",
    "First, you can create a list literally by listing elements in brackets and separating by commas.\n",
    "\n",
    "Second, Python has a built-in `list()` function that can convert certain types of objects to lists."
   ]
  },
  {
   "cell_type": "code",
   "execution_count": null,
   "metadata": {},
   "outputs": [],
   "source": [
    "# create a list from literals\n",
    "some_numbers = [3, 5 ,7]\n",
    "names = ['Alice', 'Bob', 'Cindy']\n",
    "# elements can be of different types - not recommended\n",
    "some_data = [3, 'Alice', 12.5] \n",
    "\n",
    "# use list() function\n",
    "generated_numbers = list(range(3, 8, 2))\n",
    "letters = list('abc')\n",
    "\n",
    "# print can print a list directly\n",
    "print(generated_numbers)\n",
    "print(letters)"
   ]
  },
  {
   "cell_type": "markdown",
   "metadata": {
    "slideshow": {
     "slide_type": "subslide"
    }
   },
   "source": [
    "## 2.2 Basic Operations\n",
    "\n",
    "A list has a sequence of elements. A basic requirement is to access one element, all elements or some elements.\n",
    "\n",
    "- one element: index\n",
    "- all elements: loop\n",
    "- some elements: slice"
   ]
  },
  {
   "cell_type": "markdown",
   "metadata": {
    "slideshow": {
     "slide_type": "subslide"
    }
   },
   "source": [
    "### 2.2.1 Index\n",
    "\n",
    "Each element in a list has an index associated with it, starting from `0`.\n",
    "\n",
    "The first element has an index of `0`, the second element has an index of `1`, and so on and so forth. \n",
    "\n",
    "If the index is out of range, Python raises an `IndexError` exception.\n",
    "\n",
    "The last element has an index of the list length minus `1`.\n",
    "\n",
    "You can use negative index numbers to access elements from the end of the list. For example, `-1` identifies the last element in a list, `-2` identifies the next to last element, and so on an so forth.\n",
    "\n",
    "The index syntax is to put an index in a pair of brackets, right after the list variable name."
   ]
  },
  {
   "cell_type": "code",
   "execution_count": null,
   "metadata": {},
   "outputs": [],
   "source": [
    "numbers = [3, 5 ,7]\n",
    "\n",
    "print(numbers[0], numbers[1], numbers[2])\n",
    "\n",
    "print(numbers[-1], numbers[-2], numbers[-3])\n",
    "\n",
    "# oops, IndexError if the index is out of range\n",
    "print(numbers[5])"
   ]
  },
  {
   "cell_type": "markdown",
   "metadata": {
    "slideshow": {
     "slide_type": "subslide"
    }
   },
   "source": [
    "### 2.2.2 Accessing All Elements\n",
    "\n",
    "You can loop (iterate) over a list to access all its elements.\n",
    "\n",
    "Both `for` and `while` loops can be used, but the Pythonic way is using `for` because it is less error-prone and simpler than `while` loop.\n",
    "\n",
    "When you need the element index, the Pythonic way is to use built-in `enumerate()` functions."
   ]
  },
  {
   "cell_type": "code",
   "execution_count": null,
   "metadata": {
    "slideshow": {
     "slide_type": "subslide"
    }
   },
   "outputs": [],
   "source": [
    "numbers = list(range(3, 8, 2))\n",
    "\n",
    "# use for\n",
    "for number in numbers:\n",
    "    doubled = number * 2\n",
    "    print(f'Double element {number} is {doubled}')\n",
    "\n",
    "# use enumerator if you need the index\n",
    "for index, number in enumerate(numbers):\n",
    "    print(f'Index: {index}, Value: {number}')\n",
    "\n",
    "# Not recommended\n",
    "length = len(numbers)\n",
    "for index in range(length):\n",
    "    print(f'Index: {index}, Value: {numbers[index]}')\n",
    "\n",
    "# Not recommended\n",
    "index = 0\n",
    "while index < len(numbers):\n",
    "    print(f'Index: {index}, Value: {numbers[index]}')\n",
    "    index += 1\n",
    "\n"
   ]
  },
  {
   "cell_type": "markdown",
   "metadata": {
    "slideshow": {
     "slide_type": "subslide"
    }
   },
   "source": [
    "### 2.2.3 Slicing a List\n",
    "\n",
    "A `slice` is a span of items taken from a list. It is used to select some elements from a list. To slice a list, you use the `list_name[start : end : step]` to specify the start index and end index of a list. Like the `range` syntax, it doesn't include the `end` index. Following are some examples:"
   ]
  },
  {
   "cell_type": "code",
   "execution_count": null,
   "metadata": {
    "slideshow": {
     "slide_type": "subslide"
    }
   },
   "outputs": [],
   "source": [
    "days = ['Mon', 'Tue', 'Wed', 'Thu', 'Fri', 'Sat', 'Sun']\n",
    "\n",
    "# index from 0 to 5, excluding 5\n",
    "weekday = days[0:5] \n",
    "print(f'Weekdays are: {weekday}')\n",
    "\n",
    "# default start is 0\n",
    "weekday2 = days[:5] \n",
    "print(f'Weekdays version 2 are: {weekday}')\n",
    "\n",
    "weekends = days[5:7]\n",
    "print(f'Weekends are {weekends}')\n",
    "\n",
    "# default end is the length\n",
    "weekends2 = days[5:] \n",
    "print(f'Weekends version 2 are {weekends}')\n",
    "\n",
    "odd_days = days[::2] \n",
    "print(f'Odd days are {odd_days}')"
   ]
  },
  {
   "cell_type": "markdown",
   "metadata": {
    "slideshow": {
     "slide_type": "subslide"
    }
   },
   "source": [
    "## 2.3 List and Built-in \n",
    "\n",
    "Python has several built-in operators and functions working with a list.\n",
    "\n",
    "- Operators\n",
    "  - `in`: check if an item is a list element.\n",
    "  - `not in`: check if an item is not a list element.\n",
    "  - `+`: combine two lists\n",
    "  - `*`: repeat a list for a number of times\n",
    "  - `del`: delete an element from a list\n",
    "- Functions\n",
    "  - `len`: get the length of a list\n",
    "  - `min`: get the minimum element of a list\n",
    "  - `max`: get the maximum element of a list\n",
    "  - `sum`: get the sum of number elements of a list"
   ]
  },
  {
   "cell_type": "code",
   "execution_count": null,
   "metadata": {},
   "outputs": [],
   "source": [
    "days = ['Mon', 'Tue', 'Wed', 'Thu', 'Fri', 'Sat', 'Sun']\n",
    "weekday = days[:5] \n",
    "today = 'Thu'\n",
    "\n",
    "is_weekday = today in weekday\n",
    "print(f'Today is {today}. Is weekday: {is_weekday}')\n",
    "is_weekend = today not in weekday\n",
    "print(f'Today is {today}. Is weekend: {is_weekend}')\n",
    "\n",
    "tens = [10, 20, 30]\n",
    "hundreds = [500, 600, 700]\n",
    "all = tens + hundreds\n",
    "print(all)\n",
    "\n",
    "repeated_tens = tens * 3\n",
    "print(repeated_tens)\n",
    "\n",
    "numbers = [3, 5, 7]\n",
    "length = len(numbers)\n",
    "smallest = min(numbers)\n",
    "biggest = max(numbers)\n",
    "total = sum(numbers)\n",
    "print(f'Length: {length}, Min: {smallest}, Max: {biggest}, Sum: {total}')"
   ]
  },
  {
   "cell_type": "markdown",
   "metadata": {
    "slideshow": {
     "slide_type": "subslide"
    }
   },
   "source": [
    "## 2.4 List Methods\n",
    "\n",
    "Lists have numerous methods that you can use to manipulate a list.\n",
    "\n",
    "You use `list_name.method_name()` to call a method that work on a list.\n",
    "\n",
    "It is important to differentiate an in-place modification and an operation that returns a new list. Both `+` and slicing return a new list."
   ]
  },
  {
   "cell_type": "markdown",
   "metadata": {
    "slideshow": {
     "slide_type": "subslide"
    }
   },
   "source": [
    "### Method Examples\n",
    "\n",
    "- `list_name.append(element)`: add an element to the end of the list. \n",
    "- `list_name.index(element)`: find the first index of an element, raise a `ValueError` if the item is not found. To avoid exception, use `element in list_name` to check the existence first.\n",
    "- `list_name.insert(index, element)`: insert an item at the specified index.\n",
    "- `list_name.sort()`: sort the items in the list.\n",
    "\n",
    "You can find more list methods in [Python List Document](https://docs.python.org/3/tutorial/datastructures.html)."
   ]
  },
  {
   "cell_type": "code",
   "execution_count": null,
   "metadata": {
    "slideshow": {
     "slide_type": "subslide"
    }
   },
   "outputs": [],
   "source": [
    "numbers = [3, 5, 7]\n",
    "n2 = numbers\n",
    "n3 = numbers[:2]\n",
    "numbers.append(42) \n",
    "print(numbers) # [3, 5, 7, 42]\n",
    "\n",
    "if (5 in numbers):\n",
    "    print(numbers.index(5)) # 1\n",
    "\n",
    "\n",
    "numbers.insert(1, 50)\n",
    "print(numbers) # [3, 50, 5, 7, 42]\n",
    "\n",
    "numbers.sort()\n",
    "print(numbers) # [3, 5, 7, 42, 50]\n",
    "print(n2)\n",
    "print(n3)"
   ]
  },
  {
   "cell_type": "markdown",
   "metadata": {
    "slideshow": {
     "slide_type": "subslide"
    }
   },
   "source": [
    "## 2.5 Nested List\n",
    "\n",
    "A list can have other lists as its elements. There is nothing special for nested lists, you just use the index to access each element in a list. For example:"
   ]
  },
  {
   "cell_type": "code",
   "execution_count": null,
   "metadata": {
    "slideshow": {
     "slide_type": "fragment"
    }
   },
   "outputs": [],
   "source": [
    "numbers = [1, [2, 3], [4, 5, 6]]\n",
    "numbers[1].append(42)\n",
    "del numbers[2][2]\n",
    "print(numbers)"
   ]
  },
  {
   "cell_type": "markdown",
   "metadata": {
    "slideshow": {
     "slide_type": "subslide"
    }
   },
   "source": [
    "## 2.6 List as Mutable Argument\n",
    "\n",
    "Be _careful_) when you pass a list as an argument to a function because the list is a mutable object.\n",
    "\n",
    "If the function changes the list value in the function body, the passed-in object changes because an argument is just an alias to the object.\n",
    "\n",
    "It is a best practice that you should not change a mutable argument in a function body. If there is a need, make a copy of the object.\n",
    "\n",
    "However, if elements of a list are mutable, for example, nested lists, you need a deep copy. Check [Python copy document](https://docs.python.org/3/library/copy.html?highlight=deep%20copy) for more details."
   ]
  },
  {
   "cell_type": "code",
   "execution_count": null,
   "metadata": {},
   "outputs": [],
   "source": [
    "def report_sum(numbers):\n",
    "    numbers.append(10)\n",
    "    print(sum(numbers))\n",
    "\n",
    "scores = [3, 5, 7]\n",
    "print(f\"before call scores are {scores}\")\n",
    "\n",
    "report_sum(scores)\n",
    "print(f\"after call scores are {scores}\")\n",
    "\n",
    "def report_sum2(numbers):\n",
    "    new_numbers = numbers.copy()\n",
    "    new_numbers.append(10)\n",
    "    print(sum(new_numbers))\n",
    "\n",
    "scores = [3, 5, 7]\n",
    "print(f\"before call scores are {scores}\")\n",
    "\n",
    "report_sum2(scores)\n",
    "print(f\"after call scores are {scores}\")"
   ]
  },
  {
   "cell_type": "markdown",
   "metadata": {
    "slideshow": {
     "slide_type": "subslide"
    }
   },
   "source": [
    "## 2.7 A Stack\n",
    "\n",
    "A stack is a data structure that stores elements in an last in, first out (LIFO) manner. For example, Python runtime uses stack to manage calls -- named as a _call stack_. A stack supports two basic methods: \n",
    "\n",
    "- `append` that adds an element to the top of a stack. The operation is often called `push`\n",
    "- `pop` that pops an element from the top of a stack.\n",
    "\n",
    "When using a list to implement a stack, the _top_ is the end of a list. You can `append` (also called push in stack) an element and `pop` an element. Both operate at the end of a list."
   ]
  },
  {
   "cell_type": "code",
   "execution_count": null,
   "metadata": {
    "slideshow": {
     "slide_type": "subslide"
    }
   },
   "outputs": [],
   "source": [
    "numbers = [1, 2, 3]\n",
    "numbers.append(37)\n",
    "numbers.append(42)\n",
    "top = numbers.pop()\n",
    "print(top)"
   ]
  },
  {
   "cell_type": "markdown",
   "metadata": {},
   "source": [
    "# 2 Tuple\n",
    "\n",
    "## 3.3 Tuple Basics\n",
    "\n",
    "- Tuple is an unnamed immutable composite value: `(1, 3, 5)`\n",
    "- Import `namedtuple` to use a named tuple allows the programmer to define a new simple data type that consists of named attributes.\n",
    "\n",
    "There are functions and methods working with a tuple."
   ]
  },
  {
   "cell_type": "markdown",
   "metadata": {},
   "source": [
    "## 3 Set\n",
    "\n",
    "A set is an unordered collection of unique elements. Sets have the following properties:\n",
    "\n",
    "- Elements are **unordered**: Elements in the set do not have a position or index.\n",
    "- Elements are **unique**: No elements in the set share the same value.\n",
    "\n",
    "There are functions and methods working with a set. Using `in` operator to check membership is probably the most used operation in set."
   ]
  },
  {
   "cell_type": "markdown",
   "metadata": {
    "slideshow": {
     "slide_type": "slide"
    }
   },
   "source": [
    "# 4 Dictionary\n",
    "\n",
    "A dictionary is an _unordered_ collection of elements where each element has two parts: a key and a value. Or you can say that an element is a key-value pair.\n",
    "\n",
    "The key can be any object as long as it is _immutable_. Common key types include `int` and `string`.\n",
    "\n",
    "People use dictionaries to store key-value pairs thus it is easy to find out a value. For example, you use `student_id` to retrieve a student object."
   ]
  },
  {
   "cell_type": "markdown",
   "metadata": {
    "slideshow": {
     "slide_type": "subslide"
    }
   },
   "source": [
    "## 4.1 Create a Dictionary\n",
    "\n",
    "You use `{}` to create a dictionary. The `{}` creates an empty dictionary. You can use a dictionary variable as a boolean expression to check if it is empty. To create elements, create a sequence of `key: value` pairs separated by `,`.\n",
    "\n",
    "Another approach to create a dictionary is using the built-in `dict()` function. The argument is a sequence of key-value pairs. If the keys are simple string, you can call it using keyword arguments. "
   ]
  },
  {
   "cell_type": "code",
   "execution_count": null,
   "metadata": {
    "slideshow": {
     "slide_type": "subslide"
    }
   },
   "outputs": [],
   "source": [
    "empty_dict = {}\n",
    "print(empty_dict)\n",
    "\n",
    "students = {90: 'Alice', 27: 'Bob', 50: 'Cindy'}\n",
    "print(students)\n",
    "\n",
    "more_students = {90: 'Alice', 27: 'Bob', 90: 'Cindy', 200: 'Mike'}\n",
    "print(more_students)\n",
    "\n",
    "\n",
    "# use the dict() built-in function\n",
    "students = dict([(90, 'alice'),  (27,  'bob')])\n",
    "print(students)\n",
    "\n",
    "my_dict = dict(A='alice', B='Bob')\n",
    "print(my_dict)"
   ]
  },
  {
   "cell_type": "markdown",
   "metadata": {
    "slideshow": {
     "slide_type": "subslide"
    }
   },
   "source": [
    "## 4.2 Read or Write a Dictionary Element\n",
    "\n",
    "You uses the `dictionary_name[key]` to access an individual element.\n",
    "\n",
    "You can read or update the value in the key-value pair. There is no way to change the key because it is immutable.\n",
    "\n",
    "Be careful, there are two cases that could be wrong in using dictionaries: \n",
    "\n",
    "- A non exist key throws a `KeyError` exception. To avoid it, use `get` method with a specified default value. For example: `students.get(42, 'Unknown')`\n",
    "- when the `dictionary_name[key]` is on the left hand side, you set a new value for an existing key or create a new key-value pair if the key doesn't exist. Any typo in the key name could be a big bug."
   ]
  },
  {
   "cell_type": "code",
   "execution_count": null,
   "metadata": {
    "slideshow": {
     "slide_type": "subslide"
    }
   },
   "outputs": [],
   "source": [
    "students = {90: 'Alice', 27: 'Bob', 50: 'Cindy'}\n",
    "\n",
    "# read a value for a key\n",
    "name_with_id_90 = students[90]\n",
    "print(name_with_id_90)\n",
    "\n",
    "# change a value for a key\n",
    "students[90] = 'Mike'\n",
    "print(students[90])\n",
    "\n",
    "# add a new key-value pair because 97 doesn't exist\n",
    "students[97] = 'Bill'\n",
    "print(students)\n",
    "\n",
    "# reading a value for a non-exist key throws a KeyError exception\n",
    "name_nobody = students[404]"
   ]
  },
  {
   "cell_type": "markdown",
   "metadata": {
    "slideshow": {
     "slide_type": "subslide"
    }
   },
   "source": [
    "## 4.3 Other Operations\n",
    "\n",
    "The built-in `len` function tells how many elements in a dictionary.\n",
    "\n",
    "The `in` and `not in` operators test whether a key exists in a dictionary.\n",
    "\n",
    "The `del` operator delete a key-value pair from a dictionary if the specified key exists, otherwise, it throws a `KeyError` exception. The syntax is `del dictionary_name[key]`. To avoid exception, use `in` to make sure the key is there before `del`."
   ]
  },
  {
   "cell_type": "code",
   "execution_count": null,
   "metadata": {
    "slideshow": {
     "slide_type": "subslide"
    }
   },
   "outputs": [],
   "source": [
    "month_days = {'Jan': 31, 'Apr': 30, 'Jul': 31}\n",
    "\n",
    "print(f'It has {len(month_days)} elements')\n",
    "\n",
    "if 'Jan' in month_days:\n",
    "    print('Jan is in the dictionary')\n",
    "\n",
    "if 'Feb' not in month_days:\n",
    "    print('Feb is not in the dictionary')\n",
    "\n",
    "\n",
    "if 'Jan' in month_days:\n",
    "    del month_days['Jan']\n",
    "    print(month_days)\n",
    "\n",
    "# throw a KeyError exception because the key doesn't exist\n",
    "del month_days['Jan']\n",
    "print(month_days)"
   ]
  },
  {
   "cell_type": "markdown",
   "metadata": {},
   "source": [
    "## 4.4 Iterate a Dictionary\n",
    "\n",
    "- You can use `for key in dictionary_name:` to iterate over all keys of a dictionary. Then you use `dictionary_name[key]` to access each value.\n",
    "- The `items` method returns a sequence of key-value pairs. Therefore, you can use `for key, value in dictionary_name.items():` to iterate over a dictionary.\n",
    "- The `values()` method returns all values. Don't assume any order of the return values!\n",
    "- The `keys()` method returns all keys."
   ]
  },
  {
   "cell_type": "code",
   "execution_count": null,
   "metadata": {},
   "outputs": [],
   "source": [
    "month_days = {'Jan': 31, 'Apr': 30, 'Jul': 31}\n",
    "\n",
    "for month in month_days:\n",
    "    print(f'{month} has {month_days[month]} days')\n",
    "\n",
    "\n",
    "for month, days in month_days.items():\n",
    "    print(f'{month} has {days} days')\n",
    "\n",
    "days_sequence = month_days.values()\n",
    "for days in days_sequence:\n",
    "    print(days, end=' ')\n",
    "print()\n",
    "\n",
    "for key in month_days.keys():\n",
    "    print(f'Month key is {key}', end='; ')\n",
    "print()"
   ]
  },
  {
   "cell_type": "markdown",
   "metadata": {},
   "source": [
    "## 4.5 More Methods\n",
    "\n",
    "The dictionary has more methods. The following is a list of commonly-used methods. Try them.\n",
    "\n",
    "- `clear`: clear all elements\n",
    "- `pop`: return the value and remove the key-value pair. For example: `month_days.pop('Jan')`.\n",
    "- `popitem`: remove the latest inserted element the dictionary, return the removed element. For example: `month_days.popitem()`.\n",
    "\n",
    "Exercise: please write a phone book program that lets users to input and query phone book by first name or phone number. The search should be case-insensitive. "
   ]
  }
 ],
 "metadata": {
  "kernelspec": {
   "display_name": "Python 3.10.6 64-bit",
   "language": "python",
   "name": "python3"
  },
  "language_info": {
   "codemirror_mode": {
    "name": "ipython",
    "version": 3
   },
   "file_extension": ".py",
   "mimetype": "text/x-python",
   "name": "python",
   "nbconvert_exporter": "python",
   "pygments_lexer": "ipython3",
   "version": "3.11.4"
  },
  "metadata": {
   "interpreter": {
    "hash": "aee8b7b246df8f9039afb4144a1f6fd8d2ca17a180786b69acc140d282b71a49"
   }
  },
  "orig_nbformat": 2,
  "vscode": {
   "interpreter": {
    "hash": "949777d72b0d2535278d3dc13498b2535136f6dfe0678499012e853ee9abcab1"
   }
  }
 },
 "nbformat": 4,
 "nbformat_minor": 2
}
