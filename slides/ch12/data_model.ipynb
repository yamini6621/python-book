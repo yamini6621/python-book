{
 "cells": [
  {
   "cell_type": "markdown",
   "metadata": {
    "slideshow": {
     "slide_type": "slide"
    }
   },
   "source": [
    "# Python Data Model\n",
    "\n",
    "> Coding like poetry should be short and concise. ―Santosh Kalwar\n",
    "\n",
    "- Overview\n",
    "- Special Methods\n",
    "- Number and Boolean Value\n",
    "- Collection\n",
    "- Callable (?) \n",
    "- Class\n",
    "- Metaprogramming"
   ]
  },
  {
   "cell_type": "markdown",
   "metadata": {
    "slideshow": {
     "slide_type": "subslide"
    }
   },
   "source": [
    "## Motivation\n",
    "\n",
    "There are three basic requirements in design of data operations:\n",
    "\n",
    "- Consistent: it is easy to predict the behaviors of a new construct instance.\n",
    "- Composable: constructs can be selected and assembled in various combinations to enable desired behaviors.\n",
    "- Open: developers can create new types that work in the same way as the built-in types and standard library types."
   ]
  },
  {
   "cell_type": "markdown",
   "metadata": {
    "slideshow": {
     "slide_type": "subslide"
    }
   },
   "source": [
    "## Language Constructs\n",
    "\n",
    "Python language constructs can be classified into four categories:\n",
    "\n",
    "- built-in operators such as `+`, `-`, `>=`, list index `[]`, function call `()`, and so on.\n",
    "- built-in functions such as `len()`, `repr()`, `bool()`, etc.\n",
    "- specific syntax such as `for` loop statement and `with` context manager statement.\n",
    "- built-in types and new type definitions (`class`). \n"
   ]
  },
  {
   "cell_type": "markdown",
   "metadata": {
    "slideshow": {
     "slide_type": "subslide"
    }
   },
   "source": [
    "## Python Data Model\n",
    "\n",
    "Python *data model* is the set of APIs that defines the interfaces of language constructs that satisfies the three basic requirements:\n",
    "\n",
    "- consistent: it is standardized by Python language specification and PEPs.\n",
    "- Composable: the APIs work well with each other.\n",
    "- Open: new objects fit well with the Python language syntax.\n",
    "\n",
    "It is defined in Python Language Reference [Data Model](https://docs.python.org/3/reference/datamodel.html)."
   ]
  },
  {
   "cell_type": "markdown",
   "metadata": {},
   "source": [
    "## Pythonic\n",
    "\n",
    "> \"There should be one-- and preferably only one --obvious way to do it.\"  - The Zen of Python\n",
    "\n",
    "Python promotes an idiomatic coding style, the so-called *Pythonic* style, that leverages Python data model and demonstrates idiomatic language features.\n",
    "\n",
    "For example, to find an object's length, you use the built-in `len()` function, not a function like `length()`/`size()`, or a method like `my_object.len()` or `my_object.size()`.\n",
    "\n",
    "Every Python developers should be familiar with common Python idioms. Following are two resources:\n",
    "\n",
    "- [Python Programming/Idioms](https://en.wikibooks.org/wiki/Python_Programming/Idioms)\n",
    "- [Idiomatic Python](https://intermediate-and-advanced-software-carpentry.readthedocs.io/en/latest/idiomatic-python.html)"
   ]
  },
  {
   "cell_type": "markdown",
   "metadata": {
    "slideshow": {
     "slide_type": "slide"
    }
   },
   "source": [
    "# Special Methods\n",
    "\n",
    "The Python data model is a set of APIs. The APIs are defined as a set of standard *special methods*.\n",
    "\n",
    "All special methods follow a special naming style: starting and ending with double underscores: `__*__`. They are known as *dunder* (double underscore) methods.\n",
    "\n",
    "Developers *should not* create or use any dunder identifier not standardized by the language reference because they are subject to breakage without warning in future Python versions.\n",
    "\n",
    "In a Python interpreter, built-in functions, operators, and special syntax invoke these special class methods to perform data operations."
   ]
  },
  {
   "cell_type": "markdown",
   "metadata": {
    "slideshow": {
     "slide_type": "subslide"
    }
   },
   "source": [
    "## Build-in Functions\n",
    "\n",
    "`len()` invokes the `__len__()` method to get the length/size of an object.\n",
    "\n",
    "`repr()` invokes the `__repr()` method to compute the string representation (serialized string) of an object. It is used by developer for debugging purpose.\n",
    "\n",
    "`str()`, `format()`, and `print()` invokes `__str__()` method to compute a user friendly representation of an object. The default implementation of `object` calls `object.__repr__()`."
   ]
  },
  {
   "cell_type": "markdown",
   "metadata": {
    "slideshow": {
     "slide_type": "subslide"
    }
   },
   "source": [
    "## Built-in Operators\n",
    "\n",
    "`+` invokes the `__add__()` method on its left operand. If the first operand doesn't define the `__add__()` method, it invokes `__radd__()` method of the right operand. If both are not defined, it returns `NotImplemented` exception.\n",
    "\n",
    "`==` invokes the `__eq__()` method. By default, object implements __eq__() by using `is` that checks if two references point to the same object. In most cases, this is not what you want and you should implement the `__eq__()` method. \n",
    "\n",
    "`self[key]` invokes `self.__getitem__(self, key)` for sequence type where `key` is an integer and mapping type where `key` is any immutable value.\n",
    "\n",
    "Method call `self(...)` invokes `self.__call__(self, ...)`. If a class defines `__call__(self, ...)` method, its instances are callable using syntax `instance(...)`."
   ]
  },
  {
   "cell_type": "markdown",
   "metadata": {
    "slideshow": {
     "slide_type": "subslide"
    }
   },
   "source": [
    "## Special Syntax\n",
    "\n",
    "`for` statement uses `__iter__` method to loop over items of a collection.\n",
    "\n",
    "`with` statement uses `__enter__` and `__exit__` methods to manage object context. Classes deal with file, database, and network should use the two methods to manage resources."
   ]
  },
  {
   "cell_type": "markdown",
   "metadata": {
    "slideshow": {
     "slide_type": "subslide"
    }
   },
   "source": [
    "## Built-in Types and New Types\n",
    "\n",
    "Python defines a set of built-in types. Each type has a set of valid operations. New types are defined using `class` to emulate the built-in type behaviors. Following sections will give examples emulating built-in types and customizing new type creation.\n",
    "\n",
    "- Number and Bool\n",
    "- Collection\n",
    "- Class and Metaclass"
   ]
  },
  {
   "cell_type": "markdown",
   "metadata": {
    "slideshow": {
     "slide_type": "slide"
    }
   },
   "source": [
    "# Emulating Numeric Operations\n",
    "\n",
    "Python is a high level programming language that has built-in numeric operators and functions such as `+`, `-` (unary negation or binary subtraction), `*`, `/`, `//` (floor division), `%`, `**`, `<`, `<=`, `==`, `!=`, `>`, `>=`, `abs`, `&` (bitwise And), `~` (bitwise inversion), `^` (bitwise XOR), `|` (bitwise Or), and so on.\n",
    "\n",
    "Each of these operators or functions has one or more corresponding special methods. For example, `+` invokes either `__add__` of its left operand or `__radd__` of its second operand if the `__add__` is not defined by the left operand.\n",
    "\n",
    "If a new type defines the corresponding methods, an instance of the type can be operands of the built-in operators and functions"
   ]
  },
  {
   "cell_type": "markdown",
   "metadata": {
    "slideshow": {
     "slide_type": "subslide"
    }
   },
   "source": [
    "## `+` and `*` Operators\n",
    "\n",
    "As an example, the following code defines a new `Vector` type that works well with `+` and\n",
    "`*`. It also defines `__repr__` to have a better string representation of the data."
   ]
  },
  {
   "cell_type": "code",
   "execution_count": null,
   "metadata": {},
   "outputs": [],
   "source": [
    "class Vector:\n",
    "\n",
    "    def __init__(self, x=0, y=0):\n",
    "        self.x = x\n",
    "        self.y = y\n",
    "    \n",
    "    def __add__(self, other):\n",
    "        x = self.x + other.x\n",
    "        y = self.y + other.y\n",
    "        return Vector(x, y)\n",
    "    \n",
    "    # scalar multiplication\n",
    "    def __mul__(self, number):\n",
    "        x = self.x * number\n",
    "        y = self.y * number\n",
    "        return Vector(x, y)\n",
    "    \n",
    "    # a string representation\n",
    "    # the x!r conversion flag means `repr(x)`\n",
    "    def __repr__(self):\n",
    "        return f\"Vector({self.x!r}, {self.y!r})\"\n",
    "\n",
    "\n",
    "point_1 = Vector(2, 4)\n",
    "point_2 = Vector(3, 5)\n",
    "point_3 = point_1 + point_2\n",
    "point_4 = point_3 * 10\n",
    "\n",
    "print(point_3, point_4) # Vector(5, 9) Vector(50, 90)"
   ]
  },
  {
   "cell_type": "markdown",
   "metadata": {},
   "source": [
    "## Boolean Value\n",
    "\n",
    "Any Python object can be used in a boolean context or be an operand of built-in `bool()` function. Boolean context include conditions in `if` or `while` statement, or as operands of `and`, `or`, and `not` logical operators. Every object is either *truthy* or *falsy* in a boolean context.\n",
    "\n",
    "By default, any instance of a new type is truthy unless either `__bool__()` or `__len__()` method is defined in the type. In a boolean context or a call of `bool()`, the `__bool()__`  method is called. If the `__bool__()` method is not defined, Python calls `__len__()` method. If the result is 0, it is falsy or `False`. Otherwise, it is truthy or `True`.\n",
    "\n",
    "The `Vector` type has an additional `__bool__()` method in the following code:"
   ]
  },
  {
   "cell_type": "code",
   "execution_count": null,
   "metadata": {},
   "outputs": [],
   "source": [
    "class Vector:\n",
    "\n",
    "    def __init__(self, x=0, y=0):\n",
    "        self._x = x\n",
    "        self._y = y\n",
    "    \n",
    "    def __add__(self, other):\n",
    "        x = self._x + other._x\n",
    "        y = self._y + other._y\n",
    "        return Vector(x, y)\n",
    "    \n",
    "    # scalar multiplication\n",
    "    def __mul__(self, number):\n",
    "        x = self._x * number\n",
    "        y = self._y * number\n",
    "        return Vector(x, y)\n",
    "    \n",
    "    # a string representation\n",
    "    # the x!r conversion flag means `repr(x)`\n",
    "    def __repr__(self):\n",
    "        return f\"Vector({self._x!r}, {self._y!r})\"\n",
    "    \n",
    "    def __bool__(self):\n",
    "        return bool(self._x) or bool(self._y)\n",
    "\n",
    "\n",
    "point_1 = Vector()\n",
    "point_2 = Vector(3, 5)\n",
    "\n",
    "print(bool(point_1), bool(point_2)) # False True"
   ]
  },
  {
   "cell_type": "markdown",
   "metadata": {
    "slideshow": {
     "slide_type": "slide"
    }
   },
   "source": [
    "# Collection\n",
    "\n",
    "Python built-in collection types include `str`, `list`, `tuple`, `range`, `set`, `dict`, and so on. They all have three special methods:\n",
    "\n",
    "- `__len__()` to support built-in `len()` function or `bool()` function.\n",
    "- `__iter__()` to support `for`, unpacking, and other iteration operations.\n",
    "- `__contains__` to support `in` operator.\n",
    "\n",
    "Except `set`, all collection types support getting a value by a key (an index or any immutable object) using syntax `obj[key]`. It is equivalent to `type(obj).__getitem__(obj, key)`. The `__getitem__` can also be used to support iteration without defining `__iter__` method.\n",
    "\n",
    "By implementing the corresponding special methods, a new type can emulate a built-in collection type the works well in a Pythonic style."
   ]
  },
  {
   "cell_type": "code",
   "execution_count": null,
   "metadata": {},
   "outputs": [],
   "source": [
    "from collections import namedtuple\n",
    "\n",
    "Item = namedtuple(\"Item\", \"name quantity\")\n",
    "\n",
    "class ShoppingList:\n",
    "    def __init__(self, items):\n",
    "        self.items = items\n",
    "        self.names = [name for (name, _) in items]\n",
    "\n",
    "    def __getitem__(self, index):\n",
    "        return self.items[index]\n",
    "    \n",
    "    def __len__(self):\n",
    "        return len(self.items)\n",
    "    \n",
    "    def __contains__(self, name):\n",
    "        return name in self.names\n",
    "\n",
    "\n",
    "milk = Item(\"Milk\", 1)\n",
    "banana = Item(\"Banana\", 5)\n",
    "bread = Item(\"Bread\", 2)\n",
    "my_list = ShoppingList([milk, banana, bread])\n",
    "\n",
    "for item in my_list:\n",
    "    print(item) # print each item\n",
    "\n",
    "print(f\"There are {len(my_list)} items.\") # There are 3 items.\n",
    "\n",
    "has_milk = \"Milk\" in my_list\n",
    "has_chip = \"Chip\" in my_list\n",
    "print(has_milk, has_chip)  # True False"
   ]
  },
  {
   "cell_type": "markdown",
   "metadata": {
    "slideshow": {
     "slide_type": "slide"
    }
   },
   "source": [
    "# Class\n",
    "\n",
    "Python has a set of special methods that can be used to customize the class definition. These methods include:\n",
    "\n",
    "- Instance creation and destruction: `__new__`, `__init__`, `__del__`. You use these methods to customize instance creation, initialization and deletion.\n",
    "- Attribute management: `__getattribute__`, `__getattr__`, `__setattr__`, and so on. You use these methods to control the `.` attribute access behavior of a class and its instances.\n",
    "- Class creation: `__init_subclass__`, class decorator, metaclass, and so on. These are advanced methods often used in framework or libraries to customize the class creation."
   ]
  },
  {
   "cell_type": "markdown",
   "metadata": {
    "slideshow": {
     "slide_type": "subslide"
    }
   },
   "source": [
    "## The `__init__(self, ...)` Method\n",
    "\n",
    "Most classes define the `__init(self, ...)__` method to set attributes of an instance of the class. There are some questions for this method:\n",
    "\n",
    "- When is it called? You might know the answer: it is called when you create an instance by calling a `cls(...)` where `cls` is a class name. You almost never call this method directly.\n",
    "- The `__init__(self, ...)__` returns nothing, how could Python create the instance? It is not clear.\n",
    "- Where does the first argument `self` come from? It is not clear.\n",
    "\n",
    "There is more to explain about the instance creation.\n"
   ]
  },
  {
   "cell_type": "markdown",
   "metadata": {
    "slideshow": {
     "slide_type": "subslide"
    }
   },
   "source": [
    "## Instance Creation\n",
    "\n",
    "There are two steps to create an instance of a class:\n",
    "\n",
    "- `__new__()` static method creates a new instance. It is the *constructor* method. Its first argument is a class, often named as `cls`. It returns a new instance that is passed to the next initialization step.\n",
    "- `__init()__` instance *initializer* method that set the attributes of an instance. Its first argument is the newly created instance, often named as `self`. It has no return value.\n",
    "\n",
    "All classes are subclass of the `object` base class. If a class doesn't define any of the method, Python calls the default implementation defined in the `object` base class. "
   ]
  },
  {
   "cell_type": "markdown",
   "metadata": {
    "slideshow": {
     "slide_type": "subslide"
    }
   },
   "source": [
    "## `__new__()` Use Cases\n",
    "\n",
    "You rarely need to define `__new__()`. It is often used to develop frameworks or libraries.\n",
    "\n",
    "`__new__()` is mainly used to define subclasses of immutable types (like `int`, `str`, or `tuple`) to customize instance attributes because it is too late to change anything once the instance is created.\n",
    "\n",
    "It is also used in a metaclass in order to customize class creation.\n",
    "\n",
    "Following is an example that create a `Name` instance that has titled string. The first char is an uppercase one. Because `str` is immutable, you cannot change it in `__init__()` method.\n"
   ]
  },
  {
   "cell_type": "code",
   "execution_count": null,
   "metadata": {},
   "outputs": [],
   "source": [
    "class Name:\n",
    "    def __new__(cls, name):\n",
    "        instance = super().__new__(cls)\n",
    "        instance.name = name.title()\n",
    "        return instance\n",
    "    \n",
    "    def __repr__(self) -> str:\n",
    "        return self.name\n",
    "    \n",
    "\n",
    "name1 = Name(\"alice\")\n",
    "name2 = Name(\"BOB\")\n",
    "\n",
    "print(name1, name2) # Alice Bob"
   ]
  },
  {
   "cell_type": "markdown",
   "metadata": {
    "slideshow": {
     "slide_type": "subslide"
    }
   },
   "source": [
    "## Dynamic Attributes\n",
    "\n",
    "The `__getattribute__(self, name)` and `__getattr__(self, name)` are called when the `name` attribute is not found in the current object. Therefore, they are used to define dynamic (computed) attribute value or raise `AttributeError` if the requested name is invalid.\n",
    "\n",
    "The `__setattr__(self, name, value)` method is called whenever an attribute is assigned a value on an instance. You can define this method in your class to control and customize the behavior of attribute assignment.\n",
    "\n",
    "The class *property* use the attribute management methods to create the read/write attributes. You should use property to define dynamic attributes.\n",
    "\n",
    "The attribute management special methods are rarely needed in applications."
   ]
  },
  {
   "cell_type": "markdown",
   "metadata": {
    "slideshow": {
     "slide_type": "slide"
    }
   },
   "source": [
    "# Metaprogramming\n",
    "\n",
    "Python provides several approaches to customize class creation in frameworks or libraries. \n",
    "\n",
    "- `__init_subclass__`: allow a base class to customize its subclass behaviors.\n",
    "- class decorator: it takes a class as an argument and returns a decorated class with desired behavior.\n",
    "- metaclass: define the behavior and structure of other classes.\n",
    "\n",
    "These are advanced topics that customize the class behavior - so-called metaprogramming. Python tools/frameworks such as `@dataclass` and Django uses metaprogramming to make it easy to develop application. An application developer rarely use them directly but it is better to know the concepts."
   ]
  },
  {
   "cell_type": "markdown",
   "metadata": {},
   "source": [
    "## Motivation"
   ]
  },
  {
   "cell_type": "markdown",
   "metadata": {
    "slideshow": {
     "slide_type": "subslide"
    }
   },
   "source": [
    "## Metaclass\n",
    "\n",
    " Metaclass is the most advanced and most capable approach to customize class creation. However, it is the most complex one that should be avoided if other approaches work for you.\n",
    "\n",
    " The following is a brief introduction of metaclass - a deep magic in Python."
   ]
  }
 ],
 "metadata": {
  "kernelspec": {
   "display_name": "Python 3",
   "language": "python",
   "name": "python3"
  },
  "language_info": {
   "codemirror_mode": {
    "name": "ipython",
    "version": 3
   },
   "file_extension": ".py",
   "mimetype": "text/x-python",
   "name": "python",
   "nbconvert_exporter": "python",
   "pygments_lexer": "ipython3",
   "version": "3.11.4"
  },
  "orig_nbformat": 4
 },
 "nbformat": 4,
 "nbformat_minor": 2
}
