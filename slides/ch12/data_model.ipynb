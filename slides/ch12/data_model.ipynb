{
 "cells": [
  {
   "cell_type": "markdown",
   "metadata": {
    "slideshow": {
     "slide_type": "slide"
    }
   },
   "source": [
    "# Python Data Model\n",
    "\n",
    "> Coding like poetry should be short and concise. ―Santosh Kalwar\n",
    "\n",
    "- Overview\n",
    "- Special Methods\n",
    "- Number and Bool\n",
    "- Collection\n",
    "- Class and Metaclass"
   ]
  },
  {
   "cell_type": "markdown",
   "metadata": {
    "slideshow": {
     "slide_type": "subslide"
    }
   },
   "source": [
    "## Motivation\n",
    "\n",
    "There are three basic requirements in design of data operations:\n",
    "\n",
    "- Consistent: it is easy to predict the behaviors of a new construct instance.\n",
    "- Composable: constructs can be selected and assembled in various combinations to enable desired behaviors.\n",
    "- Open: developers can create new types that work in the same way as the built-in types and standard library types."
   ]
  },
  {
   "cell_type": "markdown",
   "metadata": {
    "slideshow": {
     "slide_type": "subslide"
    }
   },
   "source": [
    "## Language Constructs\n",
    "\n",
    "Python language constructs can be classified into four categories:\n",
    "\n",
    "- built-in operators such as `+`, `-`, `>=`, list index `[]`, function call `()`, and so on.\n",
    "- built-in functions such as `len()`, `repr()`, `bool()`, etc.\n",
    "- specific syntax such as `for` loop statement and `with` context manager statement.\n",
    "- built-in types and new type definitions (`class`). \n"
   ]
  },
  {
   "cell_type": "markdown",
   "metadata": {
    "slideshow": {
     "slide_type": "subslide"
    }
   },
   "source": [
    "## Python Data Model\n",
    "\n",
    "Python *data model* is the set of APIs that defines the interfaces of language constructs that satisfies the three basic requirements:\n",
    "\n",
    "- consistent: it is standardized by Python language specification and PEPs.\n",
    "- Composable: the APIs work well with each other.\n",
    "- Open: new objects fit well with the Python language syntax.\n",
    "\n",
    "It is defined in Python Language Reference [Data Model](https://docs.python.org/3/reference/datamodel.html)."
   ]
  },
  {
   "cell_type": "markdown",
   "metadata": {},
   "source": [
    "## Pythonic\n",
    "\n",
    "> \"There should be one-- and preferably only one --obvious way to do it.\"  - The Zen of Python\n",
    "\n",
    "Python promotes an idiomatic coding style, the so-called *Pythonic* style, that leverages Python data model and demonstrates idiomatic language features.\n",
    "\n",
    "For example, to find an object's length, you use the built-in `len()` function, not a function like `length()`/`size()`, or a method like `my_object.len()` or `my_object.size()`.\n",
    "\n",
    "Every Python developers should be familiar with common Python idioms. Following are two resources:\n",
    "\n",
    "- [Python Programming/Idioms](https://en.wikibooks.org/wiki/Python_Programming/Idioms)\n",
    "- [Idiomatic Python](https://intermediate-and-advanced-software-carpentry.readthedocs.io/en/latest/idiomatic-python.html)"
   ]
  },
  {
   "cell_type": "markdown",
   "metadata": {
    "slideshow": {
     "slide_type": "slide"
    }
   },
   "source": [
    "# Special Methods\n",
    "\n",
    "The Python data model is a set of APIs. The APIs are defined as a set of standard *special methods*.\n",
    "\n",
    "All special methods follow a special naming style: starting and ending with double underscores: `__*__`. They are known as *dunder* (double underscore) methods.\n",
    "\n",
    "Developers *should not* create or use any dunder identifier not standardized by the language reference because they are subject to breakage without warning in future Python versions.\n",
    "\n",
    "In a Python interpreter, built-in functions, operators, and special syntax invoke these special class methods to perform data operations."
   ]
  },
  {
   "cell_type": "markdown",
   "metadata": {
    "slideshow": {
     "slide_type": "subslide"
    }
   },
   "source": [
    "## Build-in Functions\n",
    "\n",
    "`len()` invokes the `__len__()` method to get the length/size of an object.\n",
    "\n",
    "`repr()` invokes the `__repr()` method to compute the string representation (serialized string) of an object. It is used by developer for debugging purpose.\n",
    "\n",
    "`str()`, `format()`, and `print()` invokes `__str__()` method to compute a user friendly representation of an object. The default implementation of `object` calls `object.__repr__()`."
   ]
  },
  {
   "cell_type": "markdown",
   "metadata": {
    "slideshow": {
     "slide_type": "subslide"
    }
   },
   "source": [
    "## Built-in Operators\n",
    "\n",
    "`+` invokes the `__add__()` method on its left operand. If the first operand doesn't define the `__add__()` method, it invokes `__radd__()` method of the right operand. If both are not defined, it returns `NotImplemented` exception.\n",
    "\n",
    "`==` invokes the `__eq__()` method. By default, object implements __eq__() by using `is` that checks if two references point to the same object. In most cases, this is not what you want and you should implement the `__eq__()` method. \n",
    "\n",
    "`self[key]` invokes `self.__getitem__(self, key)` for sequence type where `key` is an integer and mapping type where `key` is any immutable value.\n",
    "\n",
    "Method call `self(...)` invokes `self.__call__(self, ...)`. If a class defines `__call__(self, ...)` method, its instances are callable using syntax `instance(...)`."
   ]
  },
  {
   "cell_type": "markdown",
   "metadata": {
    "slideshow": {
     "slide_type": "subslide"
    }
   },
   "source": [
    "## Special Syntax\n",
    "\n",
    "`for` statement uses `__iter__` method to loop over items of a collection.\n",
    "\n",
    "`with` statement uses `__enter__` and `__exit__` methods to manage object context. Classes deal with file, database, and network should use the two methods to manage resources."
   ]
  },
  {
   "cell_type": "markdown",
   "metadata": {
    "slideshow": {
     "slide_type": "subslide"
    }
   },
   "source": [
    "## Built-in Types and New Types\n",
    "\n",
    "Python defines a set of built-in types. Each type has a set of valid operations. New types can be defined using `class` to emulate the built-in type behaviors. Following sections will give examples emulating built-in types and customizing new type creation.\n",
    "\n",
    "- Number and Bool\n",
    "- Collection\n",
    "- Class and Metaclass"
   ]
  }
 ],
 "metadata": {
  "language_info": {
   "name": "python"
  },
  "orig_nbformat": 4
 },
 "nbformat": 4,
 "nbformat_minor": 2
}
