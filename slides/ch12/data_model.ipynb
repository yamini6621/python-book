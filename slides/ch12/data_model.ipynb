{
 "cells": [
  {
   "cell_type": "markdown",
   "metadata": {
    "slideshow": {
     "slide_type": "slide"
    }
   },
   "source": [
    "# Python Data Model\n",
    "\n",
    "> Coding like poetry should be short and concise. ―Santosh Kalwar\n",
    "\n",
    "- Overview\n",
    "- Special Methods\n",
    "- Number and Bool\n",
    "- Collection\n",
    "- Iterator\n",
    "- Class and Metaclass"
   ]
  },
  {
   "cell_type": "markdown",
   "metadata": {
    "slideshow": {
     "slide_type": "subslide"
    }
   },
   "source": [
    "## Motivation\n",
    "\n",
    "There are three basic requirements in a programming language design:\n",
    "\n",
    "- Consistent: it is easy to predict the behaviors of a new construct instance.\n",
    "- Composable: constructs can be selected and assembled in various combinations to enable desired behaviors.\n",
    "- Open: developers can create new types that work in the same way as the built-in types and standard library types."
   ]
  },
  {
   "cell_type": "markdown",
   "metadata": {
    "slideshow": {
     "slide_type": "subslide"
    }
   },
   "source": [
    "## Python Data Model\n",
    "\n",
    "Python has a number of coding constructs such as numbers, booleans, sequences, iterators, functions, classes, context managers, and so on.\n",
    "\n",
    "Python data model is a set of APIs that defines the interfaces of language constructs.\n",
    "\n",
    "- consistent: it is standardized by Python PEPs.\n",
    "- Composable: the APIs work well with each other.\n",
    "- Open: new objects fit well with the Python language syntax."
   ]
  },
  {
   "cell_type": "markdown",
   "metadata": {},
   "source": [
    "## Pythonic\n",
    "\n",
    "> \"There should be one-- and preferably only one --obvious way to do it.\"  - The Zen of Python\n",
    "\n",
    "Python promotes an idiomatic coding style, the so-called *Pythonic* style, that leverages Python data model and demonstrates idiomatic language features.\n",
    "\n",
    "For example, to find an object's length, you use the built-in `len()` function, not a function like `length()`/`size()`, or a method like `my_object.len()` or `my_object.size()`.\n",
    "\n",
    "Every Python developers should be familiar with common Python idioms. Following are two resources:\n",
    "\n",
    "- [Python Programming/Idioms](https://en.wikibooks.org/wiki/Python_Programming/Idioms)\n",
    "- [Idiomatic Python](https://intermediate-and-advanced-software-carpentry.readthedocs.io/en/latest/idiomatic-python.html)"
   ]
  },
  {
   "cell_type": "markdown",
   "metadata": {},
   "source": [
    "# Special Methods"
   ]
  }
 ],
 "metadata": {
  "language_info": {
   "name": "python"
  },
  "orig_nbformat": 4
 },
 "nbformat": 4,
 "nbformat_minor": 2
}
