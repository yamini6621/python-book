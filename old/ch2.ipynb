{
 "cells": [
  {
   "cell_type": "markdown",
   "metadata": {},
   "source": [
    "# Chapter 2 Notes\n",
    "\n",
    "This is lecture note for Chapter 2.\n",
    "\n",
    "## 2.1 Variable and Assignment\n",
    "\n",
    "### Why variable?\n",
    "\n",
    "You can use string literals and number literals to run some tasks. Number literals are integers (such as `5`) or floats (such as `17.5`). For example: `print('Hi')` or ` 10 / 5`.\n",
    "\n",
    "However, in many situations\n",
    "\n",
    "- you don't know the values when you write the program. You need to read the data from a file or from a user input. \n",
    "- When you defeine a function that consumes inputs and generates outputs, you need to refer to the input values and output values. \n",
    "- Even you have the values used in computation, you still should give it a meaningful name to make the code easier to understand. For example, it is unclear what's the meaning of `17.5` and `5`. \n",
    "\n",
    "You learned from middle school that algebra uses symbols to represent values and symbols are more powerful in solving problems than pure numbers. The variables in Python serves the same purpose.\n",
    "\n",
    "### What is a variable?\n",
    "Variable is a name item (a container) used to hold a value. What’s a variable in computer? Memory address.\n",
    "\n",
    "A variable is a name that represents a value stored in the compute memory (RAM).\n",
    "\n",
    "### Assignment\n",
    "\n",
    "You use an assignment statement to bind a value to a name -- also called variable declaration or variable definition: \n",
    "\n",
    "`variable = expression` \n",
    "\n",
    "In this statement:\n",
    "\n",
    "- `variable` is the name of the variable. The name must be in the left hand side (LHS) of the statement.\n",
    "- `=` is the **assignment operator**. It binds/defines the LHS name to a value. There is a space before and after the operator for better code format.\n",
    "- `expression` is a value or an operation that produces a value. It is in the right hand side (RHS) of the statement.\n",
    "\n",
    "![variable](images/variable.png)\n",
    "\n",
    "Here are some variable declarations:"
   ]
  },
  {
   "cell_type": "code",
   "execution_count": null,
   "metadata": {
    "vscode": {
     "languageId": "plaintext"
    }
   },
   "outputs": [],
   "source": [
    "# declare variables using value literals\n",
    "name = 'Alice'\n",
    "answer = 42\n",
    "course_name = 'Programming in Python'\n",
    "\n",
    "total_score = 17.5\n",
    "number_of_courses = 5\n",
    "\n",
    "# declare a variable using an expression\n",
    "gpa = total_score / number_of_courses\n",
    "\n",
    "print(gpa)"
   ]
  },
  {
   "cell_type": "markdown",
   "metadata": {},
   "source": [
    "As you can see from the output, an assignment doesn't generate any visiable output. It just binds a value to a name. The experssion `total_score / number_of_courses` performs a division and the result is bound to the name `gpa`. It has the correct value of `3.5`.\n",
    "\n",
    "The variable name must be on the left hand side (LHS). The right hand side (RHS) can be a value, an expression or another variable. The following statement is invalid Python code and generates `SyntaxError` when you run it."
   ]
  },
  {
   "cell_type": "code",
   "execution_count": null,
   "metadata": {
    "vscode": {
     "languageId": "plaintext"
    }
   },
   "outputs": [],
   "source": [
    "3.5 = gpa"
   ]
  },
  {
   "cell_type": "markdown",
   "metadata": {},
   "source": [
    "You cannot use a variable without defining it using an assignment statemetn first. You will get a `NameError` and your code crashes at that line."
   ]
  },
  {
   "cell_type": "markdown",
   "metadata": {},
   "source": [
    "x + 1"
   ]
  },
  {
   "cell_type": "markdown",
   "metadata": {},
   "source": [
    "## 2.2 Indetifiers\n",
    "\n",
    "According to the [Two hard things blog](https://martinfowler.com/bliki/TwoHardThings.html):\n",
    ">There are only two hard things in Computer Science: cache invalidation and naming things.\n",
    ">\n",
    ">-- Phil Karlton\n",
    "\n",
    "It might be exaggerated, but naming is really one of the most important decisions in programming. You should think hard to give a variable the most meaningful name thus you and other people can understand the value behind it. \n",
    "\n",
    "Python has simple but strict rules for variable names:\n",
    "\n",
    "- A name must be started with a letter in the range of `a` through `z`, or `A` through `Z`, or an underscore character `_`.\n",
    "- The rest of the name can be any letters in the range of `a` through `z`, `A` through `Z`, 0 through 9, or an underscore character `_`.\n",
    "- The variable name is case sensitive. `score`, `scorE` and `Score` are all different names.\n",
    "- Python keywords such as `if`, `for` cannot be used as variable names because they have special meaning.\n",
    "\n",
    "`x`, `x9`, `_proxy`, `__all__`, `i18n`, `ohmygod`, `course_name` are all valid names because they obey the naming rules. However, `9x`, `42`, `@name`, `My**key`, `price$` are invalid names because they don't start with a valid letter or have invalid letters in the name.\n",
    "\n",
    "### Multi-word Names\n",
    "\n",
    "As you can see, names such as `studentname`, `roomnumber` are clumsy to read and write. Programmers use special terms to describe the multi-word naming mechanism:\n",
    "\n",
    "- `snake_case`: use underscore to seperate each lower case word. It is recommended for naming multi-word variables and source code files in Python.\n",
    "- `kebab-case`: use a dash to seperate lower case words.\n",
    "- `PascalCasing`: each word starts with an uppercase letter.\n",
    "- `camelCasing`: only the first word start with a lower case letter, others start with an upperc case letter.\n",
    "\n",
    "Python uses underscore letter `_` to seperate words in names. The naming conventions are defined in [PEP 8 -- Style Guide for Python Code](https://www.python.org/dev/peps/pep-0008/)\n",
    "\n",
    "### Magic Nubmers\n",
    "\n",
    "A number literal such as `3.1` in an operation such as `3.1 * diameter` is called a **magic number** because it is hard to know the meaning of these numbers. Python style guide recommeds constants are\n",
    "\n",
    ">  written in all capital letters with underscores separating words. Examples include MAX_OVERFLOW and TOTAL. \n",
    "\n",
    "You should aovid using number literals in your code. Whenever it appears, give it a name. For example,\n",
    "\n",
    "\n"
   ]
  },
  {
   "cell_type": "code",
   "execution_count": null,
   "metadata": {
    "vscode": {
     "languageId": "plaintext"
    }
   },
   "outputs": [],
   "source": [
    "INTEREST_RATE = 0.072\n",
    "balance = 100\n",
    "interest = balance * INTEREST_RATE"
   ]
  },
  {
   "cell_type": "markdown",
   "metadata": {},
   "source": [
    "Another benefit of defining constant variables is that you only need to change one place and all its usage will be changes. For example, if the Pi value is used in many places and you define it as `PI = 3.1`. Later you want to use the value of `3.14`, you only need to change the defintion as `PI = 3.14` in one place. It is called **single point of control**.  "
   ]
  },
  {
   "cell_type": "markdown",
   "metadata": {},
   "source": [
    "## 2.3 Objects\n",
    "\n",
    "An object represents a value and is automatically created in memory by the interpreter when executing a line of code. This is a different perspective of values.\n",
    "\n",
    "Deleting unused objects is an automatic process called **garbage collection** that helps to keep the memory of the computer less utilized.\n",
    "\n",
    "**Name binding** is the process of associating names with interpreter objects.\n",
    "\n",
    "Each Python object has three defining properties: value, type, and identity.\n",
    "\n",
    "- Value: A value such as \"20\", \"abcdef\", or 55.\n",
    "- Type: The type of the object, such as integer or string.\n",
    "- Identity: A unique identifier that describes the object.\n",
    "\n",
    "\n",
    "The most important concept for type is that a type has a certain set of operations."
   ]
  },
  {
   "cell_type": "markdown",
   "metadata": {},
   "source": [
    "## 2.8 Module\n",
    "\n",
    "A `module` is a Pyhon code file. Or you can say a Python file is a module. A module usually consists of a set of closely-related functions.\n",
    "\n",
    "Python uses three constructs to organize an application:\n",
    "\n",
    "- a funtion to group statements, in a source code file.\n",
    "- a module to group functions in a Python source code file. One file is a module.\n",
    "- a pacakge to group files, usually in one or more folders. A folder can be a package.\n",
    "\n",
    "The reason is rather simple, putting all functions into a single file is not appropirate for big programs. Putting functions into diffrent files are easy to read/write and easy to collaborate. Packages are used to organize a large functional area. For example, all math functions or network requests.\n",
    "\n",
    "### Use Modules\n",
    "\n",
    "To make it simple, we put all modules in the same folder. In real applications, you may want to use foders to organize files into packages. For beginners, a fold with multiple Python scripts files/modules should be enough to write a non-trivial program.\n",
    "\n",
    "To use a module, you use `import module_name` to import a module. The module name is the Python script file name with the `.py` postfix. Then you can use `module_name.function_name` to call a function defined in the module.\n",
    "\n",
    "### Import and Execution\n",
    "\n",
    "When a module is imported, Python executes the statements in the module. For example, if you change the `constants.py` to the following:\n",
    "\n",
    "```python\n",
    "# constants.py\n",
    "PI = 3.1416\n",
    "\n",
    "print('PI is define')\n",
    "```\n",
    "\n",
    "Then the `import constants` will execute the two statemens: define a variable and print a message.\n",
    "\n",
    "However, if you import a file multiple times, Python only executes it once.\n",
    "\n",
    "### Conditionally Execute `main`\n",
    "\n",
    "Python provides a mechanims to distinguish the two execution modes. When the Python interpreter processes a module, it creates a special variable named `__name__`. It is a convention in Python that variable names started with `_` or `__` are used by the system. The `__name_` has two possible values:\n",
    "\n",
    "- If a module is imported by another module, its `__name__` has a value of the module name, i.e., the filename without the `.py` postfix. For example, if the `circle` module was imported, its `__name__` has a value of `circle`.\n",
    "- If it is executed by Python interprete in command line, the `__name__` has a value of `__main__`.\n",
    "\n",
    "\n",
    "```python\n",
    "if __name__ == '__main__':\n",
    "    print('Execute as a cript')\n",
    "else:\n",
    "    print('Imported as a module')\n",
    "```\n",
    "\n",
    "Try to run the file in a command line and import it from another module. You should see the test output in commandline but not in the imported file.\n"
   ]
  },
  {
   "cell_type": "markdown",
   "metadata": {},
   "source": [
    "## 2.9 Math, Random, and Statistics Module\n",
    "\n",
    "The  `math`, `random` and `statistics` are commonly used built-in modules. You import them and call their functions.\n",
    "\n",
    "### `math` Module\n",
    "\n",
    "Follwing are some commonly used functions in `math` module. Check the [`math` docuemnt](https://docs.python.org/3/library/math.html) for more functions.\n",
    "\n",
    "- `math.pi`: the mathematical constant π = 3.141592…, to available precision.\n",
    "- `math.e`: the mathematical constant e = 2.718281…, to available precision.\n",
    "- `math.sqrt(x)`: return the square root of `x`.\n",
    "- `math.ceil(x)`: return the ceiling of `x`, the smallest integer greater than or equal to x.\n",
    "- `math.abs(x)`: return the absolute value of `x`.\n",
    "\n",
    "### `random` Module\n",
    "\n",
    "Follwing are some commonly used functions in `random` module. Check the [`random` docuemnt](https://docs.python.org/3/library/random.html) for more functions.\n",
    "\n",
    "- `random.randint(m, n)`: generate a random integer number between `m` and `n`, inclusively.\n",
    "- `random.randrange(m, n)`: generate a random integer between `m` and `n-1`.\n",
    "- `random.random()`: generate a random float number betwen `0.0` and `1.0`, exclusively.\n",
    "- `random.random(x, y)`: generate a random float number between `x` and `y`, exclusively.\n",
    "- `random.seed(n)`: set the random generator with a seed `n`. For the same `n`, it genereates a fixed sequence of numbers.\n",
    "\n",
    "Below is an exmple:\n",
    "\n",
    "```python\n",
    "import random\n",
    "\n",
    "MIN = 1\n",
    "MAX = 6\n",
    "SEED = 42\n",
    "\n",
    "# after set a seed, it generates a fix sequnce in multiple run\n",
    "# to see the difference, comment the following line and run multiple times\n",
    "random.seed(SEED)\n",
    "\n",
    "for count in range(10):\n",
    "    number = random.randint(MIN, MAX)\n",
    "    print(f'random number is {number}')\n",
    "```\n",
    "\n",
    "\n",
    "### `statistics` Module\n",
    "\n",
    "Follwing are some commonly used functions in `statistics` module. Check the [`statistics` docuemnt](https://docs.python.org/3/library/statistics.html) for more functions. The `data` parameter in the following examples is a sequence of data such as a list or a range.\n",
    "\n",
    "- `statistics.mean(data)`: the mean of data.\n",
    "- `statistics.median(data)`: the median (middle value) of data.\n",
    "- `statistics.stdev(data)`: the standard deviation of data.\n",
    "\n",
    "For example, `statistics.mean([1, 2, 3, 4, 4])` returns a value of `2.8`."
   ]
  },
  {
   "cell_type": "markdown",
   "metadata": {},
   "source": [
    "## 2.10 Representing Text\n",
    "\n",
    "Python uses Unicode to represent every possible character as a unique number, known as a code point.  Python may use 1, 2, 3, or 4 bytes to reprsent a character. Check [Unicode HOWTO](https://docs.python.org/3.10/howto/unicode.html) for details.\n",
    "\n",
    "Theere are several special escape characters:\n",
    "\n",
    "- Newline: `\\n`\n",
    "- Single quote `\\'`\n",
    "- Tab: `\\t`\n",
    "- Backslash: `\\\\`"
   ]
  }
 ],
 "metadata": {
  "language_info": {
   "name": "python"
  },
  "orig_nbformat": 4
 },
 "nbformat": 4,
 "nbformat_minor": 2
}
