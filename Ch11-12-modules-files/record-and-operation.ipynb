{
 "metadata": {
  "language_info": {
   "codemirror_mode": {
    "name": "ipython",
    "version": 3
   },
   "file_extension": ".py",
   "mimetype": "text/x-python",
   "name": "python",
   "nbconvert_exporter": "python",
   "pygments_lexer": "ipython3",
   "version": "3.8.5-final"
  },
  "orig_nbformat": 2,
  "kernelspec": {
   "name": "Python 3.8.5 64-bit",
   "display_name": "Python 3.8.5 64-bit",
   "metadata": {
    "interpreter": {
     "hash": "aee8b7b246df8f9039afb4144a1f6fd8d2ca17a180786b69acc140d282b71a49"
    }
   }
  }
 },
 "nbformat": 4,
 "nbformat_minor": 2,
 "cells": [
  {
   "source": [
    "# Record and Operations\n",
    "\n",
    "This section gives an exmaple of writing and reading of a text file that has multiple data elements in each line. It also covers the os file operations and ends with file updating."
   ],
   "cell_type": "markdown",
   "metadata": {}
  },
  {
   "source": [
    "## 1 Records and Fields\n",
    "\n",
    "It is a convention for a text file to use `records` and `fields` to organize data.  A `record` is a complete set of data that describe an entity. A record consists a single piece or multiple pieces of data. A single piece of data is called a `field`. For example\n",
    "\n",
    "- an employee entity has `id`, `name`, `department` to describe an employee information. The `id`, `name`, `department` are fields of a record. Each record has data for each employee.\n",
    "- a student may have `name`, `score` to describe the testing score for a student. A course has mulitple records and each record represents one student. The `name`, `score` are fields of a student record.\n"
   ],
   "cell_type": "markdown",
   "metadata": {}
  },
  {
   "source": [
    "## 2 Processing Records\n",
    "\n",
    "There are many ways to process record data in a text file. Two popular options are:\n",
    "\n",
    "- a line as a record: each line represents a record. Use field delimiter to separate different files in a record.\n",
    "- a line as a field: each line represents a field. Use the number of fields to determine the record boundary. For example, for the above employee record that has three fields of `id`, `name` and `department`, three lines form a record.\n",
    "\n",
    "Most applications use the method of `a line as a record` because it is more compact and easy to process. For this method, there are many different ways to delimit the fields in a line. The two most popular methods are:\n",
    "\n",
    "- white space delimiter: it uses a white space character to seprate different fields. The white space characters include ` ` (space), `\\t` (horizontal tab), `\\v` (vertical tab), `\\f` (feed), `\\r` (carriage return). The string method [`split()`](https://docs.python.org/3/library/stdtypes.html#str.split) can be used to split fields of a line. `\\n` (new line) is also a white space character but it is used for record delimiter.\n",
    "- comma separated value (CSV): this is the most common import and export format for spreadsheets and database. Python has a built-in [`csv` module](https://docs.python.org/3/library/csv.html) to process csv files.\n",
    "\n",
    "For simplicity, this document only covers the read/write operation of text files that use white space delimiter."
   ],
   "cell_type": "markdown",
   "metadata": {}
  },
  {
   "source": [
    "## 3 Writing Record\n",
    "\n",
    "Writing is simple because all you need is to write a string that has all the fields and ends with a new line using `write` method. You can separate fields using any white space character but one or more spaces are common. "
   ],
   "cell_type": "markdown",
   "metadata": {}
  },
  {
   "cell_type": "code",
   "execution_count": 1,
   "metadata": {},
   "outputs": [],
   "source": [
    "FILENAME = 'scores.txt'\n",
    "WRITE_MODE = 'w'\n",
    "\n",
    "with open(FILENAME, WRITE_MODE) as names_file:\n",
    "    names_file.write('Alice 97\\n')\n",
    "\n",
    "    # demo of writing variable data\n",
    "    name = 'Bob'\n",
    "    score = 93\n",
    "    names_file.write(f'{name} {score}\\n')\n",
    "\n",
    "    names_file.write('Cindy 95\\n')"
   ]
  },
  {
   "source": [
    "## 4 Reading Record\n",
    "\n",
    "Reading a record needs to get the fields from a record. The `str.split()` makes the task simple. "
   ],
   "cell_type": "markdown",
   "metadata": {}
  },
  {
   "cell_type": "code",
   "execution_count": 2,
   "metadata": {
    "tags": []
   },
   "outputs": [
    {
     "output_type": "stream",
     "name": "stdout",
     "text": [
      "Name: Alice, Score: 97\nName: Bob, Score: 93\nName: Cindy, Score: 95\n"
     ]
    }
   ],
   "source": [
    "FILENAME = 'scores.txt'\n",
    "READ_MODE = 'r'\n",
    "\n",
    "with open(FILENAME, READ_MODE) as names_file:\n",
    "    for line in names_file:\n",
    "        name, score = line.split()\n",
    "        print(f'Name: {name}, Score: {score}')"
   ]
  },
  {
   "source": [
    "The `line.split()` create a list of fields from a text line. You use multple variable names on the left hand side to receive the field values. You can also process the list directly as the following:"
   ],
   "cell_type": "markdown",
   "metadata": {}
  },
  {
   "cell_type": "code",
   "execution_count": 3,
   "metadata": {
    "tags": []
   },
   "outputs": [
    {
     "output_type": "stream",
     "name": "stdout",
     "text": [
      "Field1: Alice, Field2: 97\nField1: Bob, Field2: 93\nField1: Cindy, Field2: 95\n"
     ]
    }
   ],
   "source": [
    "FILENAME = 'scores.txt'\n",
    "READ_MODE = 'r'\n",
    "\n",
    "with open(FILENAME, READ_MODE) as names_file:\n",
    "    for line in names_file:\n",
    "        fields = line.split()\n",
    "        print(f'Field1: {fields[0]}, Field2: {fields[1]}')"
   ]
  },
  {
   "source": [
    "The `fields[0]` and `fields[1]` are used to get the first and second element of a list."
   ],
   "cell_type": "markdown",
   "metadata": {}
  },
  {
   "source": [
    "## 5 Removing and Renaming Files\n",
    "\n",
    "The built-in [`os` module](https://docs.python.org/3/library/os.html) is used to provide operating system functions such as removing, renaming and checking existence of a file. Following is an example."
   ],
   "cell_type": "markdown",
   "metadata": {}
  },
  {
   "cell_type": "code",
   "execution_count": 4,
   "metadata": {
    "tags": []
   },
   "outputs": [
    {
     "output_type": "stream",
     "name": "stdout",
     "text": [
      "[After create] test1.txt exists: True, test2.txt exists: False\n[after rename] test1.txt exists: False, test2.txt exists: True\n[after remove] test1.txt exists: False, test2.txt exists: False\n"
     ]
    }
   ],
   "source": [
    "import os # first import the module\n",
    "\n",
    "FILENAME1 = 'test1.txt'\n",
    "FILENAME2 = 'test2.txt'\n",
    "WRITE_MODE = 'w'\n",
    "\n",
    "def checkExistence(location):\n",
    "    \"\"\"check the existence of the two files\"\"\"\n",
    "    isExist1 = os.path.exists(FILENAME1)\n",
    "    isExist2 = os.path.exists(FILENAME2)\n",
    "    print(f'[{location}] {FILENAME1} exists: {isExist1}, {FILENAME2} exists: {isExist2}')\n",
    "\n",
    "# create a file first\n",
    "with open(FILENAME1, WRITE_MODE) as names_file:\n",
    "    names_file.write('test message\\n')\n",
    "checkExistence('After create')\n",
    "\n",
    "os.rename(FILENAME1, FILENAME2)\n",
    "checkExistence('after rename')\n",
    "\n",
    "os.remove(FILENAME2)\n",
    "checkExistence('after remove')\n",
    "\n"
   ]
  },
  {
   "source": [
    "## 6 Updating Text Files\n",
    "\n",
    "It is simple to append data to a file: just use the append mode using `open(filename, 'a')` and write data. However, update existing file content is tricky because the file content is stored in disk in a fixed format. The following three records:\n",
    "\n",
    "```text\n",
    "Alice 97\n",
    "Bob 93\n",
    "Cindy 95\n",
    "```\n",
    "\n",
    "are stored in a disk as `Alice 97\\nBob 93\\nCindy 95\\n`. It is easy to change a field with a shorter one and leave some spaces. But chaning a field to a longer one will move all later content to a different place. For this reason, the pattern to update file is a multi-step task:\n",
    "\n",
    "- open a source file for read\n",
    "- open a temp file for write\n",
    "- read data from the source file, make required changes and save to the temp file\n",
    "- remove the source file\n",
    "- rename the temp file to the name of the source file\n",
    "\n",
    "The following is an example to change Bob's socre to `90` and change the name `Cindy` to `Cynthia`.\n"
   ],
   "cell_type": "markdown",
   "metadata": {}
  },
  {
   "source": [
    "import os\n",
    "\n",
    "FILENAME = 'scores.txt'\n",
    "TEMP_FILE = 'temp'\n",
    "READ_MODE = 'r'\n",
    "WRITE_MODE = 'w'\n",
    "\n",
    "source_file = open(FILENAME, READ_MODE)\n",
    "temp_file = open(TEMP_FILE, WRITE_MODE)\n",
    "with source_file, temp_file:\n",
    "    for line in source_file:\n",
    "        name, score = line.split()\n",
    "        \n",
    "        if name == 'Bob':\n",
    "            score = 90\n",
    "        \n",
    "        if name == 'Cindy':\n",
    "            name = 'Cynthia'\n",
    "        \n",
    "        temp_file.write(f'{name} {score}\\n')\n",
    "\n",
    "os.remove(FILENAME)\n",
    "os.rename(TEMP_FILE, FILENAME)"
   ],
   "cell_type": "code",
   "metadata": {},
   "execution_count": 5,
   "outputs": []
  }
 ]
}